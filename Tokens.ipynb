{
 "cells": [
  {
   "cell_type": "code",
   "execution_count": 1,
   "metadata": {},
   "outputs": [],
   "source": [
    "import nltk, re, string, collections\n",
    "from nltk.util import ngrams # function for making ngrams\n",
    "import pandas as pd\n",
    "import numpy as np"
   ]
  },
  {
   "cell_type": "code",
   "execution_count": 2,
   "metadata": {},
   "outputs": [],
   "source": [
    "raw=pd.read_csv(\"offer-letter1.csv\")"
   ]
  },
  {
   "cell_type": "code",
   "execution_count": 3,
   "metadata": {},
   "outputs": [
    {
     "data": {
      "text/html": [
       "<div>\n",
       "<style scoped>\n",
       "    .dataframe tbody tr th:only-of-type {\n",
       "        vertical-align: middle;\n",
       "    }\n",
       "\n",
       "    .dataframe tbody tr th {\n",
       "        vertical-align: top;\n",
       "    }\n",
       "\n",
       "    .dataframe thead th {\n",
       "        text-align: right;\n",
       "    }\n",
       "</style>\n",
       "<table border=\"1\" class=\"dataframe\">\n",
       "  <thead>\n",
       "    <tr style=\"text-align: right;\">\n",
       "      <th></th>\n",
       "      <th>English</th>\n",
       "      <th>Adhola</th>\n",
       "    </tr>\n",
       "  </thead>\n",
       "  <tbody>\n",
       "    <tr>\n",
       "      <th>0</th>\n",
       "      <td>We’re just a few formalities away from getting...</td>\n",
       "      <td>wanitye nokinoki iniang i timo tich mawan</td>\n",
       "    </tr>\n",
       "    <tr>\n",
       "      <th>1</th>\n",
       "      <td>Please take the time to review our offer.</td>\n",
       "      <td>Jume teri ye sawa peri i neni gima wamiyo</td>\n",
       "    </tr>\n",
       "    <tr>\n",
       "      <th>2</th>\n",
       "      <td>It includes important details about your compe...</td>\n",
       "      <td>Nitye iye thenethene maberi ma mako kwongi mic...</td>\n",
       "    </tr>\n",
       "    <tr>\n",
       "      <th>3</th>\n",
       "      <td>Ogayo Limited is offering a [full time, part t...</td>\n",
       "      <td>Agoya Limited miyo (sawa jye, adech sawa, kodi...</td>\n",
       "    </tr>\n",
       "    <tr>\n",
       "      <th>4</th>\n",
       "      <td>Expected hours of work are [days of week and h...</td>\n",
       "      <td>sawa ma mitere ma tic obedo [ndelo ma sabiti k...</td>\n",
       "    </tr>\n",
       "  </tbody>\n",
       "</table>\n",
       "</div>"
      ],
      "text/plain": [
       "                                             English  \\\n",
       "0  We’re just a few formalities away from getting...   \n",
       "1          Please take the time to review our offer.   \n",
       "2  It includes important details about your compe...   \n",
       "3  Ogayo Limited is offering a [full time, part t...   \n",
       "4  Expected hours of work are [days of week and h...   \n",
       "\n",
       "                                              Adhola  \n",
       "0          wanitye nokinoki iniang i timo tich mawan  \n",
       "1          Jume teri ye sawa peri i neni gima wamiyo  \n",
       "2  Nitye iye thenethene maberi ma mako kwongi mic...  \n",
       "3  Agoya Limited miyo (sawa jye, adech sawa, kodi...  \n",
       "4  sawa ma mitere ma tic obedo [ndelo ma sabiti k...  "
      ]
     },
     "execution_count": 3,
     "metadata": {},
     "output_type": "execute_result"
    }
   ],
   "source": [
    "raw.head()"
   ]
  },
  {
   "cell_type": "code",
   "execution_count": 4,
   "metadata": {},
   "outputs": [],
   "source": [
    "from nltk.tokenize import word_tokenize"
   ]
  },
  {
   "cell_type": "code",
   "execution_count": 12,
   "metadata": {},
   "outputs": [],
   "source": [
    "text=[]\n",
    "\n",
    "for sent in raw[\"Adhola\"]:\n",
    "    text.append(str(sent)+\"\\n\")"
   ]
  },
  {
   "cell_type": "code",
   "execution_count": 14,
   "metadata": {},
   "outputs": [
    {
     "data": {
      "text/plain": [
       "11"
      ]
     },
     "execution_count": 14,
     "metadata": {},
     "output_type": "execute_result"
    }
   ],
   "source": [
    "len(text)"
   ]
  },
  {
   "cell_type": "code",
   "execution_count": 15,
   "metadata": {},
   "outputs": [
    {
     "data": {
      "text/plain": [
       "\"['wanitye nokinoki iniang i timo tich mawan\\\\n', 'Jume teri ye sawa peri i neni gima wamiyo\\\\n', 'Nitye iye thenethene maberi ma mako kwongi michi, bero kodi .... ma ini nwango tich kodi Agoya Limited\\\\n', 'Agoya Limited miyo (sawa jye, adech sawa, kodi megi jye...)kabedo ma tic rini paka(Nyingi tich), \\\\n', 'sawa ma mitere ma tic obedo [ndelo ma sabiti kodi saw ma tich].\\\\n', 'I kifwo me, Agayo Limited miyo chako chulo pesa dollars kosa misara ma sawa kosa oro gi pi.\\\\n', 'I lachulin ma sabiti, i dwe, kodi megi..ma lackakere I hongo macul ma bino\\\\n', 'nan\\\\n', 'Paka ja tic mapa Ogayo Limited I la nwango thieli ma kitinda kwo perin\\\\n', 'nan\\\\n', 'Jume kethi ranuthi manyutho ni i soma aka iyere gi tich ma wamiyini ka i ketho chingini kodi ndelo ma dwe ma yeyirok me kora mafoudi chwe ma tich me korumo\\\\n']\""
      ]
     },
     "execution_count": 15,
     "metadata": {},
     "output_type": "execute_result"
    }
   ],
   "source": [
    "str(text)"
   ]
  },
  {
   "cell_type": "code",
   "execution_count": 16,
   "metadata": {},
   "outputs": [],
   "source": [
    "tokens=word_tokenize(str(text))"
   ]
  },
  {
   "cell_type": "code",
   "execution_count": 17,
   "metadata": {},
   "outputs": [
    {
     "data": {
      "text/plain": [
       "['[',\n",
       " \"'wanitye\",\n",
       " 'nokinoki',\n",
       " 'iniang',\n",
       " 'i',\n",
       " 'timo',\n",
       " 'tich',\n",
       " 'mawan\\\\n',\n",
       " \"'\",\n",
       " ',',\n",
       " \"'Jume\",\n",
       " 'teri',\n",
       " 'ye',\n",
       " 'sawa',\n",
       " 'peri',\n",
       " 'i',\n",
       " 'neni',\n",
       " 'gima',\n",
       " 'wamiyo\\\\n',\n",
       " \"'\",\n",
       " ',',\n",
       " \"'Nitye\",\n",
       " 'iye',\n",
       " 'thenethene',\n",
       " 'maberi',\n",
       " 'ma',\n",
       " 'mako',\n",
       " 'kwongi',\n",
       " 'michi',\n",
       " ',',\n",
       " 'bero',\n",
       " 'kodi',\n",
       " '...',\n",
       " '.',\n",
       " 'ma',\n",
       " 'ini',\n",
       " 'nwango',\n",
       " 'tich',\n",
       " 'kodi',\n",
       " 'Agoya',\n",
       " 'Limited\\\\n',\n",
       " \"'\",\n",
       " ',',\n",
       " \"'Agoya\",\n",
       " 'Limited',\n",
       " 'miyo',\n",
       " '(',\n",
       " 'sawa',\n",
       " 'jye',\n",
       " ',',\n",
       " 'adech',\n",
       " 'sawa',\n",
       " ',',\n",
       " 'kodi',\n",
       " 'megi',\n",
       " 'jye',\n",
       " '...',\n",
       " ')',\n",
       " 'kabedo',\n",
       " 'ma',\n",
       " 'tic',\n",
       " 'rini',\n",
       " 'paka',\n",
       " '(',\n",
       " 'Nyingi',\n",
       " 'tich',\n",
       " ')',\n",
       " ',',\n",
       " '\\\\n',\n",
       " \"'\",\n",
       " ',',\n",
       " \"'sawa\",\n",
       " 'ma',\n",
       " 'mitere',\n",
       " 'ma',\n",
       " 'tic',\n",
       " 'obedo',\n",
       " '[',\n",
       " 'ndelo',\n",
       " 'ma',\n",
       " 'sabiti',\n",
       " 'kodi',\n",
       " 'saw',\n",
       " 'ma',\n",
       " 'tich',\n",
       " ']',\n",
       " '.\\\\n',\n",
       " \"'\",\n",
       " ',',\n",
       " \"'\",\n",
       " 'I',\n",
       " 'kifwo',\n",
       " 'me',\n",
       " ',',\n",
       " 'Agayo',\n",
       " 'Limited',\n",
       " 'miyo',\n",
       " 'chako',\n",
       " 'chulo',\n",
       " 'pesa',\n",
       " 'dollars',\n",
       " 'kosa',\n",
       " 'misara',\n",
       " 'ma',\n",
       " 'sawa',\n",
       " 'kosa',\n",
       " 'oro',\n",
       " 'gi',\n",
       " 'pi.\\\\n',\n",
       " \"'\",\n",
       " ',',\n",
       " \"'\",\n",
       " 'I',\n",
       " 'lachulin',\n",
       " 'ma',\n",
       " 'sabiti',\n",
       " ',',\n",
       " 'i',\n",
       " 'dwe',\n",
       " ',',\n",
       " 'kodi',\n",
       " 'megi..ma',\n",
       " 'lackakere',\n",
       " 'I',\n",
       " 'hongo',\n",
       " 'macul',\n",
       " 'ma',\n",
       " 'bino\\\\n',\n",
       " \"'\",\n",
       " ',',\n",
       " \"'nan\\\\n\",\n",
       " \"'\",\n",
       " ',',\n",
       " \"'Paka\",\n",
       " 'ja',\n",
       " 'tic',\n",
       " 'mapa',\n",
       " 'Ogayo',\n",
       " 'Limited',\n",
       " 'I',\n",
       " 'la',\n",
       " 'nwango',\n",
       " 'thieli',\n",
       " 'ma',\n",
       " 'kitinda',\n",
       " 'kwo',\n",
       " 'perin\\\\n',\n",
       " \"'\",\n",
       " ',',\n",
       " \"'nan\\\\n\",\n",
       " \"'\",\n",
       " ',',\n",
       " \"'Jume\",\n",
       " 'kethi',\n",
       " 'ranuthi',\n",
       " 'manyutho',\n",
       " 'ni',\n",
       " 'i',\n",
       " 'soma',\n",
       " 'aka',\n",
       " 'iyere',\n",
       " 'gi',\n",
       " 'tich',\n",
       " 'ma',\n",
       " 'wamiyini',\n",
       " 'ka',\n",
       " 'i',\n",
       " 'ketho',\n",
       " 'chingini',\n",
       " 'kodi',\n",
       " 'ndelo',\n",
       " 'ma',\n",
       " 'dwe',\n",
       " 'ma',\n",
       " 'yeyirok',\n",
       " 'me',\n",
       " 'kora',\n",
       " 'mafoudi',\n",
       " 'chwe',\n",
       " 'ma',\n",
       " 'tich',\n",
       " 'me',\n",
       " 'korumo\\\\n',\n",
       " \"'\",\n",
       " ']']"
      ]
     },
     "execution_count": 17,
     "metadata": {},
     "output_type": "execute_result"
    }
   ],
   "source": [
    "tokens"
   ]
  },
  {
   "cell_type": "code",
   "execution_count": 30,
   "metadata": {},
   "outputs": [],
   "source": [
    "tokenized = str(text).split()\n",
    "\n",
    "# and get a list of all the bi-grams\n",
    "esBigrams = ngrams(tokenized, 2)"
   ]
  },
  {
   "cell_type": "code",
   "execution_count": 31,
   "metadata": {},
   "outputs": [
    {
     "data": {
      "text/plain": [
       "[(('Limited', 'miyo'), 2),\n",
       " (('ma', 'tic'), 2),\n",
       " ((\"['wanitye\", 'nokinoki'), 1),\n",
       " (('nokinoki', 'iniang'), 1),\n",
       " (('iniang', 'i'), 1),\n",
       " (('i', 'timo'), 1),\n",
       " (('timo', 'tich'), 1),\n",
       " (('tich', \"mawan\\\\n',\"), 1),\n",
       " ((\"mawan\\\\n',\", \"'Jume\"), 1),\n",
       " ((\"'Jume\", 'teri'), 1),\n",
       " (('teri', 'ye'), 1),\n",
       " (('ye', 'sawa'), 1),\n",
       " (('sawa', 'peri'), 1),\n",
       " (('peri', 'i'), 1),\n",
       " (('i', 'neni'), 1),\n",
       " (('neni', 'gima'), 1),\n",
       " (('gima', \"wamiyo\\\\n',\"), 1),\n",
       " ((\"wamiyo\\\\n',\", \"'Nitye\"), 1),\n",
       " ((\"'Nitye\", 'iye'), 1),\n",
       " (('iye', 'thenethene'), 1)]"
      ]
     },
     "execution_count": 31,
     "metadata": {},
     "output_type": "execute_result"
    }
   ],
   "source": [
    "# get the frequency of each bigram in our corpus\n",
    "esBigramFreq = collections.Counter(esBigrams)\n",
    "\n",
    "# what are the ten most popular ngrams in this Spanish corpus?\n",
    "esBigramFreq.most_common(20)"
   ]
  },
  {
   "cell_type": "code",
   "execution_count": null,
   "metadata": {},
   "outputs": [],
   "source": []
  }
 ],
 "metadata": {
  "kernelspec": {
   "display_name": "Python 3",
   "language": "python",
   "name": "python3"
  },
  "language_info": {
   "codemirror_mode": {
    "name": "ipython",
    "version": 3
   },
   "file_extension": ".py",
   "mimetype": "text/x-python",
   "name": "python",
   "nbconvert_exporter": "python",
   "pygments_lexer": "ipython3",
   "version": "3.7.6"
  }
 },
 "nbformat": 4,
 "nbformat_minor": 4
}
