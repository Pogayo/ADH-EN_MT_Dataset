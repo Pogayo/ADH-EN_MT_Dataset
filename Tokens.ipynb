{
 "cells": [
  {
   "cell_type": "code",
   "execution_count": 1,
   "metadata": {},
   "outputs": [],
   "source": [
    "import nltk, re, string, collections\n",
    "from nltk.util import ngrams # function for making ngrams\n",
    "import pandas as pd\n",
    "import numpy as np"
   ]
  },
  {
   "cell_type": "code",
   "execution_count": 2,
   "metadata": {},
   "outputs": [],
   "source": [
    "raw=pd.read_csv(\"offer-letter1.csv\")"
   ]
  },
  {
   "cell_type": "code",
   "execution_count": 3,
   "metadata": {},
   "outputs": [
    {
     "data": {
      "text/html": [
       "<div>\n",
       "<style scoped>\n",
       "    .dataframe tbody tr th:only-of-type {\n",
       "        vertical-align: middle;\n",
       "    }\n",
       "\n",
       "    .dataframe tbody tr th {\n",
       "        vertical-align: top;\n",
       "    }\n",
       "\n",
       "    .dataframe thead th {\n",
       "        text-align: right;\n",
       "    }\n",
       "</style>\n",
       "<table border=\"1\" class=\"dataframe\">\n",
       "  <thead>\n",
       "    <tr style=\"text-align: right;\">\n",
       "      <th></th>\n",
       "      <th>English</th>\n",
       "      <th>Adhola</th>\n",
       "    </tr>\n",
       "  </thead>\n",
       "  <tbody>\n",
       "    <tr>\n",
       "      <th>0</th>\n",
       "      <td>We’re just a few formalities away from getting...</td>\n",
       "      <td>wanitye nokinoki iniang i timo tich mawan</td>\n",
       "    </tr>\n",
       "    <tr>\n",
       "      <th>1</th>\n",
       "      <td>Please take the time to review our offer.</td>\n",
       "      <td>Jume teri ye sawa peri i neni gima wamiyo</td>\n",
       "    </tr>\n",
       "    <tr>\n",
       "      <th>2</th>\n",
       "      <td>It includes important details about your compe...</td>\n",
       "      <td>Nitye iye thenethene maberi ma mako kwongi mic...</td>\n",
       "    </tr>\n",
       "    <tr>\n",
       "      <th>3</th>\n",
       "      <td>Ogayo Limited is offering a [full time, part t...</td>\n",
       "      <td>Agoya Limited miyo (sawa jye, adech sawa, kodi...</td>\n",
       "    </tr>\n",
       "    <tr>\n",
       "      <th>4</th>\n",
       "      <td>Expected hours of work are [days of week and h...</td>\n",
       "      <td>sawa ma mitere ma tic obedo [ndelo ma sabiti k...</td>\n",
       "    </tr>\n",
       "  </tbody>\n",
       "</table>\n",
       "</div>"
      ],
      "text/plain": [
       "                                             English  \\\n",
       "0  We’re just a few formalities away from getting...   \n",
       "1          Please take the time to review our offer.   \n",
       "2  It includes important details about your compe...   \n",
       "3  Ogayo Limited is offering a [full time, part t...   \n",
       "4  Expected hours of work are [days of week and h...   \n",
       "\n",
       "                                              Adhola  \n",
       "0          wanitye nokinoki iniang i timo tich mawan  \n",
       "1          Jume teri ye sawa peri i neni gima wamiyo  \n",
       "2  Nitye iye thenethene maberi ma mako kwongi mic...  \n",
       "3  Agoya Limited miyo (sawa jye, adech sawa, kodi...  \n",
       "4  sawa ma mitere ma tic obedo [ndelo ma sabiti k...  "
      ]
     },
     "execution_count": 3,
     "metadata": {},
     "output_type": "execute_result"
    }
   ],
   "source": [
    "raw.head()"
   ]
  },
  {
   "cell_type": "code",
   "execution_count": 47,
   "metadata": {},
   "outputs": [
    {
     "data": {
      "text/html": [
       "<div>\n",
       "<style scoped>\n",
       "    .dataframe tbody tr th:only-of-type {\n",
       "        vertical-align: middle;\n",
       "    }\n",
       "\n",
       "    .dataframe tbody tr th {\n",
       "        vertical-align: top;\n",
       "    }\n",
       "\n",
       "    .dataframe thead th {\n",
       "        text-align: right;\n",
       "    }\n",
       "</style>\n",
       "<table border=\"1\" class=\"dataframe\">\n",
       "  <thead>\n",
       "    <tr style=\"text-align: right;\">\n",
       "      <th></th>\n",
       "      <th>English</th>\n",
       "      <th>Adhola</th>\n",
       "    </tr>\n",
       "  </thead>\n",
       "  <tbody>\n",
       "    <tr>\n",
       "      <th>0</th>\n",
       "      <td>We’re just a few formalities away from getting...</td>\n",
       "      <td>wanitye nokinoki iniang i timo tich mawan</td>\n",
       "    </tr>\n",
       "    <tr>\n",
       "      <th>1</th>\n",
       "      <td>Please take the time to review our offer.</td>\n",
       "      <td>Jume teri ye sawa peri i neni gima wamiyo</td>\n",
       "    </tr>\n",
       "    <tr>\n",
       "      <th>2</th>\n",
       "      <td>It includes important details about your compe...</td>\n",
       "      <td>Nitye iye thenethene maberi ma mako kwongi mic...</td>\n",
       "    </tr>\n",
       "    <tr>\n",
       "      <th>3</th>\n",
       "      <td>Ogayo Limited is offering a [full time, part t...</td>\n",
       "      <td>Agoya Limited miyo (sawa jye, adech sawa, kodi...</td>\n",
       "    </tr>\n",
       "    <tr>\n",
       "      <th>4</th>\n",
       "      <td>Expected hours of work are [days of week and h...</td>\n",
       "      <td>sawa ma mitere ma tic obedo [ndelo ma sabiti k...</td>\n",
       "    </tr>\n",
       "    <tr>\n",
       "      <th>5</th>\n",
       "      <td>In this position, Ogayo Limited is offering to...</td>\n",
       "      <td>I kifwo me, Agayo Limited miyo chako chulo pes...</td>\n",
       "    </tr>\n",
       "    <tr>\n",
       "      <th>6</th>\n",
       "      <td>You will be paid on a weekly, monthly, etc bas...</td>\n",
       "      <td>I lachulin ma sabiti, i dwe, kodi megi..ma lac...</td>\n",
       "    </tr>\n",
       "    <tr>\n",
       "      <th>7</th>\n",
       "      <td>As part of your compensation, we're also offer...</td>\n",
       "      <td></td>\n",
       "    </tr>\n",
       "    <tr>\n",
       "      <th>8</th>\n",
       "      <td>As an employee of Ogayo Limited you will be el...</td>\n",
       "      <td>Paka ja tic mapa Ogayo Limited I la nwango thi...</td>\n",
       "    </tr>\n",
       "    <tr>\n",
       "      <th>9</th>\n",
       "      <td>briefly name benefits, such as health insuranc...</td>\n",
       "      <td></td>\n",
       "    </tr>\n",
       "    <tr>\n",
       "      <th>10</th>\n",
       "      <td>Please indicate your agreement with these term...</td>\n",
       "      <td>Jume kethi ranuthi manyutho ni i soma aka iyer...</td>\n",
       "    </tr>\n",
       "  </tbody>\n",
       "</table>\n",
       "</div>"
      ],
      "text/plain": [
       "                                              English  \\\n",
       "0   We’re just a few formalities away from getting...   \n",
       "1           Please take the time to review our offer.   \n",
       "2   It includes important details about your compe...   \n",
       "3   Ogayo Limited is offering a [full time, part t...   \n",
       "4   Expected hours of work are [days of week and h...   \n",
       "5   In this position, Ogayo Limited is offering to...   \n",
       "6   You will be paid on a weekly, monthly, etc bas...   \n",
       "7   As part of your compensation, we're also offer...   \n",
       "8   As an employee of Ogayo Limited you will be el...   \n",
       "9   briefly name benefits, such as health insuranc...   \n",
       "10  Please indicate your agreement with these term...   \n",
       "\n",
       "                                               Adhola  \n",
       "0           wanitye nokinoki iniang i timo tich mawan  \n",
       "1           Jume teri ye sawa peri i neni gima wamiyo  \n",
       "2   Nitye iye thenethene maberi ma mako kwongi mic...  \n",
       "3   Agoya Limited miyo (sawa jye, adech sawa, kodi...  \n",
       "4   sawa ma mitere ma tic obedo [ndelo ma sabiti k...  \n",
       "5   I kifwo me, Agayo Limited miyo chako chulo pes...  \n",
       "6   I lachulin ma sabiti, i dwe, kodi megi..ma lac...  \n",
       "7                                                      \n",
       "8   Paka ja tic mapa Ogayo Limited I la nwango thi...  \n",
       "9                                                      \n",
       "10  Jume kethi ranuthi manyutho ni i soma aka iyer...  "
      ]
     },
     "execution_count": 47,
     "metadata": {},
     "output_type": "execute_result"
    }
   ],
   "source": [
    "raw.fillna(\"\")"
   ]
  },
  {
   "cell_type": "code",
   "execution_count": 4,
   "metadata": {},
   "outputs": [],
   "source": [
    "from nltk.tokenize import word_tokenize"
   ]
  },
  {
   "cell_type": "code",
   "execution_count": 50,
   "metadata": {},
   "outputs": [],
   "source": [
    "text=[]"
   ]
  },
  {
   "cell_type": "code",
   "execution_count": 51,
   "metadata": {},
   "outputs": [],
   "source": [
    "for sent in raw[\"Adhola\"]:\n",
    "    text.append(str(sent))"
   ]
  },
  {
   "cell_type": "code",
   "execution_count": 52,
   "metadata": {},
   "outputs": [
    {
     "data": {
      "text/plain": [
       "['wanitye nokinoki iniang i timo tich mawan',\n",
       " 'Jume teri ye sawa peri i neni gima wamiyo',\n",
       " 'Nitye iye thenethene maberi ma mako kwongi michi, bero kodi .... ma ini nwango tich kodi Agoya Limited',\n",
       " 'Agoya Limited miyo (sawa jye, adech sawa, kodi megi jye...)kabedo ma tic rini paka(Nyingi tich), ',\n",
       " 'sawa ma mitere ma tic obedo [ndelo ma sabiti kodi saw ma tich].',\n",
       " 'I kifwo me, Agayo Limited miyo chako chulo pesa dollars kosa misara ma sawa kosa oro gi pi.',\n",
       " 'I lachulin ma sabiti, i dwe, kodi megi..ma lackakere I hongo macul ma bino',\n",
       " 'nan',\n",
       " 'Paka ja tic mapa Ogayo Limited I la nwango thieli ma kitinda kwo perin',\n",
       " 'nan',\n",
       " 'Jume kethi ranuthi manyutho ni i soma aka iyere gi tich ma wamiyini ka i ketho chingini kodi ndelo ma dwe ma yeyirok me kora mafoudi chwe ma tich me korumo']"
      ]
     },
     "execution_count": 52,
     "metadata": {},
     "output_type": "execute_result"
    }
   ],
   "source": [
    "text"
   ]
  },
  {
   "cell_type": "code",
   "execution_count": 54,
   "metadata": {},
   "outputs": [],
   "source": [
    "word_tokens=[]"
   ]
  },
  {
   "cell_type": "code",
   "execution_count": 53,
   "metadata": {},
   "outputs": [
    {
     "data": {
      "text/plain": [
       "['nan']"
      ]
     },
     "execution_count": 53,
     "metadata": {},
     "output_type": "execute_result"
    }
   ],
   "source": [
    "word_tokenize(text[7])"
   ]
  },
  {
   "cell_type": "code",
   "execution_count": 55,
   "metadata": {},
   "outputs": [],
   "source": [
    "for sent in text:\n",
    "    word_tokens.append(word_tokenize(sent))"
   ]
  },
  {
   "cell_type": "code",
   "execution_count": 6,
   "metadata": {},
   "outputs": [
    {
     "data": {
      "text/plain": [
       "11"
      ]
     },
     "execution_count": 6,
     "metadata": {},
     "output_type": "execute_result"
    }
   ],
   "source": [
    "len(text)"
   ]
  },
  {
   "cell_type": "code",
   "execution_count": 74,
   "metadata": {},
   "outputs": [
    {
     "ename": "TypeError",
     "evalue": "unhashable type: 'list'",
     "output_type": "error",
     "traceback": [
      "\u001b[1;31m---------------------------------------------------------------------------\u001b[0m",
      "\u001b[1;31mTypeError\u001b[0m                                 Traceback (most recent call last)",
      "\u001b[1;32m<ipython-input-74-86de66470743>\u001b[0m in \u001b[0;36m<module>\u001b[1;34m\u001b[0m\n\u001b[1;32m----> 1\u001b[1;33m \u001b[0mcts\u001b[0m\u001b[1;33m=\u001b[0m\u001b[0mnltk\u001b[0m\u001b[1;33m.\u001b[0m\u001b[0mFreqDist\u001b[0m\u001b[1;33m(\u001b[0m\u001b[0mword_tokens\u001b[0m\u001b[1;33m)\u001b[0m\u001b[1;33m\u001b[0m\u001b[1;33m\u001b[0m\u001b[0m\n\u001b[0m",
      "\u001b[1;32mC:\\ProgramData\\Anaconda3\\lib\\site-packages\\nltk\\probability.py\u001b[0m in \u001b[0;36m__init__\u001b[1;34m(self, samples)\u001b[0m\n\u001b[0;32m    106\u001b[0m         \u001b[1;33m:\u001b[0m\u001b[0mtype\u001b[0m \u001b[0msamples\u001b[0m\u001b[1;33m:\u001b[0m \u001b[0mSequence\u001b[0m\u001b[1;33m\u001b[0m\u001b[1;33m\u001b[0m\u001b[0m\n\u001b[0;32m    107\u001b[0m         \"\"\"\n\u001b[1;32m--> 108\u001b[1;33m         \u001b[0mCounter\u001b[0m\u001b[1;33m.\u001b[0m\u001b[0m__init__\u001b[0m\u001b[1;33m(\u001b[0m\u001b[0mself\u001b[0m\u001b[1;33m,\u001b[0m \u001b[0msamples\u001b[0m\u001b[1;33m)\u001b[0m\u001b[1;33m\u001b[0m\u001b[1;33m\u001b[0m\u001b[0m\n\u001b[0m\u001b[0;32m    109\u001b[0m \u001b[1;33m\u001b[0m\u001b[0m\n\u001b[0;32m    110\u001b[0m         \u001b[1;31m# Cached number of samples in this FreqDist\u001b[0m\u001b[1;33m\u001b[0m\u001b[1;33m\u001b[0m\u001b[1;33m\u001b[0m\u001b[0m\n",
      "\u001b[1;32mC:\\ProgramData\\Anaconda3\\lib\\collections\\__init__.py\u001b[0m in \u001b[0;36m__init__\u001b[1;34m(*args, **kwds)\u001b[0m\n\u001b[0;32m    566\u001b[0m             \u001b[1;32mraise\u001b[0m \u001b[0mTypeError\u001b[0m\u001b[1;33m(\u001b[0m\u001b[1;34m'expected at most 1 arguments, got %d'\u001b[0m \u001b[1;33m%\u001b[0m \u001b[0mlen\u001b[0m\u001b[1;33m(\u001b[0m\u001b[0margs\u001b[0m\u001b[1;33m)\u001b[0m\u001b[1;33m)\u001b[0m\u001b[1;33m\u001b[0m\u001b[1;33m\u001b[0m\u001b[0m\n\u001b[0;32m    567\u001b[0m         \u001b[0msuper\u001b[0m\u001b[1;33m(\u001b[0m\u001b[0mCounter\u001b[0m\u001b[1;33m,\u001b[0m \u001b[0mself\u001b[0m\u001b[1;33m)\u001b[0m\u001b[1;33m.\u001b[0m\u001b[0m__init__\u001b[0m\u001b[1;33m(\u001b[0m\u001b[1;33m)\u001b[0m\u001b[1;33m\u001b[0m\u001b[1;33m\u001b[0m\u001b[0m\n\u001b[1;32m--> 568\u001b[1;33m         \u001b[0mself\u001b[0m\u001b[1;33m.\u001b[0m\u001b[0mupdate\u001b[0m\u001b[1;33m(\u001b[0m\u001b[1;33m*\u001b[0m\u001b[0margs\u001b[0m\u001b[1;33m,\u001b[0m \u001b[1;33m**\u001b[0m\u001b[0mkwds\u001b[0m\u001b[1;33m)\u001b[0m\u001b[1;33m\u001b[0m\u001b[1;33m\u001b[0m\u001b[0m\n\u001b[0m\u001b[0;32m    569\u001b[0m \u001b[1;33m\u001b[0m\u001b[0m\n\u001b[0;32m    570\u001b[0m     \u001b[1;32mdef\u001b[0m \u001b[0m__missing__\u001b[0m\u001b[1;33m(\u001b[0m\u001b[0mself\u001b[0m\u001b[1;33m,\u001b[0m \u001b[0mkey\u001b[0m\u001b[1;33m)\u001b[0m\u001b[1;33m:\u001b[0m\u001b[1;33m\u001b[0m\u001b[1;33m\u001b[0m\u001b[0m\n",
      "\u001b[1;32mC:\\ProgramData\\Anaconda3\\lib\\site-packages\\nltk\\probability.py\u001b[0m in \u001b[0;36mupdate\u001b[1;34m(self, *args, **kwargs)\u001b[0m\n\u001b[0;32m    144\u001b[0m         \"\"\"\n\u001b[0;32m    145\u001b[0m         \u001b[0mself\u001b[0m\u001b[1;33m.\u001b[0m\u001b[0m_N\u001b[0m \u001b[1;33m=\u001b[0m \u001b[1;32mNone\u001b[0m\u001b[1;33m\u001b[0m\u001b[1;33m\u001b[0m\u001b[0m\n\u001b[1;32m--> 146\u001b[1;33m         \u001b[0msuper\u001b[0m\u001b[1;33m(\u001b[0m\u001b[0mFreqDist\u001b[0m\u001b[1;33m,\u001b[0m \u001b[0mself\u001b[0m\u001b[1;33m)\u001b[0m\u001b[1;33m.\u001b[0m\u001b[0mupdate\u001b[0m\u001b[1;33m(\u001b[0m\u001b[1;33m*\u001b[0m\u001b[0margs\u001b[0m\u001b[1;33m,\u001b[0m \u001b[1;33m**\u001b[0m\u001b[0mkwargs\u001b[0m\u001b[1;33m)\u001b[0m\u001b[1;33m\u001b[0m\u001b[1;33m\u001b[0m\u001b[0m\n\u001b[0m\u001b[0;32m    147\u001b[0m \u001b[1;33m\u001b[0m\u001b[0m\n\u001b[0;32m    148\u001b[0m     \u001b[1;32mdef\u001b[0m \u001b[0msetdefault\u001b[0m\u001b[1;33m(\u001b[0m\u001b[0mself\u001b[0m\u001b[1;33m,\u001b[0m \u001b[0mkey\u001b[0m\u001b[1;33m,\u001b[0m \u001b[0mval\u001b[0m\u001b[1;33m)\u001b[0m\u001b[1;33m:\u001b[0m\u001b[1;33m\u001b[0m\u001b[1;33m\u001b[0m\u001b[0m\n",
      "\u001b[1;32mC:\\ProgramData\\Anaconda3\\lib\\collections\\__init__.py\u001b[0m in \u001b[0;36mupdate\u001b[1;34m(*args, **kwds)\u001b[0m\n\u001b[0;32m    653\u001b[0m                     \u001b[0msuper\u001b[0m\u001b[1;33m(\u001b[0m\u001b[0mCounter\u001b[0m\u001b[1;33m,\u001b[0m \u001b[0mself\u001b[0m\u001b[1;33m)\u001b[0m\u001b[1;33m.\u001b[0m\u001b[0mupdate\u001b[0m\u001b[1;33m(\u001b[0m\u001b[0miterable\u001b[0m\u001b[1;33m)\u001b[0m \u001b[1;31m# fast path when counter is empty\u001b[0m\u001b[1;33m\u001b[0m\u001b[1;33m\u001b[0m\u001b[0m\n\u001b[0;32m    654\u001b[0m             \u001b[1;32melse\u001b[0m\u001b[1;33m:\u001b[0m\u001b[1;33m\u001b[0m\u001b[1;33m\u001b[0m\u001b[0m\n\u001b[1;32m--> 655\u001b[1;33m                 \u001b[0m_count_elements\u001b[0m\u001b[1;33m(\u001b[0m\u001b[0mself\u001b[0m\u001b[1;33m,\u001b[0m \u001b[0miterable\u001b[0m\u001b[1;33m)\u001b[0m\u001b[1;33m\u001b[0m\u001b[1;33m\u001b[0m\u001b[0m\n\u001b[0m\u001b[0;32m    656\u001b[0m         \u001b[1;32mif\u001b[0m \u001b[0mkwds\u001b[0m\u001b[1;33m:\u001b[0m\u001b[1;33m\u001b[0m\u001b[1;33m\u001b[0m\u001b[0m\n\u001b[0;32m    657\u001b[0m             \u001b[0mself\u001b[0m\u001b[1;33m.\u001b[0m\u001b[0mupdate\u001b[0m\u001b[1;33m(\u001b[0m\u001b[0mkwds\u001b[0m\u001b[1;33m)\u001b[0m\u001b[1;33m\u001b[0m\u001b[1;33m\u001b[0m\u001b[0m\n",
      "\u001b[1;31mTypeError\u001b[0m: unhashable type: 'list'"
     ]
    }
   ],
   "source": [
    "cts=nltk.FreqDist(word_tokens)"
   ]
  },
  {
   "cell_type": "code",
   "execution_count": 11,
   "metadata": {},
   "outputs": [
    {
     "data": {
      "image/png": "[encoded data removed]",
      "text/plain": [
       "<Figure size 432x288 with 1 Axes>"
      ]
     },
     "metadata": {
      "needs_background": "light"
     },
     "output_type": "display_data"
    },
    {
     "data": {
      "text/plain": [
       "<matplotlib.axes._subplots.AxesSubplot at 0x2139c386a48>"
      ]
     },
     "execution_count": 11,
     "metadata": {},
     "output_type": "execute_result"
    }
   ],
   "source": [
    "cts.plot(20)"
   ]
  },
  {
   "cell_type": "code",
   "execution_count": 75,
   "metadata": {},
   "outputs": [],
   "source": [
    "tokenized = str(text).split()\n",
    "\n",
    "# and get a list of all the bi-grams\n",
    "esBigrams = ngrams(word_tokens, 2)"
   ]
  },
  {
   "cell_type": "code",
   "execution_count": 76,
   "metadata": {},
   "outputs": [
    {
     "ename": "TypeError",
     "evalue": "unhashable type: 'list'",
     "output_type": "error",
     "traceback": [
      "\u001b[1;31m---------------------------------------------------------------------------\u001b[0m",
      "\u001b[1;31mTypeError\u001b[0m                                 Traceback (most recent call last)",
      "\u001b[1;32m<ipython-input-76-fea6d3794dfb>\u001b[0m in \u001b[0;36m<module>\u001b[1;34m\u001b[0m\n\u001b[0;32m      1\u001b[0m \u001b[1;31m# get the frequency of each bigram in our corpus\u001b[0m\u001b[1;33m\u001b[0m\u001b[1;33m\u001b[0m\u001b[1;33m\u001b[0m\u001b[0m\n\u001b[1;32m----> 2\u001b[1;33m \u001b[0mesBigramFreq\u001b[0m \u001b[1;33m=\u001b[0m \u001b[0mcollections\u001b[0m\u001b[1;33m.\u001b[0m\u001b[0mCounter\u001b[0m\u001b[1;33m(\u001b[0m\u001b[0mesBigrams\u001b[0m\u001b[1;33m)\u001b[0m\u001b[1;33m\u001b[0m\u001b[1;33m\u001b[0m\u001b[0m\n\u001b[0m\u001b[0;32m      3\u001b[0m \u001b[1;33m\u001b[0m\u001b[0m\n\u001b[0;32m      4\u001b[0m \u001b[1;31m# what are the ten most popular ngrams in this Spanish corpus?\u001b[0m\u001b[1;33m\u001b[0m\u001b[1;33m\u001b[0m\u001b[1;33m\u001b[0m\u001b[0m\n\u001b[0;32m      5\u001b[0m \u001b[0mesBigramFreq\u001b[0m\u001b[1;33m.\u001b[0m\u001b[0mmost_common\u001b[0m\u001b[1;33m(\u001b[0m\u001b[1;36m20\u001b[0m\u001b[1;33m)\u001b[0m\u001b[1;33m\u001b[0m\u001b[1;33m\u001b[0m\u001b[0m\n",
      "\u001b[1;32mC:\\ProgramData\\Anaconda3\\lib\\collections\\__init__.py\u001b[0m in \u001b[0;36m__init__\u001b[1;34m(*args, **kwds)\u001b[0m\n\u001b[0;32m    566\u001b[0m             \u001b[1;32mraise\u001b[0m \u001b[0mTypeError\u001b[0m\u001b[1;33m(\u001b[0m\u001b[1;34m'expected at most 1 arguments, got %d'\u001b[0m \u001b[1;33m%\u001b[0m \u001b[0mlen\u001b[0m\u001b[1;33m(\u001b[0m\u001b[0margs\u001b[0m\u001b[1;33m)\u001b[0m\u001b[1;33m)\u001b[0m\u001b[1;33m\u001b[0m\u001b[1;33m\u001b[0m\u001b[0m\n\u001b[0;32m    567\u001b[0m         \u001b[0msuper\u001b[0m\u001b[1;33m(\u001b[0m\u001b[0mCounter\u001b[0m\u001b[1;33m,\u001b[0m \u001b[0mself\u001b[0m\u001b[1;33m)\u001b[0m\u001b[1;33m.\u001b[0m\u001b[0m__init__\u001b[0m\u001b[1;33m(\u001b[0m\u001b[1;33m)\u001b[0m\u001b[1;33m\u001b[0m\u001b[1;33m\u001b[0m\u001b[0m\n\u001b[1;32m--> 568\u001b[1;33m         \u001b[0mself\u001b[0m\u001b[1;33m.\u001b[0m\u001b[0mupdate\u001b[0m\u001b[1;33m(\u001b[0m\u001b[1;33m*\u001b[0m\u001b[0margs\u001b[0m\u001b[1;33m,\u001b[0m \u001b[1;33m**\u001b[0m\u001b[0mkwds\u001b[0m\u001b[1;33m)\u001b[0m\u001b[1;33m\u001b[0m\u001b[1;33m\u001b[0m\u001b[0m\n\u001b[0m\u001b[0;32m    569\u001b[0m \u001b[1;33m\u001b[0m\u001b[0m\n\u001b[0;32m    570\u001b[0m     \u001b[1;32mdef\u001b[0m \u001b[0m__missing__\u001b[0m\u001b[1;33m(\u001b[0m\u001b[0mself\u001b[0m\u001b[1;33m,\u001b[0m \u001b[0mkey\u001b[0m\u001b[1;33m)\u001b[0m\u001b[1;33m:\u001b[0m\u001b[1;33m\u001b[0m\u001b[1;33m\u001b[0m\u001b[0m\n",
      "\u001b[1;32mC:\\ProgramData\\Anaconda3\\lib\\collections\\__init__.py\u001b[0m in \u001b[0;36mupdate\u001b[1;34m(*args, **kwds)\u001b[0m\n\u001b[0;32m    653\u001b[0m                     \u001b[0msuper\u001b[0m\u001b[1;33m(\u001b[0m\u001b[0mCounter\u001b[0m\u001b[1;33m,\u001b[0m \u001b[0mself\u001b[0m\u001b[1;33m)\u001b[0m\u001b[1;33m.\u001b[0m\u001b[0mupdate\u001b[0m\u001b[1;33m(\u001b[0m\u001b[0miterable\u001b[0m\u001b[1;33m)\u001b[0m \u001b[1;31m# fast path when counter is empty\u001b[0m\u001b[1;33m\u001b[0m\u001b[1;33m\u001b[0m\u001b[0m\n\u001b[0;32m    654\u001b[0m             \u001b[1;32melse\u001b[0m\u001b[1;33m:\u001b[0m\u001b[1;33m\u001b[0m\u001b[1;33m\u001b[0m\u001b[0m\n\u001b[1;32m--> 655\u001b[1;33m                 \u001b[0m_count_elements\u001b[0m\u001b[1;33m(\u001b[0m\u001b[0mself\u001b[0m\u001b[1;33m,\u001b[0m \u001b[0miterable\u001b[0m\u001b[1;33m)\u001b[0m\u001b[1;33m\u001b[0m\u001b[1;33m\u001b[0m\u001b[0m\n\u001b[0m\u001b[0;32m    656\u001b[0m         \u001b[1;32mif\u001b[0m \u001b[0mkwds\u001b[0m\u001b[1;33m:\u001b[0m\u001b[1;33m\u001b[0m\u001b[1;33m\u001b[0m\u001b[0m\n\u001b[0;32m    657\u001b[0m             \u001b[0mself\u001b[0m\u001b[1;33m.\u001b[0m\u001b[0mupdate\u001b[0m\u001b[1;33m(\u001b[0m\u001b[0mkwds\u001b[0m\u001b[1;33m)\u001b[0m\u001b[1;33m\u001b[0m\u001b[1;33m\u001b[0m\u001b[0m\n",
      "\u001b[1;31mTypeError\u001b[0m: unhashable type: 'list'"
     ]
    }
   ],
   "source": [
    "# get the frequency of each bigram in our corpus\n",
    "esBigramFreq = collections.Counter(esBigrams)\n",
    "\n",
    "# what are the ten most popular ngrams in this Spanish corpus?\n",
    "esBigramFreq.most_common(20)"
   ]
  },
  {
   "cell_type": "code",
   "execution_count": 14,
   "metadata": {},
   "outputs": [],
   "source": [
    "import nltk.lm.counter"
   ]
  },
  {
   "cell_type": "code",
   "execution_count": 44,
   "metadata": {},
   "outputs": [
    {
     "data": {
      "text/plain": [
       "['wanitye nokinoki iniang i timo tich mawan',\n",
       " 'Jume teri ye sawa peri i neni gima wamiyo',\n",
       " 'Nitye iye thenethene maberi ma mako kwongi michi, bero kodi .... ma ini nwango tich kodi Agoya Limited',\n",
       " 'Agoya Limited miyo (sawa jye, adech sawa, kodi megi jye...)kabedo ma tic rini paka(Nyingi tich), ',\n",
       " 'sawa ma mitere ma tic obedo [ndelo ma sabiti kodi saw ma tich].',\n",
       " 'I kifwo me, Agayo Limited miyo chako chulo pesa dollars kosa misara ma sawa kosa oro gi pi.',\n",
       " 'I lachulin ma sabiti, i dwe, kodi megi..ma lackakere I hongo macul ma bino',\n",
       " 'nan',\n",
       " 'Paka ja tic mapa Ogayo Limited I la nwango thieli ma kitinda kwo perin',\n",
       " 'nan',\n",
       " 'Jume kethi ranuthi manyutho ni i soma aka iyere gi tich ma wamiyini ka i ketho chingini kodi ndelo ma dwe ma yeyirok me kora mafoudi chwe ma tich me korumo',\n",
       " 'wanitye nokinoki iniang i timo tich mawan',\n",
       " 'Jume teri ye sawa peri i neni gima wamiyo',\n",
       " 'Nitye iye thenethene maberi ma mako kwongi michi, bero kodi .... ma ini nwango tich kodi Agoya Limited',\n",
       " 'Agoya Limited miyo (sawa jye, adech sawa, kodi megi jye...)kabedo ma tic rini paka(Nyingi tich), ',\n",
       " 'sawa ma mitere ma tic obedo [ndelo ma sabiti kodi saw ma tich].',\n",
       " 'I kifwo me, Agayo Limited miyo chako chulo pesa dollars kosa misara ma sawa kosa oro gi pi.',\n",
       " 'I lachulin ma sabiti, i dwe, kodi megi..ma lackakere I hongo macul ma bino',\n",
       " nan,\n",
       " 'Paka ja tic mapa Ogayo Limited I la nwango thieli ma kitinda kwo perin',\n",
       " nan,\n",
       " 'Jume kethi ranuthi manyutho ni i soma aka iyere gi tich ma wamiyini ka i ketho chingini kodi ndelo ma dwe ma yeyirok me kora mafoudi chwe ma tich me korumo']"
      ]
     },
     "execution_count": 44,
     "metadata": {},
     "output_type": "execute_result"
    }
   ],
   "source": [
    "text"
   ]
  },
  {
   "cell_type": "code",
   "execution_count": 56,
   "metadata": {},
   "outputs": [
    {
     "data": {
      "text/plain": [
       "[['wanitye', 'nokinoki', 'iniang', 'i', 'timo', 'tich', 'mawan'],\n",
       " ['Jume', 'teri', 'ye', 'sawa', 'peri', 'i', 'neni', 'gima', 'wamiyo'],\n",
       " ['Nitye',\n",
       "  'iye',\n",
       "  'thenethene',\n",
       "  'maberi',\n",
       "  'ma',\n",
       "  'mako',\n",
       "  'kwongi',\n",
       "  'michi',\n",
       "  ',',\n",
       "  'bero',\n",
       "  'kodi',\n",
       "  '...',\n",
       "  '.',\n",
       "  'ma',\n",
       "  'ini',\n",
       "  'nwango',\n",
       "  'tich',\n",
       "  'kodi',\n",
       "  'Agoya',\n",
       "  'Limited'],\n",
       " ['Agoya',\n",
       "  'Limited',\n",
       "  'miyo',\n",
       "  '(',\n",
       "  'sawa',\n",
       "  'jye',\n",
       "  ',',\n",
       "  'adech',\n",
       "  'sawa',\n",
       "  ',',\n",
       "  'kodi',\n",
       "  'megi',\n",
       "  'jye',\n",
       "  '...',\n",
       "  ')',\n",
       "  'kabedo',\n",
       "  'ma',\n",
       "  'tic',\n",
       "  'rini',\n",
       "  'paka',\n",
       "  '(',\n",
       "  'Nyingi',\n",
       "  'tich',\n",
       "  ')',\n",
       "  ','],\n",
       " ['sawa',\n",
       "  'ma',\n",
       "  'mitere',\n",
       "  'ma',\n",
       "  'tic',\n",
       "  'obedo',\n",
       "  '[',\n",
       "  'ndelo',\n",
       "  'ma',\n",
       "  'sabiti',\n",
       "  'kodi',\n",
       "  'saw',\n",
       "  'ma',\n",
       "  'tich',\n",
       "  ']',\n",
       "  '.'],\n",
       " ['I',\n",
       "  'kifwo',\n",
       "  'me',\n",
       "  ',',\n",
       "  'Agayo',\n",
       "  'Limited',\n",
       "  'miyo',\n",
       "  'chako',\n",
       "  'chulo',\n",
       "  'pesa',\n",
       "  'dollars',\n",
       "  'kosa',\n",
       "  'misara',\n",
       "  'ma',\n",
       "  'sawa',\n",
       "  'kosa',\n",
       "  'oro',\n",
       "  'gi',\n",
       "  'pi',\n",
       "  '.'],\n",
       " ['I',\n",
       "  'lachulin',\n",
       "  'ma',\n",
       "  'sabiti',\n",
       "  ',',\n",
       "  'i',\n",
       "  'dwe',\n",
       "  ',',\n",
       "  'kodi',\n",
       "  'megi..ma',\n",
       "  'lackakere',\n",
       "  'I',\n",
       "  'hongo',\n",
       "  'macul',\n",
       "  'ma',\n",
       "  'bino'],\n",
       " ['nan'],\n",
       " ['Paka',\n",
       "  'ja',\n",
       "  'tic',\n",
       "  'mapa',\n",
       "  'Ogayo',\n",
       "  'Limited',\n",
       "  'I',\n",
       "  'la',\n",
       "  'nwango',\n",
       "  'thieli',\n",
       "  'ma',\n",
       "  'kitinda',\n",
       "  'kwo',\n",
       "  'perin'],\n",
       " ['nan'],\n",
       " ['Jume',\n",
       "  'kethi',\n",
       "  'ranuthi',\n",
       "  'manyutho',\n",
       "  'ni',\n",
       "  'i',\n",
       "  'soma',\n",
       "  'aka',\n",
       "  'iyere',\n",
       "  'gi',\n",
       "  'tich',\n",
       "  'ma',\n",
       "  'wamiyini',\n",
       "  'ka',\n",
       "  'i',\n",
       "  'ketho',\n",
       "  'chingini',\n",
       "  'kodi',\n",
       "  'ndelo',\n",
       "  'ma',\n",
       "  'dwe',\n",
       "  'ma',\n",
       "  'yeyirok',\n",
       "  'me',\n",
       "  'kora',\n",
       "  'mafoudi',\n",
       "  'chwe',\n",
       "  'ma',\n",
       "  'tich',\n",
       "  'me',\n",
       "  'korumo']]"
      ]
     },
     "execution_count": 56,
     "metadata": {},
     "output_type": "execute_result"
    }
   ],
   "source": [
    "word_tokens"
   ]
  },
  {
   "cell_type": "code",
   "execution_count": 28,
   "metadata": {},
   "outputs": [],
   "source": [
    "from nltk.util import ngrams"
   ]
  },
  {
   "cell_type": "code",
   "execution_count": 80,
   "metadata": {},
   "outputs": [
    {
     "data": {
      "text/plain": [
       "['wanitye nokinoki iniang i timo tich mawan',\n",
       " 'Jume teri ye sawa peri i neni gima wamiyo',\n",
       " 'Nitye iye thenethene maberi ma mako kwongi michi, bero kodi .... ma ini nwango tich kodi Agoya Limited',\n",
       " 'Agoya Limited miyo (sawa jye, adech sawa, kodi megi jye...)kabedo ma tic rini paka(Nyingi tich), ',\n",
       " 'sawa ma mitere ma tic obedo [ndelo ma sabiti kodi saw ma tich].',\n",
       " 'I kifwo me, Agayo Limited miyo chako chulo pesa dollars kosa misara ma sawa kosa oro gi pi.',\n",
       " 'I lachulin ma sabiti, i dwe, kodi megi..ma lackakere I hongo macul ma bino',\n",
       " 'nan',\n",
       " 'Paka ja tic mapa Ogayo Limited I la nwango thieli ma kitinda kwo perin',\n",
       " 'nan',\n",
       " 'Jume kethi ranuthi manyutho ni i soma aka iyere gi tich ma wamiyini ka i ketho chingini kodi ndelo ma dwe ma yeyirok me kora mafoudi chwe ma tich me korumo']"
      ]
     },
     "execution_count": 80,
     "metadata": {},
     "output_type": "execute_result"
    }
   ],
   "source": [
    "text"
   ]
  },
  {
   "cell_type": "code",
   "execution_count": 81,
   "metadata": {},
   "outputs": [],
   "source": [
    "text_bigrams = [ngrams(sent, 2) for sent in word_tokens]\n",
    "text_unigrams = [ngrams(sent, 1) for sent in word_tokens]"
   ]
  },
  {
   "cell_type": "code",
   "execution_count": 82,
   "metadata": {},
   "outputs": [
    {
     "data": {
      "text/plain": [
       "[<generator object ngrams at 0x0000021396CF6348>,\n",
       " <generator object ngrams at 0x000002139D31F148>,\n",
       " <generator object ngrams at 0x000002139D31F1C8>,\n",
       " <generator object ngrams at 0x000002139D31F248>,\n",
       " <generator object ngrams at 0x000002139D31F2C8>,\n",
       " <generator object ngrams at 0x000002139D31F348>,\n",
       " <generator object ngrams at 0x000002139D31F3C8>,\n",
       " <generator object ngrams at 0x000002139D31F448>,\n",
       " <generator object ngrams at 0x000002139D31F4C8>,\n",
       " <generator object ngrams at 0x000002139D31F5C8>,\n",
       " <generator object ngrams at 0x000002139D31F648>]"
      ]
     },
     "execution_count": 82,
     "metadata": {},
     "output_type": "execute_result"
    }
   ],
   "source": [
    "text_bigrams"
   ]
  },
  {
   "cell_type": "code",
   "execution_count": 29,
   "metadata": {},
   "outputs": [],
   "source": [
    "from nltk.lm import NgramCounter"
   ]
  },
  {
   "cell_type": "code",
   "execution_count": 83,
   "metadata": {},
   "outputs": [],
   "source": [
    "ngram_counts = NgramCounter(text_bigrams + text_unigrams)"
   ]
  },
  {
   "cell_type": "code",
   "execution_count": 92,
   "metadata": {},
   "outputs": [
    {
     "data": {
      "text/plain": [
       "96"
      ]
     },
     "execution_count": 92,
     "metadata": {},
     "output_type": "execute_result"
    }
   ],
   "source": [
    "len(ngram_counts[1])"
   ]
  },
  {
   "cell_type": "code",
   "execution_count": 94,
   "metadata": {},
   "outputs": [
    {
     "data": {
      "text/plain": [
       "90"
      ]
     },
     "execution_count": 94,
     "metadata": {},
     "output_type": "execute_result"
    }
   ],
   "source": [
    "len(ngram_counts[2])"
   ]
  },
  {
   "cell_type": "code",
   "execution_count": 79,
   "metadata": {},
   "outputs": [
    {
     "data": {
      "text/plain": [
       "dict_items([('w', 18), ('a', 76), ('n', 35), ('i', 84), ('t', 28), ('y', 19), ('e', 46), (' ', 131), ('o', 46), ('k', 28), ('g', 16), ('m', 45), ('c', 18), ('h', 21), ('J', 2), ('u', 9), ('r', 16), ('s', 14), ('p', 6), ('N', 2), ('b', 7), (',', 7), ('d', 20), ('.', 11), ('A', 3), ('L', 4), ('(', 2), ('j', 3), (')', 2), ('[', 1), ('l', 11), (']', 1), ('I', 4), ('f', 2), ('P', 1), ('O', 1)])"
      ]
     },
     "execution_count": 79,
     "metadata": {},
     "output_type": "execute_result"
    }
   ],
   "source": [
    "ngram_counts[1].items()"
   ]
  },
  {
   "cell_type": "code",
   "execution_count": 22,
   "metadata": {},
   "outputs": [],
   "source": [
    "n_text=[]"
   ]
  },
  {
   "cell_type": "code",
   "execution_count": 23,
   "metadata": {},
   "outputs": [],
   "source": [
    "for sent in raw[\"Adhola\"]:\n",
    "    n_text.append([sent])"
   ]
  },
  {
   "cell_type": "code",
   "execution_count": 24,
   "metadata": {},
   "outputs": [
    {
     "data": {
      "text/plain": [
       "[['wanitye nokinoki iniang i timo tich mawan'],\n",
       " ['Jume teri ye sawa peri i neni gima wamiyo'],\n",
       " ['Nitye iye thenethene maberi ma mako kwongi michi, bero kodi .... ma ini nwango tich kodi Agoya Limited'],\n",
       " ['Agoya Limited miyo (sawa jye, adech sawa, kodi megi jye...)kabedo ma tic rini paka(Nyingi tich), '],\n",
       " ['sawa ma mitere ma tic obedo [ndelo ma sabiti kodi saw ma tich].'],\n",
       " ['I kifwo me, Agayo Limited miyo chako chulo pesa dollars kosa misara ma sawa kosa oro gi pi.'],\n",
       " ['I lachulin ma sabiti, i dwe, kodi megi..ma lackakere I hongo macul ma bino'],\n",
       " [nan],\n",
       " ['Paka ja tic mapa Ogayo Limited I la nwango thieli ma kitinda kwo perin'],\n",
       " [nan],\n",
       " ['Jume kethi ranuthi manyutho ni i soma aka iyere gi tich ma wamiyini ka i ketho chingini kodi ndelo ma dwe ma yeyirok me kora mafoudi chwe ma tich me korumo']]"
      ]
     },
     "execution_count": 24,
     "metadata": {},
     "output_type": "execute_result"
    }
   ],
   "source": [
    "n_text"
   ]
  },
  {
   "cell_type": "code",
   "execution_count": null,
   "metadata": {},
   "outputs": [],
   "source": []
  }
 ],
 "metadata": {
  "kernelspec": {
   "display_name": "Python 3",
   "language": "python",
   "name": "python3"
  },
  "language_info": {
   "codemirror_mode": {
    "name": "ipython",
    "version": 3
   },
   "file_extension": ".py",
   "mimetype": "text/x-python",
   "name": "python",
   "nbconvert_exporter": "python",
   "pygments_lexer": "ipython3",
   "version": "3.7.6"
  }
 },
 "nbformat": 4,
 "nbformat_minor": 4
}
