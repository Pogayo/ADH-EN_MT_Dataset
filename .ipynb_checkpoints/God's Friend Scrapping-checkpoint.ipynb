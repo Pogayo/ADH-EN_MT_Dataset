{
 "cells": [
  {
   "cell_type": "code",
   "execution_count": 32,
   "metadata": {},
   "outputs": [],
   "source": [
    "from requests import get\n",
    "import pandas as pd\n",
    "import numpy as np\n",
    "\n",
    "from bs4 import BeautifulSoup\n",
    "\n",
    "\n",
    "from time import sleep\n",
    "from random import randint\n",
    "from time import time\n",
    "from warnings import warn\n",
    "from IPython.core.display import clear_output\n",
    "\n"
   ]
  },
  {
   "cell_type": "code",
   "execution_count": 33,
   "metadata": {},
   "outputs": [],
   "source": [
    "adh_url=[\"https://www.jw.org/adh/kitawin/kitawin/wac-maber-mawok-bongi-were/\"]\n",
    "eng_url=[\"https://www.jw.org/en/library/books/good-news-from-god/\"]"
   ]
  },
  {
   "cell_type": "code",
   "execution_count": 31,
   "metadata": {},
   "outputs": [],
   "source": [
    "adh_urls=['https://www.jw.org/adh/kitawin/kitawin/wac-maber-mawok-bongi-were/were-a-%C5%8Ba/',\n",
    "         \"https://www.jw.org/adh/kitawin/kitawin/wac-maber-mawok-bongi-were/wac-maber-manitye-baibul-wok-bongi-were/\",\n",
    "         \"https://www.jw.org/adh/kitawin/kitawin/wac-maber-mawok-bongi-were/yesu-kristo-a-%C5%8Ba/\",\n",
    "         \"https://www.jw.org/adh/kitawin/kitawin/wac-maber-mawok-bongi-were/ra%C5%8Bo-were-ocweyo-piny/\",\n",
    "         \"https://www.jw.org/adh/kitawin/kitawin/wac-maber-mawok-bongi-were/jomotho-jonyalo-kwo-kendo/\",\n",
    "         \"https://www.jw.org/adh/kitawin/kitawin/wac-maber-mawok-bongi-were/ker-pa-were-a-gina%C5%8Bo/\",\n",
    "         \"https://www.jw.org/adh/kitawin/kitawin/wac-maber-mawok-bongi-were/ra%C5%8Bo-were-weyo-gikipiny-mareco-kodi-candirok-bedo/\",\n",
    "    \"https://www.jw.org/adh/kitawin/kitawin/wac-maber-mawok-bongi-were/peco-mewin-nyalo-nedi-bediye-kisangala/\",\n",
    "         \"https://www.jw.org/adh/kitawin/kitawin/wac-maber-mawok-bongi-were/%C5%8Beyi-joma-jonitie-i-din-maradieri/\",\n",
    "         \"https://www.jw.org/adh/kitawin/kitawin/wac-maber-mawok-bongi-were/cik-pa-were-konyo-wan/\",\n",
    "         \"https://www.jw.org/adh/kitawin/kitawin/wac-maber-mawok-bongi-were/core-cegin-gi-were/\",\n",
    "         \"https://www.jw.org/adh/kitawin/kitawin/wac-maber-mawok-bongi-were/gina%C5%8Bo-ma-latundo-kwo%C5%8B-din/\",\n",
    "         \"https://www.jw.org/adh/kitawin/kitawin/wac-maber-mawok-bongi-were/kitipa-pa-wajulizi-pa-jehova/\",\n",
    "         \"https://www.jw.org/adh/kitawin/kitawin/wac-maber-mawok-bongi-were/medere-fonjirok-baibul/\"\n",
    "         \n",
    "]\n",
    "eng_urls=[\n",
    "    \"https://www.jw.org/en/library/books/good-news-from-god/who-is-god/\",\n",
    "    \"https://www.jw.org/en/library/books/good-news-from-god/good-news-in-the-bible-from-god/\",\n",
    "    \"https://www.jw.org/en/library/books/good-news-from-god/who-is-jesus-christ/\",\n",
    "    \"https://www.jw.org/en/library/books/good-news-from-god/why-did-god-create-the-earth/\",\n",
    "    \"https://www.jw.org/en/library/books/good-news-from-god/what-hope-for-the-dead/\",\n",
    "    \"https://www.jw.org/en/library/books/good-news-from-god/what-is-gods-kingdom/\",\n",
    "    \"https://www.jw.org/en/library/books/good-news-from-god/why-god-allows-evil-and-suffering/\",\n",
    "    \"https://www.jw.org/en/library/books/good-news-from-god/how-can-your-family-be-happy/\",\n",
    "    \"https://www.jw.org/en/library/books/good-news-from-god/recognize-true-worshippers/\",\n",
    "    \"https://www.jw.org/en/library/books/good-news-from-god/bible-principles-benefit-us/\",\n",
    "    \"https://www.jw.org/en/library/books/good-news-from-god/draw-close-to-god/\",\n",
    "    \"https://www.jw.org/en/library/books/good-news-from-god/good-news-about-religion/\",\n",
    "    \"https://www.jw.org/en/library/books/good-news-from-god/jehovahs-witnesses-organization/\",\n",
    "    \"https://www.jw.org/en/library/books/good-news-from-god/continue-to-study-the-bible/\"\n",
    "   \n",
    "    \n",
    "]\n",
    "titles=[\n",
    "    \"Who is God\", 'is the good news really from God', \"Who is Jesus Christ\", \"Why did God create the earth\",\"What hope is there for the dead?\",\n",
    "    \"what is gods kingdom\", \"why-god-allows-evil-and-suffering\", \"How Can Your Family Be Happy?\",\"How Can You Recognize True Worship?\",\"How Do Bible Principles Benefit Us?\"\n",
    "    \"How Can You Draw Close to God?\", \"What Is the Good News About Religion?\",\n",
    "    \"Why Does God Have an Organization?\",\"Why Should You Continue?\"\n",
    "    \n",
    "]"
   ]
  },
  {
   "cell_type": "code",
   "execution_count": 34,
   "metadata": {},
   "outputs": [],
   "source": [
    "assert len(eng_urls) == len(adh_urls)"
   ]
  },
  {
   "cell_type": "code",
   "execution_count": 36,
   "metadata": {},
   "outputs": [],
   "source": [
    "adh=[]\n",
    "eng=[]"
   ]
  },
  {
   "cell_type": "code",
   "execution_count": 47,
   "metadata": {},
   "outputs": [],
   "source": [
    "eng=[]"
   ]
  },
  {
   "cell_type": "code",
   "execution_count": 48,
   "metadata": {},
   "outputs": [
    {
     "name": "stdout",
     "output_type": "stream",
     "text": [
      "Request:13; Frequency: 0.03884537838000479 requests/s\n"
     ]
    }
   ],
   "source": [
    "# Preparing the monitoring of the loop\n",
    "start_time = time()\n",
    "requests = 0\n",
    "\n",
    "# For every year in the interval 2000-2017\n",
    "for i in range(1, len(adh_urls)):\n",
    "\n",
    "#         adh_response = get(adh_urls[i])\n",
    "        eng_response = get(eng_urls[i])\n",
    "        # Pause the loop\n",
    "        sleep(randint(8,15))\n",
    "\n",
    "        # Monitor the requests\n",
    "        requests += 1\n",
    "        elapsed_time = time() - start_time\n",
    "        print('Request:{}; Frequency: {} requests/s'.format(requests, requests/elapsed_time))\n",
    "        clear_output(wait = True)\n",
    "\n",
    "        # Throw a warning for non-200 status codes\n",
    "        if response.status_code != 200:\n",
    "            warn('Request: {}; Status code: {}'.format(requests, response.status_code))\n",
    "\n",
    "        # Break the loop if the number of requests is greater than expected\n",
    "        if requests > 72:\n",
    "            warn('Number of requests was greater than expected.')\n",
    "            break\n",
    "\n",
    "        # Parse the content of the request with BeautifulSoup\n",
    "#         adh_html = BeautifulSoup(adh_response.text, 'html.parser')\n",
    "        eng_html = BeautifulSoup(eng_response.text, 'html.parser')\n",
    "        \n",
    "#         adh_headings=adh_html.find_all(\"h2\")\n",
    "#         adh_parag=adh_html.find_all(\"p\")\n",
    "#         for heading in adh_headings:\n",
    "#             adh.append(heading.text)\n",
    "#         for par in adh_parag:\n",
    "#             adh.append(par.text)\n",
    "            \n",
    "#         adh.append(\"xxxxxx\")\n",
    "        \n",
    "        eng_headings=eng_html.find_all(\"h2\")\n",
    "        eng_parag=eng_html.find_all(\"p\")\n",
    "        for heading in eng_headings:\n",
    "            eng.append(heading.text)\n",
    "        for par in eng_parag:\n",
    "            eng.append(par.text)\n",
    "        \n",
    "        eng.append(\"xxxxxx\")\n",
    "            \n"
   ]
  },
  {
   "cell_type": "code",
   "execution_count": 49,
   "metadata": {},
   "outputs": [
    {
     "name": "stdout",
     "output_type": "stream",
     "text": [
      "405\n",
      "454\n"
     ]
    }
   ],
   "source": [
    "print(len(adh))\n",
    "print(len(eng))"
   ]
  },
  {
   "cell_type": "code",
   "execution_count": 50,
   "metadata": {},
   "outputs": [],
   "source": [
    "for i in range(len(eng)-len(adh)):\n",
    " adh.append(\" \")"
   ]
  },
  {
   "cell_type": "code",
   "execution_count": 51,
   "metadata": {},
   "outputs": [
    {
     "name": "stdout",
     "output_type": "stream",
     "text": [
      "<class 'pandas.core.frame.DataFrame'>\n",
      "RangeIndex: 454 entries, 0 to 453\n",
      "Data columns (total 2 columns):\n",
      " #   Column   Non-Null Count  Dtype \n",
      "---  ------   --------------  ----- \n",
      " 0   Adhola   454 non-null    object\n",
      " 1   English  454 non-null    object\n",
      "dtypes: object(2)\n",
      "memory usage: 7.2+ KB\n",
      "None\n"
     ]
    },
    {
     "data": {
      "text/html": [
       "<div>\n",
       "<style scoped>\n",
       "    .dataframe tbody tr th:only-of-type {\n",
       "        vertical-align: middle;\n",
       "    }\n",
       "\n",
       "    .dataframe tbody tr th {\n",
       "        vertical-align: top;\n",
       "    }\n",
       "\n",
       "    .dataframe thead th {\n",
       "        text-align: right;\n",
       "    }\n",
       "</style>\n",
       "<table border=\"1\" class=\"dataframe\">\n",
       "  <thead>\n",
       "    <tr style=\"text-align: right;\">\n",
       "      <th></th>\n",
       "      <th>Adhola</th>\n",
       "      <th>English</th>\n",
       "    </tr>\n",
       "  </thead>\n",
       "  <tbody>\n",
       "    <tr>\n",
       "      <th>0</th>\n",
       "      <td>Wajulizi pa Jehova</td>\n",
       "      <td>Jehovah’s Witnesses</td>\n",
       "    </tr>\n",
       "    <tr>\n",
       "      <th>1</th>\n",
       "      <td>1. Ŋat’ondiko Baibul?</td>\n",
       "      <td>1. Who is the Author of the Bible?</td>\n",
       "    </tr>\n",
       "    <tr>\n",
       "      <th>2</th>\n",
       "      <td>2. Aŋo manyutho ni Baibul obedo kitawo ma n’iy...</td>\n",
       "      <td>2. How can we be sure the Bible is true?</td>\n",
       "    </tr>\n",
       "    <tr>\n",
       "      <th>3</th>\n",
       "      <td>3. Baibul luwo kwoŋ aŋo?</td>\n",
       "      <td>3. What is the Bible about?</td>\n",
       "    </tr>\n",
       "    <tr>\n",
       "      <th>4</th>\n",
       "      <td>4. Inyalo nedi niaŋ gi Baibul?</td>\n",
       "      <td>4. How can you understand the Bible?</td>\n",
       "    </tr>\n",
       "    <tr>\n",
       "      <th>...</th>\n",
       "      <td>...</td>\n",
       "      <td>...</td>\n",
       "    </tr>\n",
       "    <tr>\n",
       "      <th>449</th>\n",
       "      <td></td>\n",
       "      <td>\\n               Languages:\\n               \\n</td>\n",
       "    </tr>\n",
       "    <tr>\n",
       "      <th>450</th>\n",
       "      <td></td>\n",
       "      <td>LANGUAGE</td>\n",
       "    </tr>\n",
       "    <tr>\n",
       "      <th>451</th>\n",
       "      <td></td>\n",
       "      <td></td>\n",
       "    </tr>\n",
       "    <tr>\n",
       "      <th>452</th>\n",
       "      <td></td>\n",
       "      <td></td>\n",
       "    </tr>\n",
       "    <tr>\n",
       "      <th>453</th>\n",
       "      <td></td>\n",
       "      <td>xxxxxx</td>\n",
       "    </tr>\n",
       "  </tbody>\n",
       "</table>\n",
       "<p>454 rows × 2 columns</p>\n",
       "</div>"
      ],
      "text/plain": [
       "                                                Adhola  \\\n",
       "0                                   Wajulizi pa Jehova   \n",
       "1                                1. Ŋat’ondiko Baibul?   \n",
       "2    2. Aŋo manyutho ni Baibul obedo kitawo ma n’iy...   \n",
       "3                             3. Baibul luwo kwoŋ aŋo?   \n",
       "4                       4. Inyalo nedi niaŋ gi Baibul?   \n",
       "..                                                 ...   \n",
       "449                                                      \n",
       "450                                                      \n",
       "451                                                      \n",
       "452                                                      \n",
       "453                                                      \n",
       "\n",
       "                                            English  \n",
       "0                               Jehovah’s Witnesses  \n",
       "1                1. Who is the Author of the Bible?  \n",
       "2          2. How can we be sure the Bible is true?  \n",
       "3                       3. What is the Bible about?  \n",
       "4              4. How can you understand the Bible?  \n",
       "..                                              ...  \n",
       "449  \\n               Languages:\\n               \\n  \n",
       "450                                        LANGUAGE  \n",
       "451                                                  \n",
       "452                                                  \n",
       "453                                          xxxxxx  \n",
       "\n",
       "[454 rows x 2 columns]"
      ]
     },
     "execution_count": 51,
     "metadata": {},
     "output_type": "execute_result"
    }
   ],
   "source": [
    "df = pd.DataFrame({\n",
    "'Adhola': adh,\n",
    "'English': eng,\n",
    "})\n",
    "print(df.info())\n",
    "df"
   ]
  },
  {
   "cell_type": "code",
   "execution_count": 53,
   "metadata": {},
   "outputs": [],
   "source": [
    "df.to_csv(\"Good_news_from_God_adh_en-raw.csv\", index=False)"
   ]
  },
  {
   "cell_type": "code",
   "execution_count": 54,
   "metadata": {},
   "outputs": [],
   "source": [
    "trans=pd.read_csv(\"GNFG.csv\")"
   ]
  },
  {
   "cell_type": "code",
   "execution_count": 55,
   "metadata": {},
   "outputs": [
    {
     "data": {
      "text/html": [
       "<div>\n",
       "<style scoped>\n",
       "    .dataframe tbody tr th:only-of-type {\n",
       "        vertical-align: middle;\n",
       "    }\n",
       "\n",
       "    .dataframe tbody tr th {\n",
       "        vertical-align: top;\n",
       "    }\n",
       "\n",
       "    .dataframe thead th {\n",
       "        text-align: right;\n",
       "    }\n",
       "</style>\n",
       "<table border=\"1\" class=\"dataframe\">\n",
       "  <thead>\n",
       "    <tr style=\"text-align: right;\">\n",
       "      <th></th>\n",
       "      <th>Adhola</th>\n",
       "      <th>English</th>\n",
       "    </tr>\n",
       "  </thead>\n",
       "  <tbody>\n",
       "    <tr>\n",
       "      <th>0</th>\n",
       "      <td>Hongo ma Were oweyo ji dhumo, nyutho kamaler n...</td>\n",
       "      <td>God has allowed men to rule for long enough to...</td>\n",
       "    </tr>\n",
       "    <tr>\n",
       "      <th>1</th>\n",
       "      <td>Gikipiny mareco ocako i piny munyo Sitan oluwo...</td>\n",
       "      <td>Evil began on earth when Satan told the first ...</td>\n",
       "    </tr>\n",
       "    <tr>\n",
       "      <th>2</th>\n",
       "      <td>Munyo Sitan okelo ri Eva turo cik pa Were, men...</td>\n",
       "      <td>When Satan suggested that Eve disobey God, he ...</td>\n",
       "    </tr>\n",
       "    <tr>\n",
       "      <th>3</th>\n",
       "      <td>Kis gima Were ocweyo k’obedo gi teko moro je. ...</td>\n",
       "      <td>All of God’s works are perfect. The humans and...</td>\n",
       "    </tr>\n",
       "    <tr>\n",
       "      <th>4</th>\n",
       "      <td>Hongo maromo otieko kadho munyo Jehova fodi ow...</td>\n",
       "      <td>For a limited time, Jehovah has allowed rebell...</td>\n",
       "    </tr>\n",
       "  </tbody>\n",
       "</table>\n",
       "</div>"
      ],
      "text/plain": [
       "                                              Adhola  \\\n",
       "0  Hongo ma Were oweyo ji dhumo, nyutho kamaler n...   \n",
       "1  Gikipiny mareco ocako i piny munyo Sitan oluwo...   \n",
       "2  Munyo Sitan okelo ri Eva turo cik pa Were, men...   \n",
       "3  Kis gima Were ocweyo k’obedo gi teko moro je. ...   \n",
       "4  Hongo maromo otieko kadho munyo Jehova fodi ow...   \n",
       "\n",
       "                                             English  \n",
       "0  God has allowed men to rule for long enough to...  \n",
       "1  Evil began on earth when Satan told the first ...  \n",
       "2  When Satan suggested that Eve disobey God, he ...  \n",
       "3  All of God’s works are perfect. The humans and...  \n",
       "4  For a limited time, Jehovah has allowed rebell...  "
      ]
     },
     "execution_count": 55,
     "metadata": {},
     "output_type": "execute_result"
    }
   ],
   "source": [
    "trans.head()"
   ]
  },
  {
   "cell_type": "code",
   "execution_count": 56,
   "metadata": {},
   "outputs": [],
   "source": [
    "new_adh=list(trans[\"Adhola\"])\n",
    "new_eng=list(trans[\"English\"])"
   ]
  },
  {
   "cell_type": "code",
   "execution_count": 57,
   "metadata": {},
   "outputs": [],
   "source": [
    "assert len(new_eng)==len(new_adh)"
   ]
  },
  {
   "cell_type": "code",
   "execution_count": 60,
   "metadata": {},
   "outputs": [],
   "source": [
    "unequal_idx=[]"
   ]
  },
  {
   "cell_type": "code",
   "execution_count": 62,
   "metadata": {},
   "outputs": [],
   "source": [
    "adh_big=[]\n",
    "eng_big=[]"
   ]
  },
  {
   "cell_type": "code",
   "execution_count": 63,
   "metadata": {},
   "outputs": [],
   "source": [
    "for i in range(len(new_adh)):\n",
    "        if new_adh[i] and new_eng[i]:\n",
    "          adh_split=new_adh[i].strip().strip(\".\").split(\".\")\n",
    "          eng_split=new_eng[i].strip().strip(\".\").split(\".\")\n",
    "     \n",
    "\n",
    "        if len(adh_split)==len(eng_split) :\n",
    "            adh_big.extend(adh_split)\n",
    "            eng_big.extend(eng_split)\n",
    "            \n",
    "        else:\n",
    "            adh_big.append(new_adh[i])\n",
    "            eng_big.append(new_eng[i])\n",
    "            unequal_idx.append(i)"
   ]
  },
  {
   "cell_type": "code",
   "execution_count": 64,
   "metadata": {},
   "outputs": [
    {
     "name": "stdout",
     "output_type": "stream",
     "text": [
      "<class 'pandas.core.frame.DataFrame'>\n",
      "RangeIndex: 234 entries, 0 to 233\n",
      "Data columns (total 2 columns):\n",
      " #   Column   Non-Null Count  Dtype \n",
      "---  ------   --------------  ----- \n",
      " 0   Adhola   234 non-null    object\n",
      " 1   English  234 non-null    object\n",
      "dtypes: object(2)\n",
      "memory usage: 3.8+ KB\n",
      "None\n"
     ]
    },
    {
     "data": {
      "text/html": [
       "<div>\n",
       "<style scoped>\n",
       "    .dataframe tbody tr th:only-of-type {\n",
       "        vertical-align: middle;\n",
       "    }\n",
       "\n",
       "    .dataframe tbody tr th {\n",
       "        vertical-align: top;\n",
       "    }\n",
       "\n",
       "    .dataframe thead th {\n",
       "        text-align: right;\n",
       "    }\n",
       "</style>\n",
       "<table border=\"1\" class=\"dataframe\">\n",
       "  <thead>\n",
       "    <tr style=\"text-align: right;\">\n",
       "      <th></th>\n",
       "      <th>Adhola</th>\n",
       "      <th>English</th>\n",
       "    </tr>\n",
       "  </thead>\n",
       "  <tbody>\n",
       "    <tr>\n",
       "      <th>0</th>\n",
       "      <td>Hongo ma Were oweyo ji dhumo, nyutho kamaler n...</td>\n",
       "      <td>God has allowed men to rule for long enough to...</td>\n",
       "    </tr>\n",
       "    <tr>\n",
       "      <th>1</th>\n",
       "      <td>Gikipiny mareco ocako i piny munyo Sitan oluwo...</td>\n",
       "      <td>Evil began on earth when Satan told the first lie</td>\n",
       "    </tr>\n",
       "    <tr>\n",
       "      <th>2</th>\n",
       "      <td>I cakirok Sitan obedo malaika maber, to rumac...</td>\n",
       "      <td>Satan was originally a perfect angel, but “he...</td>\n",
       "    </tr>\n",
       "    <tr>\n",
       "      <th>3</th>\n",
       "      <td>” (Yohana 8:44) Go omito ni ji jowolami go ayi...</td>\n",
       "      <td>” (John 8:44) He developed a desire for worshi...</td>\n",
       "    </tr>\n",
       "    <tr>\n",
       "      <th>4</th>\n",
       "      <td>Gim’owok’iye, Sitan owondo Eva to kelo rigo c...</td>\n",
       "      <td>Satan lied to the first woman, Eve, and persu...</td>\n",
       "    </tr>\n",
       "    <tr>\n",
       "      <th>...</th>\n",
       "      <td>...</td>\n",
       "      <td>...</td>\n",
       "    </tr>\n",
       "    <tr>\n",
       "      <th>229</th>\n",
       "      <td>Wac maber wok bongi Jehova, Were majakisangala</td>\n",
       "      <td>The good news comes from Jehovah, the happy God</td>\n",
       "    </tr>\n",
       "    <tr>\n",
       "      <th>230</th>\n",
       "      <td>Ilamedo core cegin gi Jehova k’iromo kanyacel...</td>\n",
       "      <td>You can draw closer to him by drawing closer ...</td>\n",
       "    </tr>\n",
       "    <tr>\n",
       "      <th>231</th>\n",
       "      <td>(Joebulaniya 10:24, 25) K’imedere timo gima J...</td>\n",
       "      <td>(Hebrews 10:24, 25) By continuing your effort...</td>\n",
       "    </tr>\n",
       "    <tr>\n",
       "      <th>232</th>\n",
       "      <td>Ongoye gimaber loyo bedo mere pa Were</td>\n",
       "      <td>Drawing close to God is truly the best thing ...</td>\n",
       "    </tr>\n",
       "    <tr>\n",
       "      <th>233</th>\n",
       "      <td>​—Soma 1 Timothe 1:11, NW; 1 Timothe 6:19</td>\n",
       "      <td>​—Read 1 Timothy 1:11; 6:19</td>\n",
       "    </tr>\n",
       "  </tbody>\n",
       "</table>\n",
       "<p>234 rows × 2 columns</p>\n",
       "</div>"
      ],
      "text/plain": [
       "                                                Adhola  \\\n",
       "0    Hongo ma Were oweyo ji dhumo, nyutho kamaler n...   \n",
       "1    Gikipiny mareco ocako i piny munyo Sitan oluwo...   \n",
       "2     I cakirok Sitan obedo malaika maber, to rumac...   \n",
       "3    ” (Yohana 8:44) Go omito ni ji jowolami go ayi...   \n",
       "4     Gim’owok’iye, Sitan owondo Eva to kelo rigo c...   \n",
       "..                                                 ...   \n",
       "229     Wac maber wok bongi Jehova, Were majakisangala   \n",
       "230   Ilamedo core cegin gi Jehova k’iromo kanyacel...   \n",
       "231   (Joebulaniya 10:24, 25) K’imedere timo gima J...   \n",
       "232              Ongoye gimaber loyo bedo mere pa Were   \n",
       "233          ​—Soma 1 Timothe 1:11, NW; 1 Timothe 6:19   \n",
       "\n",
       "                                               English  \n",
       "0    God has allowed men to rule for long enough to...  \n",
       "1    Evil began on earth when Satan told the first lie  \n",
       "2     Satan was originally a perfect angel, but “he...  \n",
       "3    ” (John 8:44) He developed a desire for worshi...  \n",
       "4     Satan lied to the first woman, Eve, and persu...  \n",
       "..                                                 ...  \n",
       "229    The good news comes from Jehovah, the happy God  \n",
       "230   You can draw closer to him by drawing closer ...  \n",
       "231   (Hebrews 10:24, 25) By continuing your effort...  \n",
       "232   Drawing close to God is truly the best thing ...  \n",
       "233                        ​—Read 1 Timothy 1:11; 6:19  \n",
       "\n",
       "[234 rows x 2 columns]"
      ]
     },
     "execution_count": 64,
     "metadata": {},
     "output_type": "execute_result"
    }
   ],
   "source": [
    "big_df = pd.DataFrame({\n",
    "'Adhola': adh_big,\n",
    "'English': eng_big,\n",
    "})\n",
    "print(big_df.info())\n",
    "big_df"
   ]
  },
  {
   "cell_type": "code",
   "execution_count": 65,
   "metadata": {},
   "outputs": [],
   "source": [
    "big_df.to_csv(\"GNFG_split.csv\", index=False)"
   ]
  },
  {
   "cell_type": "code",
   "execution_count": null,
   "metadata": {},
   "outputs": [],
   "source": []
  }
 ],
 "metadata": {
  "kernelspec": {
   "display_name": "Python 3",
   "language": "python",
   "name": "python3"
  },
  "language_info": {
   "codemirror_mode": {
    "name": "ipython",
    "version": 3
   },
   "file_extension": ".py",
   "mimetype": "text/x-python",
   "name": "python",
   "nbconvert_exporter": "python",
   "pygments_lexer": "ipython3",
   "version": "3.7.6"
  }
 },
 "nbformat": 4,
 "nbformat_minor": 4
}
