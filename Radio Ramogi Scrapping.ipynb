{
 "cells": [
  {
   "cell_type": "code",
   "execution_count": 65,
   "metadata": {},
   "outputs": [],
   "source": [
    "from requests import get\n",
    "import pandas as pd\n",
    "import numpy as np\n",
    "\n",
    "from bs4 import BeautifulSoup\n",
    "\n",
    "\n",
    "from time import sleep\n",
    "from random import randint\n",
    "from time import time\n",
    "from warnings import warn\n",
    "from IPython.core.display import clear_output\n",
    "\n"
   ]
  },
  {
   "cell_type": "code",
   "execution_count": 66,
   "metadata": {},
   "outputs": [],
   "source": [
    "main_url=\"https://rmsradio.co.ke/brands/ramogi-fm/\"\n",
    "main_response = get(main_url)\n",
    "main_html = BeautifulSoup(main_response.text, 'html.parser')"
   ]
  },
  {
   "cell_type": "code",
   "execution_count": 73,
   "metadata": {},
   "outputs": [
    {
     "data": {
      "text/plain": [
       "<html>\n",
       "<head><title>403 Forbidden</title></head>\n",
       "<body>\n",
       "<center><h1>403 Forbidden</h1></center>\n",
       "<hr/><center>nginx</center>\n",
       "</body>\n",
       "</html>"
      ]
     },
     "execution_count": 73,
     "metadata": {},
     "output_type": "execute_result"
    }
   ],
   "source": [
    "main_html"
   ]
  },
  {
   "cell_type": "code",
   "execution_count": 71,
   "metadata": {},
   "outputs": [],
   "source": [
    "news=main_html.find(\"ul\", class_ = 'newslist')"
   ]
  },
  {
   "cell_type": "code",
   "execution_count": 72,
   "metadata": {},
   "outputs": [],
   "source": [
    "news"
   ]
  },
  {
   "cell_type": "code",
   "execution_count": 37,
   "metadata": {},
   "outputs": [],
   "source": [
    "adh_urls=[]\n",
    "eng_urls=[]\n",
    "adh_titles=[]\n",
    "eng_titles=[]"
   ]
  },
  {
   "cell_type": "code",
   "execution_count": 38,
   "metadata": {},
   "outputs": [],
   "source": [
    "adh_headings=adh_main_html.find_all(\"h2\")\n",
    "eng_headings=eng_main_html.find_all(\"h2\")"
   ]
  },
  {
   "cell_type": "code",
   "execution_count": 58,
   "metadata": {},
   "outputs": [],
   "source": [
    "adh_ps=adh_main_html.find_all(\"p\")\n",
    "eng_ps=eng_main_html.find_all(\"p\")"
   ]
  },
  {
   "cell_type": "code",
   "execution_count": 60,
   "metadata": {},
   "outputs": [],
   "source": [
    "adh_paragraphs=[]\n",
    "eng_paragraphs=[]"
   ]
  },
  {
   "cell_type": "code",
   "execution_count": 61,
   "metadata": {},
   "outputs": [],
   "source": [
    "for i in range(len(adh_ps)):\n",
    "    adh_paragraphs.append(adh_ps[i].text)\n",
    "for i in range(len(eng_ps)):\n",
    "    eng_paragraphs.append(eng_ps[i].text)"
   ]
  },
  {
   "cell_type": "code",
   "execution_count": 40,
   "metadata": {},
   "outputs": [],
   "source": [
    "for i in range(1, len(adh_headings)):\n",
    "    adh_urls.append(adh_headings[i].find(\"a\", href=True)[\"href\"])\n",
    "    adh_titles.append(adh_headings[i].a.text)\n",
    "    \n",
    "    eng_urls.append(eng_headings[i].find(\"a\", href=True)[\"href\"])\n",
    "    eng_titles.append(eng_headings[i].a.text)"
   ]
  },
  {
   "cell_type": "code",
   "execution_count": 41,
   "metadata": {},
   "outputs": [],
   "source": [
    "assert len(adh_titles) == len(eng_titles) \n",
    "assert len(adh_titles) == len(adh_urls) \n",
    "assert len(eng_titles) == len(eng_urls) "
   ]
  },
  {
   "cell_type": "code",
   "execution_count": 45,
   "metadata": {},
   "outputs": [
    {
     "name": "stdout",
     "output_type": "stream",
     "text": [
      "['\\n         God Invites You to Become His Friend\\n      ', '\\n         God Is the Best Friend You Could Ever Have\\n      ', '\\n         You Need to Learn About God\\n      ', '\\n         How You Can Learn About God\\n      ', '\\n         God’s Friends Will Live in Paradise\\n      ', '\\n         Paradise Is Near!\\n      ', '\\n         A Warning From the Past\\n      ', '\\n         Who Are God’s Enemies?\\n      ', '\\n         Who Are God’s Friends?\\n      ', '\\n         How to Find the True Religion\\n      ', '\\n         Reject False Religion!\\n      ', '\\n         What Happens at Death?\\n      ', '\\n         Magic and Witchcraft Are Bad\\n      ', '\\n         God’s Friends Avoid What Is Bad\\n      ', '\\n         God’s Friends Do What Is Good\\n      ', '\\n         Show Your Love for God\\n      ', '\\n         To Keep a Friend, You Must Be a Friend\\n      ', '\\n         Be God’s Friend Forever!\\n      ']\n"
     ]
    }
   ],
   "source": [
    "print(eng_titles)"
   ]
  },
  {
   "cell_type": "code",
   "execution_count": 52,
   "metadata": {},
   "outputs": [
    {
     "data": {
      "text/plain": [
       "['/en/library/books/gods-friend/become-gods-friend/',\n",
       " '/en/library/books/gods-friend/god-your-best-friend/',\n",
       " '/en/library/books/gods-friend/need-to-learn-about-god/',\n",
       " '/en/library/books/gods-friend/how-you-can-learn-about-god/',\n",
       " '/en/library/books/gods-friend/live-in-paradise/',\n",
       " '/en/library/books/gods-friend/paradise-is-near/',\n",
       " '/en/library/books/gods-friend/story-of-noah-warning-from-past/',\n",
       " '/en/library/books/gods-friend/who-are-gods-enemies/',\n",
       " '/en/library/books/gods-friend/who-are-gods-friends/',\n",
       " '/en/library/books/gods-friend/how-to-find-true-religion/',\n",
       " '/en/library/books/gods-friend/reject-false-religion/',\n",
       " '/en/library/books/gods-friend/what-happens-at-death/',\n",
       " '/en/library/books/gods-friend/magic-witchcraft/',\n",
       " '/en/library/books/gods-friend/avoid-what-is-bad/',\n",
       " '/en/library/books/gods-friend/do-what-is-good/',\n",
       " '/en/library/books/gods-friend/show-your-love-for-god/',\n",
       " '/en/library/books/gods-friend/friendship-with-god/',\n",
       " '/en/library/books/gods-friend/be-gods-friend-forever/']"
      ]
     },
     "execution_count": 52,
     "metadata": {},
     "output_type": "execute_result"
    }
   ],
   "source": [
    "eng_urls"
   ]
  },
  {
   "cell_type": "code",
   "execution_count": 46,
   "metadata": {},
   "outputs": [],
   "source": [
    "adh=[]\n",
    "eng=[]"
   ]
  },
  {
   "cell_type": "code",
   "execution_count": 47,
   "metadata": {},
   "outputs": [],
   "source": [
    "adh.append(adh_headings[0].text)\n",
    "eng.append(eng_headings[0].text)"
   ]
  },
  {
   "cell_type": "code",
   "execution_count": 50,
   "metadata": {},
   "outputs": [
    {
     "data": {
      "text/plain": [
       "['Jehovah’s Witnesses']"
      ]
     },
     "execution_count": 50,
     "metadata": {},
     "output_type": "execute_result"
    }
   ],
   "source": [
    "eng"
   ]
  },
  {
   "cell_type": "code",
   "execution_count": 57,
   "metadata": {},
   "outputs": [
    {
     "name": "stdout",
     "output_type": "stream",
     "text": [
      "Request:17; Frequency: 0.027266988530637113 requests/s\n"
     ]
    }
   ],
   "source": [
    "# Preparing the monitoring of the loop\n",
    "start_time = time()\n",
    "requests = 0\n",
    "\n",
    "# For every year in the interval 2000-2017\n",
    "for i in range(1, len(adh_urls)):\n",
    "\n",
    "        adh_response = get(\"https://www.jw.org\" + adh_urls[i])\n",
    "        eng_response = get(\"https://www.jw.org\" +eng_urls[i])\n",
    "        # Pause the loop\n",
    "        sleep(randint(8,15))\n",
    "\n",
    "        # Monitor the requests\n",
    "        requests += 1\n",
    "        elapsed_time = time() - start_time\n",
    "        print('Request:{}; Frequency: {} requests/s'.format(requests, requests/elapsed_time))\n",
    "        clear_output(wait = True)\n",
    "\n",
    "        # Throw a warning for non-200 status codes\n",
    "        if  adh_response.status_code != 200 or eng_response.status_code != 200:\n",
    "            warn('Request: {}; Status code: {}'.format(requests, adh_response.status_code))\n",
    "            warn('Request: {}; Status code: {}'.format(requests, eng_response.status_code))\n",
    "\n",
    "        # Break the loop if the number of requests is greater than expected\n",
    "        if requests > 72:\n",
    "            warn('Number of requests was greater than expected.')\n",
    "            break\n",
    "\n",
    "        # Parse the content of the request with BeautifulSoup\n",
    "        adh_html = BeautifulSoup(adh_response.text, 'html.parser')\n",
    "        eng_html = BeautifulSoup(eng_response.text, 'html.parser')\n",
    "        \n",
    "        adh_heads=adh_html.find_all(\"h2\")\n",
    "        adh_parag=adh_html.find_all(\"p\")\n",
    "        for heading in adh_heads:\n",
    "            adh.append(heading.text)\n",
    "        for par in adh_parag:\n",
    "            adh.append(par.text)\n",
    "            \n",
    "        \n",
    "        eng_heads=eng_html.find_all(\"h2\")\n",
    "        eng_parag=eng_html.find_all(\"p\")\n",
    "        for heading in eng_heads:\n",
    "            eng.append(heading.text)\n",
    "        for par in eng_parag:\n",
    "            eng.append(par.text)\n",
    "        \n",
    "        if len(eng_parag)>len(adh_parag):\n",
    "          for i in range(len(eng_parag)-len(adh_parag)):\n",
    "              adh.append(\" \")\n",
    "        elif len(adh_parag)>len(eng_parag):\n",
    "              eng.append(\" \")\n",
    "            \n",
    "        if len(eng_heads)>len(adh_heads):\n",
    "          for i in range(len(eng_heads)-len(adh_heads)):\n",
    "              adh.append(\" \")\n",
    "        elif len(adh_heads)>len(eng_heads):\n",
    "              eng.append(\" \")\n",
    "            \n",
    "        adh.append(\"xxxxxx\")\n",
    "        eng.append(\"xxxxxx\")\n"
   ]
  },
  {
   "cell_type": "code",
   "execution_count": 64,
   "metadata": {},
   "outputs": [
    {
     "name": "stdout",
     "output_type": "stream",
     "text": [
      "463\n",
      "463\n"
     ]
    }
   ],
   "source": [
    "print(len(adh))\n",
    "print(len(eng))"
   ]
  },
  {
   "cell_type": "code",
   "execution_count": 63,
   "metadata": {},
   "outputs": [],
   "source": [
    "adh.extend(adh_paragraphs)\n",
    "eng.extend(eng_paragraphs)\n",
    "\n",
    "adh.extend(adh_titles)\n",
    "eng.extend(eng_titles)"
   ]
  },
  {
   "cell_type": "code",
   "execution_count": 65,
   "metadata": {},
   "outputs": [
    {
     "name": "stdout",
     "output_type": "stream",
     "text": [
      "<class 'pandas.core.frame.DataFrame'>\n",
      "RangeIndex: 463 entries, 0 to 462\n",
      "Data columns (total 2 columns):\n",
      " #   Column   Non-Null Count  Dtype \n",
      "---  ------   --------------  ----- \n",
      " 0   Adhola   463 non-null    object\n",
      " 1   English  463 non-null    object\n",
      "dtypes: object(2)\n",
      "memory usage: 7.4+ KB\n",
      "None\n"
     ]
    },
    {
     "data": {
      "text/html": [
       "<div>\n",
       "<style scoped>\n",
       "    .dataframe tbody tr th:only-of-type {\n",
       "        vertical-align: middle;\n",
       "    }\n",
       "\n",
       "    .dataframe tbody tr th {\n",
       "        vertical-align: top;\n",
       "    }\n",
       "\n",
       "    .dataframe thead th {\n",
       "        text-align: right;\n",
       "    }\n",
       "</style>\n",
       "<table border=\"1\" class=\"dataframe\">\n",
       "  <thead>\n",
       "    <tr style=\"text-align: right;\">\n",
       "      <th></th>\n",
       "      <th>Adhola</th>\n",
       "      <th>English</th>\n",
       "    </tr>\n",
       "  </thead>\n",
       "  <tbody>\n",
       "    <tr>\n",
       "      <th>0</th>\n",
       "      <td>Wajulizi pa Jehova</td>\n",
       "      <td>Jehovah’s Witnesses</td>\n",
       "    </tr>\n",
       "    <tr>\n",
       "      <th>1</th>\n",
       "      <td>Wajulizi pa Jehova</td>\n",
       "      <td>Jehovah’s Witnesses</td>\n",
       "    </tr>\n",
       "    <tr>\n",
       "      <th>2</th>\n",
       "      <td>\\n\\nKali itundi i gima n'iye\\n\\n</td>\n",
       "      <td>\\n\\nSkip to content\\n\\n</td>\n",
       "    </tr>\n",
       "    <tr>\n",
       "      <th>3</th>\n",
       "      <td>Kali itundi i gikipiny man'iye</td>\n",
       "      <td>Skip to table of contents</td>\n",
       "    </tr>\n",
       "    <tr>\n",
       "      <th>4</th>\n",
       "      <td>Imito kisoma gime i %%?</td>\n",
       "      <td>Would you like to read this article in %%?</td>\n",
       "    </tr>\n",
       "    <tr>\n",
       "      <th>...</th>\n",
       "      <td>...</td>\n",
       "      <td>...</td>\n",
       "    </tr>\n",
       "    <tr>\n",
       "      <th>458</th>\n",
       "      <td>\\n         Merin pa Were Jokitimi Gimarach\\n  ...</td>\n",
       "      <td>\\n         God’s Friends Avoid What Is Bad\\n  ...</td>\n",
       "    </tr>\n",
       "    <tr>\n",
       "      <th>459</th>\n",
       "      <td>\\n         Merin pa Were Jotimo Gimaber\\n</td>\n",
       "      <td>\\n         God’s Friends Do What Is Good\\n</td>\n",
       "    </tr>\n",
       "    <tr>\n",
       "      <th>460</th>\n",
       "      <td>\\n         Nyuthi Ni Imaro Were\\n</td>\n",
       "      <td>\\n         Show Your Love for God\\n</td>\n",
       "    </tr>\n",
       "    <tr>\n",
       "      <th>461</th>\n",
       "      <td>\\n         Ka Imito Kuro Mere, Iripo Bedo Dhan...</td>\n",
       "      <td>\\n         To Keep a Friend, You Must Be a Fri...</td>\n",
       "    </tr>\n",
       "    <tr>\n",
       "      <th>462</th>\n",
       "      <td>\\n         Bedi Mere pa Were Chil gi Chil!\\n  ...</td>\n",
       "      <td>\\n         Be God’s Friend Forever!\\n</td>\n",
       "    </tr>\n",
       "  </tbody>\n",
       "</table>\n",
       "<p>463 rows × 2 columns</p>\n",
       "</div>"
      ],
      "text/plain": [
       "                                                Adhola  \\\n",
       "0                                   Wajulizi pa Jehova   \n",
       "1                                   Wajulizi pa Jehova   \n",
       "2                     \\n\\nKali itundi i gima n'iye\\n\\n   \n",
       "3                       Kali itundi i gikipiny man'iye   \n",
       "4                              Imito kisoma gime i %%?   \n",
       "..                                                 ...   \n",
       "458  \\n         Merin pa Were Jokitimi Gimarach\\n  ...   \n",
       "459    \\n         Merin pa Were Jotimo Gimaber\\n         \n",
       "460            \\n         Nyuthi Ni Imaro Were\\n         \n",
       "461  \\n         Ka Imito Kuro Mere, Iripo Bedo Dhan...   \n",
       "462  \\n         Bedi Mere pa Were Chil gi Chil!\\n  ...   \n",
       "\n",
       "                                               English  \n",
       "0                                  Jehovah’s Witnesses  \n",
       "1                                  Jehovah’s Witnesses  \n",
       "2                              \\n\\nSkip to content\\n\\n  \n",
       "3                            Skip to table of contents  \n",
       "4           Would you like to read this article in %%?  \n",
       "..                                                 ...  \n",
       "458  \\n         God’s Friends Avoid What Is Bad\\n  ...  \n",
       "459   \\n         God’s Friends Do What Is Good\\n        \n",
       "460          \\n         Show Your Love for God\\n        \n",
       "461  \\n         To Keep a Friend, You Must Be a Fri...  \n",
       "462        \\n         Be God’s Friend Forever!\\n        \n",
       "\n",
       "[463 rows x 2 columns]"
      ]
     },
     "execution_count": 65,
     "metadata": {},
     "output_type": "execute_result"
    }
   ],
   "source": [
    "df = pd.DataFrame({\n",
    "'Adhola': adh,\n",
    "'English': eng,\n",
    "})\n",
    "print(df.info())\n",
    "df"
   ]
  },
  {
   "cell_type": "code",
   "execution_count": 68,
   "metadata": {},
   "outputs": [],
   "source": [
    "df.drop_duplicates(inplace=True)"
   ]
  },
  {
   "cell_type": "code",
   "execution_count": 69,
   "metadata": {},
   "outputs": [],
   "source": [
    "df.to_csv(\"You_can_be_God's_Friend_adh_en-raw.csv\", index=False)"
   ]
  },
  {
   "cell_type": "code",
   "execution_count": 70,
   "metadata": {},
   "outputs": [],
   "source": [
    "new_adh=list(df[\"Adhola\"])\n",
    "new_eng=list(df[\"English\"])"
   ]
  },
  {
   "cell_type": "code",
   "execution_count": 71,
   "metadata": {},
   "outputs": [],
   "source": [
    "assert len(new_eng)==len(new_adh)"
   ]
  },
  {
   "cell_type": "code",
   "execution_count": 72,
   "metadata": {},
   "outputs": [],
   "source": [
    "unequal_idx=[]"
   ]
  },
  {
   "cell_type": "code",
   "execution_count": 73,
   "metadata": {},
   "outputs": [],
   "source": [
    "adh_big=[]\n",
    "eng_big=[]"
   ]
  },
  {
   "cell_type": "code",
   "execution_count": 74,
   "metadata": {},
   "outputs": [],
   "source": [
    "for i in range(len(new_adh)):\n",
    "        if new_adh[i] and new_eng[i]:\n",
    "          adh_split=new_adh[i].strip().strip(\".\").split(\".\")\n",
    "          eng_split=new_eng[i].strip().strip(\".\").split(\".\")\n",
    "     \n",
    "\n",
    "        if len(adh_split)==len(eng_split) :\n",
    "            adh_big.extend(adh_split)\n",
    "            eng_big.extend(eng_split)\n",
    "            \n",
    "        else:\n",
    "            adh_big.append(new_adh[i])\n",
    "            eng_big.append(new_eng[i])\n",
    "            unequal_idx.append(i)"
   ]
  },
  {
   "cell_type": "code",
   "execution_count": 75,
   "metadata": {},
   "outputs": [
    {
     "name": "stdout",
     "output_type": "stream",
     "text": [
      "<class 'pandas.core.frame.DataFrame'>\n",
      "RangeIndex: 487 entries, 0 to 486\n",
      "Data columns (total 2 columns):\n",
      " #   Column   Non-Null Count  Dtype \n",
      "---  ------   --------------  ----- \n",
      " 0   Adhola   487 non-null    object\n",
      " 1   English  487 non-null    object\n",
      "dtypes: object(2)\n",
      "memory usage: 7.7+ KB\n",
      "None\n"
     ]
    },
    {
     "data": {
      "text/html": [
       "<div>\n",
       "<style scoped>\n",
       "    .dataframe tbody tr th:only-of-type {\n",
       "        vertical-align: middle;\n",
       "    }\n",
       "\n",
       "    .dataframe tbody tr th {\n",
       "        vertical-align: top;\n",
       "    }\n",
       "\n",
       "    .dataframe thead th {\n",
       "        text-align: right;\n",
       "    }\n",
       "</style>\n",
       "<table border=\"1\" class=\"dataframe\">\n",
       "  <thead>\n",
       "    <tr style=\"text-align: right;\">\n",
       "      <th></th>\n",
       "      <th>Adhola</th>\n",
       "      <th>English</th>\n",
       "    </tr>\n",
       "  </thead>\n",
       "  <tbody>\n",
       "    <tr>\n",
       "      <th>0</th>\n",
       "      <td>Wajulizi pa Jehova</td>\n",
       "      <td>Jehovah’s Witnesses</td>\n",
       "    </tr>\n",
       "    <tr>\n",
       "      <th>1</th>\n",
       "      <td>Kali itundi i gima n'iye</td>\n",
       "      <td>Skip to content</td>\n",
       "    </tr>\n",
       "    <tr>\n",
       "      <th>2</th>\n",
       "      <td>Kali itundi i gikipiny man'iye</td>\n",
       "      <td>Skip to table of contents</td>\n",
       "    </tr>\n",
       "    <tr>\n",
       "      <th>3</th>\n",
       "      <td>Imito kisoma gime i %%?</td>\n",
       "      <td>Would you like to read this article in %%?</td>\n",
       "    </tr>\n",
       "    <tr>\n",
       "      <th>4</th>\n",
       "      <td>FUONJI 2</td>\n",
       "      <td>LESSON 2</td>\n",
       "    </tr>\n",
       "    <tr>\n",
       "      <th>...</th>\n",
       "      <td>...</td>\n",
       "      <td>...</td>\n",
       "    </tr>\n",
       "    <tr>\n",
       "      <th>482</th>\n",
       "      <td>Merin pa Were Jokitimi Gimarach</td>\n",
       "      <td>God’s Friends Avoid What Is Bad</td>\n",
       "    </tr>\n",
       "    <tr>\n",
       "      <th>483</th>\n",
       "      <td>Merin pa Were Jotimo Gimaber</td>\n",
       "      <td>God’s Friends Do What Is Good</td>\n",
       "    </tr>\n",
       "    <tr>\n",
       "      <th>484</th>\n",
       "      <td>Nyuthi Ni Imaro Were</td>\n",
       "      <td>Show Your Love for God</td>\n",
       "    </tr>\n",
       "    <tr>\n",
       "      <th>485</th>\n",
       "      <td>Ka Imito Kuro Mere, Iripo Bedo Dhano Majamere</td>\n",
       "      <td>To Keep a Friend, You Must Be a Friend</td>\n",
       "    </tr>\n",
       "    <tr>\n",
       "      <th>486</th>\n",
       "      <td>Bedi Mere pa Were Chil gi Chil!</td>\n",
       "      <td>Be God’s Friend Forever!</td>\n",
       "    </tr>\n",
       "  </tbody>\n",
       "</table>\n",
       "<p>487 rows × 2 columns</p>\n",
       "</div>"
      ],
      "text/plain": [
       "                                            Adhola  \\\n",
       "0                               Wajulizi pa Jehova   \n",
       "1                         Kali itundi i gima n'iye   \n",
       "2                   Kali itundi i gikipiny man'iye   \n",
       "3                          Imito kisoma gime i %%?   \n",
       "4                                         FUONJI 2   \n",
       "..                                             ...   \n",
       "482                Merin pa Were Jokitimi Gimarach   \n",
       "483                   Merin pa Were Jotimo Gimaber   \n",
       "484                           Nyuthi Ni Imaro Were   \n",
       "485  Ka Imito Kuro Mere, Iripo Bedo Dhano Majamere   \n",
       "486                Bedi Mere pa Were Chil gi Chil!   \n",
       "\n",
       "                                        English  \n",
       "0                           Jehovah’s Witnesses  \n",
       "1                               Skip to content  \n",
       "2                     Skip to table of contents  \n",
       "3    Would you like to read this article in %%?  \n",
       "4                                      LESSON 2  \n",
       "..                                          ...  \n",
       "482             God’s Friends Avoid What Is Bad  \n",
       "483               God’s Friends Do What Is Good  \n",
       "484                      Show Your Love for God  \n",
       "485      To Keep a Friend, You Must Be a Friend  \n",
       "486                    Be God’s Friend Forever!  \n",
       "\n",
       "[487 rows x 2 columns]"
      ]
     },
     "execution_count": 75,
     "metadata": {},
     "output_type": "execute_result"
    }
   ],
   "source": [
    "big_df = pd.DataFrame({\n",
    "'Adhola': adh_big,\n",
    "'English': eng_big,\n",
    "})\n",
    "print(big_df.info())\n",
    "big_df"
   ]
  },
  {
   "cell_type": "code",
   "execution_count": 76,
   "metadata": {},
   "outputs": [],
   "source": [
    "big_df.to_csv(\"You_can_be_God's_Friend_adh_en-raw_split.csv\", index=False)"
   ]
  },
  {
   "cell_type": "code",
   "execution_count": null,
   "metadata": {},
   "outputs": [],
   "source": []
  }
 ],
 "metadata": {
  "kernelspec": {
   "display_name": "Python 3",
   "language": "python",
   "name": "python3"
  },
  "language_info": {
   "codemirror_mode": {
    "name": "ipython",
    "version": 3
   },
   "file_extension": ".py",
   "mimetype": "text/x-python",
   "name": "python",
   "nbconvert_exporter": "python",
   "pygments_lexer": "ipython3",
   "version": "3.7.6"
  }
 },
 "nbformat": 4,
 "nbformat_minor": 4
}
