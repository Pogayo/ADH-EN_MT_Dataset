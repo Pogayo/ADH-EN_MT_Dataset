{
 "cells": [
  {
   "cell_type": "code",
   "execution_count": 142,
   "metadata": {},
   "outputs": [],
   "source": [
    "from requests import get\n",
    "import pandas as pd\n",
    "import numpy as np"
   ]
  },
  {
   "cell_type": "code",
   "execution_count": 71,
   "metadata": {},
   "outputs": [],
   "source": [
    "url = 'https://global-asp.github.io/storybooks-uganda/stories/adh/'\n",
    "response = get(url+stry_ids[1])"
   ]
  },
  {
   "cell_type": "code",
   "execution_count": 72,
   "metadata": {},
   "outputs": [
    {
     "data": {
      "text/plain": [
       "bs4.BeautifulSoup"
      ]
     },
     "execution_count": 72,
     "metadata": {},
     "output_type": "execute_result"
    }
   ],
   "source": [
    "from bs4 import BeautifulSoup\n",
    "html_soup = BeautifulSoup(response.text, 'html.parser')\n",
    "type(html_soup)"
   ]
  },
  {
   "cell_type": "code",
   "execution_count": 65,
   "metadata": {},
   "outputs": [],
   "source": [
    "stry_ids=[\"0302/\", \"0067/\", \"0001/\", \"0004/\",\"0201/\", \"0243/\",\"0141/\"]\n",
    "stry_names=[\"Fire\",\"Cooking\", \"A very tall man\", \"Goat, Dog, and Cow\",\"Donkey Child\",\"Holidays with grandmother\",\"Chicken and Millipede\"]\n",
    "stry_no_line=[9,9,12,9,21,21,13]"
   ]
  },
  {
   "cell_type": "code",
   "execution_count": 78,
   "metadata": {},
   "outputs": [
    {
     "data": {
      "text/plain": [
       "94"
      ]
     },
     "execution_count": 78,
     "metadata": {},
     "output_type": "execute_result"
    }
   ],
   "source": [
    "\n",
    "np.sum(stry_no_line)"
   ]
  },
  {
   "cell_type": "code",
   "execution_count": 73,
   "metadata": {},
   "outputs": [
    {
     "name": "stdout",
     "output_type": "stream",
     "text": [
      "<class 'bs4.element.ResultSet'>\n",
      "10\n"
     ]
    }
   ],
   "source": [
    "line_containers = html_soup.find_all('div', class_ = 'columns')\n",
    "print(type(line_containers))\n",
    "print(len(line_containers))"
   ]
  },
  {
   "cell_type": "code",
   "execution_count": 51,
   "metadata": {},
   "outputs": [],
   "source": [
    "adh=[]\n",
    "eng=[]\n",
    "swa=[]"
   ]
  },
  {
   "cell_type": "code",
   "execution_count": 74,
   "metadata": {},
   "outputs": [],
   "source": [
    "headings=line_containers[0].h1.find_all(\"span\")"
   ]
  },
  {
   "cell_type": "code",
   "execution_count": 75,
   "metadata": {},
   "outputs": [
    {
     "data": {
      "text/plain": [
       "[<span class=\"def\">Tedo</span>,\n",
       " <span class=\"l1\">Cooking</span>,\n",
       " <span class=\"l2\">Kupika</span>]"
      ]
     },
     "execution_count": 75,
     "metadata": {},
     "output_type": "execute_result"
    }
   ],
   "source": [
    "headings"
   ]
  },
  {
   "cell_type": "code",
   "execution_count": 55,
   "metadata": {},
   "outputs": [],
   "source": [
    "adh.append(headings[0].text)\n",
    "eng.append(headings[1].text)\n",
    "swa.append(headings[2].text)"
   ]
  },
  {
   "cell_type": "code",
   "execution_count": 56,
   "metadata": {},
   "outputs": [
    {
     "data": {
      "text/plain": [
       "8"
      ]
     },
     "execution_count": 56,
     "metadata": {},
     "output_type": "execute_result"
    }
   ],
   "source": [
    "line_containers=line_containers[1:9]\n",
    "len(line_containers)"
   ]
  },
  {
   "cell_type": "code",
   "execution_count": 57,
   "metadata": {},
   "outputs": [],
   "source": [
    "for line in line_containers:\n",
    "    sent=line.find_all(\"h3\")\n",
    "    if len(sent)>0: \n",
    "        adh.append(sent[0].text)\n",
    "        eng.append(sent[1].text)\n",
    "        swa.append(sent[2].text)\n",
    "\n",
    "    "
   ]
  },
  {
   "cell_type": "code",
   "execution_count": 62,
   "metadata": {},
   "outputs": [
    {
     "name": "stdout",
     "output_type": "stream",
     "text": [
      "<class 'pandas.core.frame.DataFrame'>\n",
      "RangeIndex: 9 entries, 0 to 8\n",
      "Data columns (total 3 columns):\n",
      " #   Column   Non-Null Count  Dtype \n",
      "---  ------   --------------  ----- \n",
      " 0   Adhola   9 non-null      object\n",
      " 1   English  9 non-null      object\n",
      " 2   Swahili  9 non-null      object\n",
      "dtypes: object(3)\n",
      "memory usage: 344.0+ bytes\n",
      "None\n"
     ]
    },
    {
     "data": {
      "text/html": [
       "<div>\n",
       "<style scoped>\n",
       "    .dataframe tbody tr th:only-of-type {\n",
       "        vertical-align: middle;\n",
       "    }\n",
       "\n",
       "    .dataframe tbody tr th {\n",
       "        vertical-align: top;\n",
       "    }\n",
       "\n",
       "    .dataframe thead th {\n",
       "        text-align: right;\n",
       "    }\n",
       "</style>\n",
       "<table border=\"1\" class=\"dataframe\">\n",
       "  <thead>\n",
       "    <tr style=\"text-align: right;\">\n",
       "      <th></th>\n",
       "      <th>Adhola</th>\n",
       "      <th>English</th>\n",
       "      <th>Swahili</th>\n",
       "    </tr>\n",
       "  </thead>\n",
       "  <tbody>\n",
       "    <tr>\n",
       "      <th>0</th>\n",
       "      <td>Dyel, Gwok Kodi Dhyaŋ</td>\n",
       "      <td>Goat, Dog, and Cow</td>\n",
       "      <td>Mbuzi, Mbwa na Ng'ombe</td>\n",
       "    </tr>\n",
       "    <tr>\n",
       "      <th>1</th>\n",
       "      <td>\\n\\tCango cango Dyel, Gwok gi Dhyaŋ jo bedo me...</td>\n",
       "      <td>\\n\\tGoat, Dog, and Cow\\nwere great friends. On...</td>\n",
       "      <td>\\n\\tMbuzi, Mbwa na Ng’ombe walikuwa marafiki w...</td>\n",
       "    </tr>\n",
       "    <tr>\n",
       "      <th>2</th>\n",
       "      <td>\\n\\tJo tundo kama joloro iye. Jagwey motoka op...</td>\n",
       "      <td>\\n\\tWhen they reached the\\nend of their journe...</td>\n",
       "      <td>\\n\\tWalipofika mwisho wa safari yao, dereva al...</td>\n",
       "    </tr>\n",
       "    <tr>\n",
       "      <th>3</th>\n",
       "      <td>\\n\\tGwok oculo pesa ma thoth, rupir go oyido o...</td>\n",
       "      <td>\\n\\tDog paid a bit extra,\\nbecause he did not\\...</td>\n",
       "      <td>\\n\\tMbwa alilipa zaidi kidogo kwa sababu hakuw...</td>\n",
       "    </tr>\n",
       "    <tr>\n",
       "      <th>4</th>\n",
       "      <td>\\n\\tJagwey motoka oyido chegin dwoko ri Gwok p...</td>\n",
       "      <td>\\n\\tThe driver was about to\\ngive Dog his chan...</td>\n",
       "      <td>\\n\\tDereva alipokaribia kumpa Mbwa chenji yake...</td>\n",
       "    </tr>\n",
       "    <tr>\n",
       "      <th>5</th>\n",
       "      <td>\\n\\tJagwey motoka omako nge swa. Go otugila mo...</td>\n",
       "      <td>\\n\\tThe driver was very\\nannoyed. He drove\\naw...</td>\n",
       "      <td>\\n\\tDereva alikasirika sana. Aliondoka bila ku...</td>\n",
       "    </tr>\n",
       "    <tr>\n",
       "      <th>6</th>\n",
       "      <td>\\n\\tMeno, ama omiyo kiri konon, fodi Gwok ŋwec...</td>\n",
       "      <td>\\n\\tThat is why, even\\ntoday, Dog runs\\ntoward...</td>\n",
       "      <td>\\n\\tHiyo ndiyo sababu hadi leo Mbwa hukimbiza ...</td>\n",
       "    </tr>\n",
       "    <tr>\n",
       "      <th>7</th>\n",
       "      <td>\\n\\tDyel ŋweco aŋweca ka owinjo mor ma motoka....</td>\n",
       "      <td>\\n\\tGoat runs away from\\nthe sound of a car. S...</td>\n",
       "      <td>\\n\\tMbuzi hukimbia anaposikia mlio wa gari. An...</td>\n",
       "    </tr>\n",
       "    <tr>\n",
       "      <th>8</th>\n",
       "      <td>\\n\\tDhyaŋ ki dew ri go kwoŋ motokin. Dhyaŋ gal...</td>\n",
       "      <td>\\n\\tAnd Cow is not\\nbothered when a car is\\nco...</td>\n",
       "      <td>\\n\\tNa Ng’ombe hababaiki gari likiwa linakuja....</td>\n",
       "    </tr>\n",
       "  </tbody>\n",
       "</table>\n",
       "</div>"
      ],
      "text/plain": [
       "                                              Adhola  \\\n",
       "0                              Dyel, Gwok Kodi Dhyaŋ   \n",
       "1  \\n\\tCango cango Dyel, Gwok gi Dhyaŋ jo bedo me...   \n",
       "2  \\n\\tJo tundo kama joloro iye. Jagwey motoka op...   \n",
       "3  \\n\\tGwok oculo pesa ma thoth, rupir go oyido o...   \n",
       "4  \\n\\tJagwey motoka oyido chegin dwoko ri Gwok p...   \n",
       "5  \\n\\tJagwey motoka omako nge swa. Go otugila mo...   \n",
       "6  \\n\\tMeno, ama omiyo kiri konon, fodi Gwok ŋwec...   \n",
       "7  \\n\\tDyel ŋweco aŋweca ka owinjo mor ma motoka....   \n",
       "8  \\n\\tDhyaŋ ki dew ri go kwoŋ motokin. Dhyaŋ gal...   \n",
       "\n",
       "                                             English  \\\n",
       "0                                 Goat, Dog, and Cow   \n",
       "1  \\n\\tGoat, Dog, and Cow\\nwere great friends. On...   \n",
       "2  \\n\\tWhen they reached the\\nend of their journe...   \n",
       "3  \\n\\tDog paid a bit extra,\\nbecause he did not\\...   \n",
       "4  \\n\\tThe driver was about to\\ngive Dog his chan...   \n",
       "5  \\n\\tThe driver was very\\nannoyed. He drove\\naw...   \n",
       "6  \\n\\tThat is why, even\\ntoday, Dog runs\\ntoward...   \n",
       "7  \\n\\tGoat runs away from\\nthe sound of a car. S...   \n",
       "8  \\n\\tAnd Cow is not\\nbothered when a car is\\nco...   \n",
       "\n",
       "                                             Swahili  \n",
       "0                             Mbuzi, Mbwa na Ng'ombe  \n",
       "1  \\n\\tMbuzi, Mbwa na Ng’ombe walikuwa marafiki w...  \n",
       "2  \\n\\tWalipofika mwisho wa safari yao, dereva al...  \n",
       "3  \\n\\tMbwa alilipa zaidi kidogo kwa sababu hakuw...  \n",
       "4  \\n\\tDereva alipokaribia kumpa Mbwa chenji yake...  \n",
       "5  \\n\\tDereva alikasirika sana. Aliondoka bila ku...  \n",
       "6  \\n\\tHiyo ndiyo sababu hadi leo Mbwa hukimbiza ...  \n",
       "7  \\n\\tMbuzi hukimbia anaposikia mlio wa gari. An...  \n",
       "8  \\n\\tNa Ng’ombe hababaiki gari likiwa linakuja....  "
      ]
     },
     "execution_count": 62,
     "metadata": {},
     "output_type": "execute_result"
    }
   ],
   "source": [
    "test_df = pd.DataFrame({\n",
    "'Adhola': adh,\n",
    "'English': eng,\n",
    "'Swahili': swa,\n",
    "})\n",
    "print(test_df.info())\n",
    "test_df"
   ]
  },
  {
   "cell_type": "code",
   "execution_count": 60,
   "metadata": {},
   "outputs": [
    {
     "data": {
      "text/plain": [
       "9"
      ]
     },
     "execution_count": 60,
     "metadata": {},
     "output_type": "execute_result"
    }
   ],
   "source": [
    "len(adh)"
   ]
  },
  {
   "cell_type": "code",
   "execution_count": 69,
   "metadata": {},
   "outputs": [],
   "source": [
    "import pandas as pd\n",
    "from time import sleep\n",
    "from random import randint\n",
    "from time import time\n",
    "from warnings import warn\n",
    "from IPython.core.display import clear_output\n"
   ]
  },
  {
   "cell_type": "code",
   "execution_count": 76,
   "metadata": {},
   "outputs": [
    {
     "name": "stdout",
     "output_type": "stream",
     "text": [
      "Request:7; Frequency: 0.07809122244363015 requests/s\n"
     ]
    }
   ],
   "source": [
    "adh=[]\n",
    "eng=[]\n",
    "swa=[]\n",
    "\n",
    "# Preparing the monitoring of the loop\n",
    "start_time = time()\n",
    "requests = 0\n",
    "\n",
    "# For every year in the interval 2000-2017\n",
    "for i in range(len(stry_ids)):\n",
    "\n",
    "        response = get(url+stry_ids[i])\n",
    "        # Pause the loop\n",
    "        sleep(randint(8,15))\n",
    "\n",
    "        # Monitor the requests\n",
    "        requests += 1\n",
    "        elapsed_time = time() - start_time\n",
    "        print('Request:{}; Frequency: {} requests/s'.format(requests, requests/elapsed_time))\n",
    "        clear_output(wait = True)\n",
    "\n",
    "        # Throw a warning for non-200 status codes\n",
    "        if response.status_code != 200:\n",
    "            warn('Request: {}; Status code: {}'.format(requests, response.status_code))\n",
    "\n",
    "        # Break the loop if the number of requests is greater than expected\n",
    "        if requests > 72:\n",
    "            warn('Number of requests was greater than expected.')\n",
    "            break\n",
    "\n",
    "        # Parse the content of the request with BeautifulSoup\n",
    "        page_html = BeautifulSoup(response.text, 'html.parser')\n",
    "\n",
    "        # Select all the sentences in that page\n",
    "        line_containers = page_html.find_all('div', class_ = 'columns')\n",
    "                \n",
    "\n",
    "        # For every sentence of the book\n",
    "        for i in range(len(line_containers)-1):\n",
    "            if i==0:\n",
    "                sent=line_containers[0].h1.find_all(\"span\")\n",
    "            else:\n",
    "                sent=line_containers[i].find_all(\"h3\")\n",
    "            if len(sent)>0: \n",
    "                adh.append(sent[0].text)\n",
    "                eng.append(sent[1].text)\n",
    "                swa.append(sent[2].text)"
   ]
  },
  {
   "cell_type": "code",
   "execution_count": 77,
   "metadata": {},
   "outputs": [
    {
     "name": "stdout",
     "output_type": "stream",
     "text": [
      "<class 'pandas.core.frame.DataFrame'>\n",
      "RangeIndex: 94 entries, 0 to 93\n",
      "Data columns (total 3 columns):\n",
      " #   Column   Non-Null Count  Dtype \n",
      "---  ------   --------------  ----- \n",
      " 0   Adhola   94 non-null     object\n",
      " 1   English  94 non-null     object\n",
      " 2   Swahili  94 non-null     object\n",
      "dtypes: object(3)\n",
      "memory usage: 2.3+ KB\n",
      "None\n"
     ]
    },
    {
     "data": {
      "text/html": [
       "<div>\n",
       "<style scoped>\n",
       "    .dataframe tbody tr th:only-of-type {\n",
       "        vertical-align: middle;\n",
       "    }\n",
       "\n",
       "    .dataframe tbody tr th {\n",
       "        vertical-align: top;\n",
       "    }\n",
       "\n",
       "    .dataframe thead th {\n",
       "        text-align: right;\n",
       "    }\n",
       "</style>\n",
       "<table border=\"1\" class=\"dataframe\">\n",
       "  <thead>\n",
       "    <tr style=\"text-align: right;\">\n",
       "      <th></th>\n",
       "      <th>Adhola</th>\n",
       "      <th>English</th>\n",
       "      <th>Swahili</th>\n",
       "    </tr>\n",
       "  </thead>\n",
       "  <tbody>\n",
       "    <tr>\n",
       "      <th>0</th>\n",
       "      <td>Mac</td>\n",
       "      <td>Fire</td>\n",
       "      <td>Moto</td>\n",
       "    </tr>\n",
       "    <tr>\n",
       "      <th>1</th>\n",
       "      <td>\\n\\tA nen mac!\\n\\t</td>\n",
       "      <td>\\n\\tLook, fire!\\n\\t</td>\n",
       "      <td>\\n\\tAngalia, moto!\\n\\t</td>\n",
       "    </tr>\n",
       "    <tr>\n",
       "      <th>2</th>\n",
       "      <td>\\n\\tMac waŋo gi kipiny.\\n\\t</td>\n",
       "      <td>\\n\\tFire burns.\\n\\t</td>\n",
       "      <td>\\n\\tMoto unachoma.\\n\\t</td>\n",
       "    </tr>\n",
       "    <tr>\n",
       "      <th>3</th>\n",
       "      <td>\\n\\tWatedo gi mac.\\n\\t</td>\n",
       "      <td>\\n\\tFire cooks.\\n\\t</td>\n",
       "      <td>\\n\\tMoto unatumika kupika.\\n\\t</td>\n",
       "    </tr>\n",
       "    <tr>\n",
       "      <th>4</th>\n",
       "      <td>\\n\\tMac kelo ri wan lyetho.\\n\\t</td>\n",
       "      <td>\\n\\tFire gives warmth.\\n\\t</td>\n",
       "      <td>\\n\\tMoto unaleta joto.\\n\\t</td>\n",
       "    </tr>\n",
       "    <tr>\n",
       "      <th>...</th>\n",
       "      <td>...</td>\n",
       "      <td>...</td>\n",
       "      <td>...</td>\n",
       "    </tr>\n",
       "    <tr>\n",
       "      <th>89</th>\n",
       "      <td>\\n\\tNyaka to yoki Ongongolo winjo dwondo jo ma...</td>\n",
       "      <td>\\n\\tThen Mother Millipede heard a tiny voice. ...</td>\n",
       "      <td>\\n\\tMama Jongoo akasikia sauti kwa mbali. “Nis...</td>\n",
       "    </tr>\n",
       "    <tr>\n",
       "      <th>90</th>\n",
       "      <td>\\n\\tYoki Ongongolo okoko, ori meni perini ma w...</td>\n",
       "      <td>\\n\\tMother Millipede shouted, “Use your specia...</td>\n",
       "      <td>\\n\\tMama Jongoo alipiga kelele, “Tumia nguvu y...</td>\n",
       "    </tr>\n",
       "    <tr>\n",
       "      <th>91</th>\n",
       "      <td>\\n\\tGweno ochukere. Nyaka to mwonyo gi ngulo. ...</td>\n",
       "      <td>\\n\\tChicken burped. Then she swallowed and spa...</td>\n",
       "      <td>\\n\\tKuku akabeuwa. Akameza mate na kutema. Hal...</td>\n",
       "    </tr>\n",
       "    <tr>\n",
       "      <th>92</th>\n",
       "      <td>\\n\\tGweno owolo nyuka owolo woko Ongongolo iyi...</td>\n",
       "      <td>\\n\\tChicken coughed until she coughed out the ...</td>\n",
       "      <td>\\n\\tKuku alikohoa, hadi akamtema jongoo aliyek...</td>\n",
       "    </tr>\n",
       "    <tr>\n",
       "      <th>93</th>\n",
       "      <td>\\n\\tWoki isawa no, Gwendi kodi Ongongolini jub...</td>\n",
       "      <td>\\n\\tFrom that time, chickens and millipedes we...</td>\n",
       "      <td>\\n\\tTangu hapo, Kuku na Jongoo ni maadui.\\n\\t</td>\n",
       "    </tr>\n",
       "  </tbody>\n",
       "</table>\n",
       "<p>94 rows × 3 columns</p>\n",
       "</div>"
      ],
      "text/plain": [
       "                                               Adhola  \\\n",
       "0                                                 Mac   \n",
       "1                                  \\n\\tA nen mac!\\n\\t   \n",
       "2                         \\n\\tMac waŋo gi kipiny.\\n\\t   \n",
       "3                              \\n\\tWatedo gi mac.\\n\\t   \n",
       "4                     \\n\\tMac kelo ri wan lyetho.\\n\\t   \n",
       "..                                                ...   \n",
       "89  \\n\\tNyaka to yoki Ongongolo winjo dwondo jo ma...   \n",
       "90  \\n\\tYoki Ongongolo okoko, ori meni perini ma w...   \n",
       "91  \\n\\tGweno ochukere. Nyaka to mwonyo gi ngulo. ...   \n",
       "92  \\n\\tGweno owolo nyuka owolo woko Ongongolo iyi...   \n",
       "93  \\n\\tWoki isawa no, Gwendi kodi Ongongolini jub...   \n",
       "\n",
       "                                              English  \\\n",
       "0                                                Fire   \n",
       "1                                 \\n\\tLook, fire!\\n\\t   \n",
       "2                                 \\n\\tFire burns.\\n\\t   \n",
       "3                                 \\n\\tFire cooks.\\n\\t   \n",
       "4                          \\n\\tFire gives warmth.\\n\\t   \n",
       "..                                                ...   \n",
       "89  \\n\\tThen Mother Millipede heard a tiny voice. ...   \n",
       "90  \\n\\tMother Millipede shouted, “Use your specia...   \n",
       "91  \\n\\tChicken burped. Then she swallowed and spa...   \n",
       "92  \\n\\tChicken coughed until she coughed out the ...   \n",
       "93  \\n\\tFrom that time, chickens and millipedes we...   \n",
       "\n",
       "                                              Swahili  \n",
       "0                                                Moto  \n",
       "1                              \\n\\tAngalia, moto!\\n\\t  \n",
       "2                              \\n\\tMoto unachoma.\\n\\t  \n",
       "3                      \\n\\tMoto unatumika kupika.\\n\\t  \n",
       "4                          \\n\\tMoto unaleta joto.\\n\\t  \n",
       "..                                                ...  \n",
       "89  \\n\\tMama Jongoo akasikia sauti kwa mbali. “Nis...  \n",
       "90  \\n\\tMama Jongoo alipiga kelele, “Tumia nguvu y...  \n",
       "91  \\n\\tKuku akabeuwa. Akameza mate na kutema. Hal...  \n",
       "92  \\n\\tKuku alikohoa, hadi akamtema jongoo aliyek...  \n",
       "93      \\n\\tTangu hapo, Kuku na Jongoo ni maadui.\\n\\t  \n",
       "\n",
       "[94 rows x 3 columns]"
      ]
     },
     "execution_count": 77,
     "metadata": {},
     "output_type": "execute_result"
    }
   ],
   "source": [
    "import pandas as pd\n",
    "test_df = pd.DataFrame({\n",
    "'Adhola': adh,\n",
    "'English': eng,\n",
    "'Swahili': swa,\n",
    "})\n",
    "print(test_df.info())\n",
    "test_df"
   ]
  },
  {
   "cell_type": "code",
   "execution_count": 83,
   "metadata": {},
   "outputs": [],
   "source": [
    "test_df.to_csv(\"global_strybks_adh_en_sw-raw.csv\", index=False)"
   ]
  },
  {
   "cell_type": "code",
   "execution_count": 97,
   "metadata": {},
   "outputs": [],
   "source": [
    "stripped=test_df.apply(lambda x : x.str.strip(), axis=1)"
   ]
  },
  {
   "cell_type": "code",
   "execution_count": 98,
   "metadata": {},
   "outputs": [],
   "source": [
    "stripped.to_csv(\"global_strybks_adh_en_sw-raw-stripped.csv\", index=False)"
   ]
  },
  {
   "cell_type": "code",
   "execution_count": 131,
   "metadata": {},
   "outputs": [
    {
     "data": {
      "text/plain": [
       "['Mac waŋo gi kipiny']"
      ]
     },
     "execution_count": 131,
     "metadata": {},
     "output_type": "execute_result"
    }
   ],
   "source": [
    "adh[2].strip().strip(\".\").split(\".\")"
   ]
  },
  {
   "cell_type": "code",
   "execution_count": 130,
   "metadata": {},
   "outputs": [
    {
     "data": {
      "text/plain": [
       "'Mac'"
      ]
     },
     "execution_count": 130,
     "metadata": {},
     "output_type": "execute_result"
    }
   ],
   "source": [
    "adh[0]"
   ]
  },
  {
   "cell_type": "code",
   "execution_count": 102,
   "metadata": {},
   "outputs": [
    {
     "data": {
      "text/plain": [
       "['Then Mother Millipede heard a tiny voice',\n",
       " ' “Help me mom!” cried the voice',\n",
       " ' Mother Millipede looked around and listened carefully',\n",
       " ' The voice came from inside the chicken',\n",
       " '']"
      ]
     },
     "execution_count": 102,
     "metadata": {},
     "output_type": "execute_result"
    }
   ],
   "source": [
    "eng[89].strip().strisplit(\".\")"
   ]
  },
  {
   "cell_type": "code",
   "execution_count": 103,
   "metadata": {},
   "outputs": [
    {
     "data": {
      "text/plain": [
       "['Mama Jongoo akasikia sauti kwa mbali',\n",
       " ' “Nisaidie mama!” ile sauti ililia',\n",
       " ' Mama Jongoo akaangalia huku na kule na kusikiliza kwa makini',\n",
       " ' Sauti ilitokea tumboni mwa kuku',\n",
       " '']"
      ]
     },
     "execution_count": 103,
     "metadata": {},
     "output_type": "execute_result"
    }
   ],
   "source": [
    "swa[89].strip().split(\".\")"
   ]
  },
  {
   "cell_type": "code",
   "execution_count": 134,
   "metadata": {},
   "outputs": [],
   "source": [
    "adh_big=[]\n",
    "eng_big=[]\n",
    "swa_big=[]"
   ]
  },
  {
   "cell_type": "code",
   "execution_count": 135,
   "metadata": {},
   "outputs": [],
   "source": [
    "unequal_idx=[]"
   ]
  },
  {
   "cell_type": "code",
   "execution_count": 136,
   "metadata": {},
   "outputs": [],
   "source": [
    "for i in range(len(adh)):\n",
    "        adh_split=adh[i].strip().strip(\".\").split(\".\")\n",
    "        eng_split=eng[i].strip().strip(\".\").split(\".\")\n",
    "        swa_split=swa[i].strip().strip(\".\").split(\".\")\n",
    "#         len_adh_split=len(adh_split)\n",
    "#         len_eng_split=len(eng_split) \n",
    "#         len_swa_split=len(swa_split)\n",
    "\n",
    "        if len(adh_split)==len(eng_split) and len(adh_split)==len(swa_split):\n",
    "            adh_big.extend(adh_split)\n",
    "            eng_big.extend(eng_split)\n",
    "            swa_big.extend(swa_split)\n",
    "        else:\n",
    "            adh_big.append(adh[i])\n",
    "            eng_big.append(eng[i])\n",
    "            swa_big.append(swa[i])\n",
    "            unequal_idx.append(i)\n"
   ]
  },
  {
   "cell_type": "code",
   "execution_count": 137,
   "metadata": {},
   "outputs": [
    {
     "name": "stdout",
     "output_type": "stream",
     "text": [
      "<class 'pandas.core.frame.DataFrame'>\n",
      "RangeIndex: 153 entries, 0 to 152\n",
      "Data columns (total 3 columns):\n",
      " #   Column   Non-Null Count  Dtype \n",
      "---  ------   --------------  ----- \n",
      " 0   Adhola   153 non-null    object\n",
      " 1   English  153 non-null    object\n",
      " 2   Swahili  153 non-null    object\n",
      "dtypes: object(3)\n",
      "memory usage: 3.7+ KB\n",
      "None\n"
     ]
    },
    {
     "data": {
      "text/html": [
       "<div>\n",
       "<style scoped>\n",
       "    .dataframe tbody tr th:only-of-type {\n",
       "        vertical-align: middle;\n",
       "    }\n",
       "\n",
       "    .dataframe tbody tr th {\n",
       "        vertical-align: top;\n",
       "    }\n",
       "\n",
       "    .dataframe thead th {\n",
       "        text-align: right;\n",
       "    }\n",
       "</style>\n",
       "<table border=\"1\" class=\"dataframe\">\n",
       "  <thead>\n",
       "    <tr style=\"text-align: right;\">\n",
       "      <th></th>\n",
       "      <th>Adhola</th>\n",
       "      <th>English</th>\n",
       "      <th>Swahili</th>\n",
       "    </tr>\n",
       "  </thead>\n",
       "  <tbody>\n",
       "    <tr>\n",
       "      <th>0</th>\n",
       "      <td>Mac</td>\n",
       "      <td>Fire</td>\n",
       "      <td>Moto</td>\n",
       "    </tr>\n",
       "    <tr>\n",
       "      <th>1</th>\n",
       "      <td>A nen mac!</td>\n",
       "      <td>Look, fire!</td>\n",
       "      <td>Angalia, moto!</td>\n",
       "    </tr>\n",
       "    <tr>\n",
       "      <th>2</th>\n",
       "      <td>Mac waŋo gi kipiny</td>\n",
       "      <td>Fire burns</td>\n",
       "      <td>Moto unachoma</td>\n",
       "    </tr>\n",
       "    <tr>\n",
       "      <th>3</th>\n",
       "      <td>Watedo gi mac</td>\n",
       "      <td>Fire cooks</td>\n",
       "      <td>Moto unatumika kupika</td>\n",
       "    </tr>\n",
       "    <tr>\n",
       "      <th>4</th>\n",
       "      <td>Mac kelo ri wan lyetho</td>\n",
       "      <td>Fire gives warmth</td>\n",
       "      <td>Moto unaleta joto</td>\n",
       "    </tr>\n",
       "    <tr>\n",
       "      <th>...</th>\n",
       "      <td>...</td>\n",
       "      <td>...</td>\n",
       "      <td>...</td>\n",
       "    </tr>\n",
       "    <tr>\n",
       "      <th>148</th>\n",
       "      <td>Gweno ochako kichiroki pa two</td>\n",
       "      <td>Chicken began to feel ill</td>\n",
       "      <td>Kuku akaanza kujisikia mgonjwa</td>\n",
       "    </tr>\n",
       "    <tr>\n",
       "      <th>149</th>\n",
       "      <td>\\n\\tGweno ochukere. Nyaka to mwonyo gi ngulo. ...</td>\n",
       "      <td>\\n\\tChicken burped. Then she swallowed and spa...</td>\n",
       "      <td>\\n\\tKuku akabeuwa. Akameza mate na kutema. Hal...</td>\n",
       "    </tr>\n",
       "    <tr>\n",
       "      <th>150</th>\n",
       "      <td>Gweno owolo nyuka owolo woko Ongongolo iyii go</td>\n",
       "      <td>Chicken coughed until she coughed out the mill...</td>\n",
       "      <td>Kuku alikohoa, hadi akamtema jongoo aliyekuwa ...</td>\n",
       "    </tr>\n",
       "    <tr>\n",
       "      <th>151</th>\n",
       "      <td>Yoki Ongongolo gi nyathi pere jurweta malo iw...</td>\n",
       "      <td>Mother Millipede and her child crawled up a t...</td>\n",
       "      <td>Mama Jongoo na mwanaye wakakwea mti kujificha</td>\n",
       "    </tr>\n",
       "    <tr>\n",
       "      <th>152</th>\n",
       "      <td>Woki isawa no, Gwendi kodi Ongongolini jubedo ...</td>\n",
       "      <td>From that time, chickens and millipedes were e...</td>\n",
       "      <td>Tangu hapo, Kuku na Jongoo ni maadui</td>\n",
       "    </tr>\n",
       "  </tbody>\n",
       "</table>\n",
       "<p>153 rows × 3 columns</p>\n",
       "</div>"
      ],
      "text/plain": [
       "                                                Adhola  \\\n",
       "0                                                  Mac   \n",
       "1                                           A nen mac!   \n",
       "2                                   Mac waŋo gi kipiny   \n",
       "3                                        Watedo gi mac   \n",
       "4                               Mac kelo ri wan lyetho   \n",
       "..                                                 ...   \n",
       "148                      Gweno ochako kichiroki pa two   \n",
       "149  \\n\\tGweno ochukere. Nyaka to mwonyo gi ngulo. ...   \n",
       "150     Gweno owolo nyuka owolo woko Ongongolo iyii go   \n",
       "151   Yoki Ongongolo gi nyathi pere jurweta malo iw...   \n",
       "152  Woki isawa no, Gwendi kodi Ongongolini jubedo ...   \n",
       "\n",
       "                                               English  \\\n",
       "0                                                 Fire   \n",
       "1                                          Look, fire!   \n",
       "2                                           Fire burns   \n",
       "3                                           Fire cooks   \n",
       "4                                    Fire gives warmth   \n",
       "..                                                 ...   \n",
       "148                          Chicken began to feel ill   \n",
       "149  \\n\\tChicken burped. Then she swallowed and spa...   \n",
       "150  Chicken coughed until she coughed out the mill...   \n",
       "151   Mother Millipede and her child crawled up a t...   \n",
       "152  From that time, chickens and millipedes were e...   \n",
       "\n",
       "                                               Swahili  \n",
       "0                                                 Moto  \n",
       "1                                       Angalia, moto!  \n",
       "2                                        Moto unachoma  \n",
       "3                                Moto unatumika kupika  \n",
       "4                                    Moto unaleta joto  \n",
       "..                                                 ...  \n",
       "148                     Kuku akaanza kujisikia mgonjwa  \n",
       "149  \\n\\tKuku akabeuwa. Akameza mate na kutema. Hal...  \n",
       "150  Kuku alikohoa, hadi akamtema jongoo aliyekuwa ...  \n",
       "151      Mama Jongoo na mwanaye wakakwea mti kujificha  \n",
       "152               Tangu hapo, Kuku na Jongoo ni maadui  \n",
       "\n",
       "[153 rows x 3 columns]"
      ]
     },
     "execution_count": 137,
     "metadata": {},
     "output_type": "execute_result"
    }
   ],
   "source": [
    "big_df = pd.DataFrame({\n",
    "'Adhola': adh_big,\n",
    "'English': eng_big,\n",
    "'Swahili': swa_big,\n",
    "})\n",
    "print(big_df.info())\n",
    "big_df"
   ]
  },
  {
   "cell_type": "code",
   "execution_count": 143,
   "metadata": {},
   "outputs": [],
   "source": [
    "big_df=pd.read_csv(\"global_strybks_adh_en_sw-partially-sequenced.csv\")"
   ]
  },
  {
   "cell_type": "code",
   "execution_count": 156,
   "metadata": {},
   "outputs": [],
   "source": [
    "big_df.replace('  ', np.nan, inplace=True)\n",
    "big_df.replace('', np.nan, inplace=True)\n",
    "big_df.replace('\\r\\n', np.nan, inplace=True)\n",
    "big_df.dropna(inplace=True)"
   ]
  },
  {
   "cell_type": "code",
   "execution_count": 138,
   "metadata": {},
   "outputs": [
    {
     "data": {
      "text/plain": [
       "[32, 34, 36, 38, 42, 44, 45, 46, 48, 49, 50, 51, 52, 53, 55, 57, 58, 65, 91]"
      ]
     },
     "execution_count": 138,
     "metadata": {},
     "output_type": "execute_result"
    }
   ],
   "source": [
    "unequal_idx"
   ]
  },
  {
   "cell_type": "code",
   "execution_count": 140,
   "metadata": {},
   "outputs": [],
   "source": [
    "big_df.to_csv(\"global_strybks_adh_en_sw-partially-sequenced.csv\", index=False)"
   ]
  },
  {
   "cell_type": "code",
   "execution_count": null,
   "metadata": {},
   "outputs": [],
   "source": []
  }
 ],
 "metadata": {
  "kernelspec": {
   "display_name": "Python 3",
   "language": "python",
   "name": "python3"
  },
  "language_info": {
   "codemirror_mode": {
    "name": "ipython",
    "version": 3
   },
   "file_extension": ".py",
   "mimetype": "text/x-python",
   "name": "python",
   "nbconvert_exporter": "python",
   "pygments_lexer": "ipython3",
   "version": "3.7.6"
  }
 },
 "nbformat": 4,
 "nbformat_minor": 4
}
