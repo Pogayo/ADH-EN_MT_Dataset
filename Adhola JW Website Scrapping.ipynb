{
 "cells": [
  {
   "cell_type": "code",
   "execution_count": 62,
   "metadata": {},
   "outputs": [],
   "source": [
    "from requests import get\n",
    "import pandas as pd\n",
    "import numpy as np"
   ]
  },
  {
   "cell_type": "code",
   "execution_count": 63,
   "metadata": {},
   "outputs": [],
   "source": [
    "adh_url=['https://www.jw.org/adh/kitawin/kitawin/wac-maber-mawok-bongi-were/were-a-%C5%8Ba/',\n",
    "         \"https://www.jw.org/adh/kitawin/kitawin/wac-maber-mawok-bongi-were/wac-maber-manitye-baibul-wok-bongi-were/\",\n",
    "         \"https://www.jw.org/adh/kitawin/kitawin/wac-maber-mawok-bongi-were/yesu-kristo-a-%C5%8Ba/\",\n",
    "         \"https://www.jw.org/adh/kitawin/kitawin/wac-maber-mawok-bongi-were/ra%C5%8Bo-were-ocweyo-piny/\",\n",
    "         \"https://www.jw.org/adh/kitawin/kitawin/wac-maber-mawok-bongi-were/jomotho-jonyalo-kwo-kendo/\",\n",
    "         \"https://www.jw.org/adh/kitawin/kitawin/wac-maber-mawok-bongi-were/ker-pa-were-a-gina%C5%8Bo/\",\n",
    "         \"https://www.jw.org/adh/kitawin/kitawin/wac-maber-mawok-bongi-were/ra%C5%8Bo-were-weyo-gikipiny-mareco-kodi-candirok-bedo/\",\n",
    "    \"https://www.jw.org/adh/kitawin/kitawin/wac-maber-mawok-bongi-were/peco-mewin-nyalo-nedi-bediye-kisangala/\",\n",
    "         \"https://www.jw.org/adh/kitawin/kitawin/wac-maber-mawok-bongi-were/%C5%8Beyi-joma-jonitie-i-din-maradieri/\",\n",
    "         \"https://www.jw.org/adh/kitawin/kitawin/wac-maber-mawok-bongi-were/cik-pa-were-konyo-wan/\",\n",
    "         \"https://www.jw.org/adh/kitawin/kitawin/wac-maber-mawok-bongi-were/core-cegin-gi-were/\",\n",
    "         \"https://www.jw.org/adh/kitawin/kitawin/wac-maber-mawok-bongi-were/gina%C5%8Bo-ma-latundo-kwo%C5%8B-din/\",\n",
    "         \"https://www.jw.org/adh/kitawin/kitawin/wac-maber-mawok-bongi-were/kitipa-pa-wajulizi-pa-jehova/\",\n",
    "         \"https://www.jw.org/adh/kitawin/kitawin/wac-maber-mawok-bongi-were/medere-fonjirok-baibul/\"\n",
    "         \n",
    "]\n",
    "eng_url=[\n",
    "    \"https://www.jw.org/en/library/books/good-news-from-god/who-is-god/\",\n",
    "    \"https://www.jw.org/en/library/books/good-news-from-god/good-news-in-the-bible-from-god/\",\n",
    "    \"https://www.jw.org/en/library/books/good-news-from-god/who-is-jesus-christ/\",\n",
    "    \"https://www.jw.org/en/library/books/good-news-from-god/why-did-god-create-the-earth/\",\n",
    "    \"https://www.jw.org/en/library/books/good-news-from-god/what-hope-for-the-dead/\",\n",
    "    \"https://www.jw.org/en/library/books/good-news-from-god/what-is-gods-kingdom/\",\n",
    "    \"https://www.jw.org/en/library/books/good-news-from-god/why-god-allows-evil-and-suffering/\",\n",
    "    \"https://www.jw.org/en/library/books/good-news-from-god/how-can-your-family-be-happy/\",\n",
    "    \"https://www.jw.org/en/library/books/good-news-from-god/recognize-true-worshippers/\",\n",
    "    \"https://www.jw.org/en/library/books/good-news-from-god/bible-principles-benefit-us/\",\n",
    "    \"https://www.jw.org/en/library/books/good-news-from-god/draw-close-to-god/\",\n",
    "    \"https://www.jw.org/en/library/books/good-news-from-god/good-news-about-religion/\",\n",
    "    \"https://www.jw.org/en/library/books/good-news-from-god/jehovahs-witnesses-organization/\",\n",
    "    \"https://www.jw.org/en/library/books/good-news-from-god/continue-to-study-the-bible/\"\n",
    "   \n",
    "    \n",
    "]\n",
    "title=[\n",
    "    \"Who is God\", 'is the good news really from God', \"Who is Jesus Christ\", \"Why did God create the earth\",\"What hope is there for the dead?\",\n",
    "    \"what is gods kingdom\", \"why-god-allows-evil-and-suffering\", \"How Can Your Family Be Happy?\",\"How Can You Recognize True Worship?\",\"How Do Bible Principles Benefit Us?\"\n",
    "    \"How Can You Draw Close to God?\", \"What Is the Good News About Religion?\",\n",
    "    \"Why Does God Have an Organization?\",\"Why Should You Continue?\"\n",
    "    \n",
    "]"
   ]
  },
  {
   "cell_type": "code",
   "execution_count": null,
   "metadata": {},
   "outputs": [],
   "source": []
  },
  {
   "cell_type": "code",
   "execution_count": 28,
   "metadata": {},
   "outputs": [
    {
     "data": {
      "text/plain": [
       "bs4.BeautifulSoup"
      ]
     },
     "execution_count": 28,
     "metadata": {},
     "output_type": "execute_result"
    }
   ],
   "source": [
    "from bs4 import BeautifulSoup\n",
    "html_soup = BeautifulSoup(response.text, 'html.parser')\n",
    "type(html_soup)"
   ]
  },
  {
   "cell_type": "code",
   "execution_count": 29,
   "metadata": {},
   "outputs": [
    {
     "name": "stdout",
     "output_type": "stream",
     "text": [
      "<class 'bs4.element.Tag'>\n",
      "11\n"
     ]
    }
   ],
   "source": [
    "body = html_soup.find('div', class_ = 'bodyTxt')\n",
    "print(type(line_containers))\n",
    "print(len(line_containers))"
   ]
  },
  {
   "cell_type": "code",
   "execution_count": 30,
   "metadata": {},
   "outputs": [
    {
     "name": "stdout",
     "output_type": "stream",
     "text": [
      "1. Why should we worship God?\n"
     ]
    }
   ],
   "source": [
    "print(body.h2.text)"
   ]
  },
  {
   "cell_type": "code",
   "execution_count": 31,
   "metadata": {},
   "outputs": [
    {
     "name": "stdout",
     "output_type": "stream",
     "text": [
      "1. Why should we worship God?\n",
      "2. What is God like?\n",
      "3. Does God have a name?\n",
      "4. Does Jehovah care about us?\n",
      "5. How can we draw closer to God?\n"
     ]
    }
   ],
   "source": [
    "headings=body.find_all(\"h2\")\n",
    "for head in headings:\n",
    "  print(head.text)"
   ]
  },
  {
   "cell_type": "code",
   "execution_count": 72,
   "metadata": {},
   "outputs": [
    {
     "data": {
      "text/plain": [
       "'1. Why should we worship God?'"
      ]
     },
     "execution_count": 72,
     "metadata": {},
     "output_type": "execute_result"
    }
   ],
   "source": [
    "headings[0].text"
   ]
  },
  {
   "cell_type": "code",
   "execution_count": 32,
   "metadata": {},
   "outputs": [
    {
     "name": "stdout",
     "output_type": "stream",
     "text": [
      "The true God is the Creator of all things. He had no beginning and will never have an end. (Psalm 90:2) He is the Source of the good news found in the Bible. (1 Timothy 1:11) Since God gave us life, we should worship only him.​—Read Revelation 4:11.\n",
      "No human has ever seen God because he is a Spirit, which means that he is a higher form of life than the physical creatures who live on earth. (John 1:18; 4:24) Nevertheless, we can discern God’s personality from the things he has made. For instance, the variety of fruits and flowers tells us of his love and wisdom. The size of the universe tells us of his power.​—Read Romans 1:20.\n",
      "We can learn even more about God’s personality by reading the Bible. For example, it tells us what God likes and what he does not like, how he treats people, and how he reacts in different situations.​—Read Psalm 103:7-10.\n",
      "Jesus said: “Our Father in the heavens, let your name be sanctified.” (Matthew 6:9) Although God has many titles, he has only one name. In each language, it is pronounced differently. In English it is usually pronounced “Jehovah.” But some people pronounce it “Yahweh.”​—Read Psalm 83:18.\n",
      "God’s name has been taken out of many Bibles and replaced with the titles Lord or God. But when the Bible was written, it contained God’s name some 7,000 times.  Jesus made God’s name known when he taught people about God.​—Read John 17:26.\n",
      "Watch the video Does God Have a Name?\n",
      "Sorry, the media player failed to load.\n",
      "Download This Video\n",
      "Like this loving father, God is acting for our long-term good\n",
      "Does widespread suffering mean that Jehovah is a God who does not care about us? Some people claim that he makes us suffer to test us, but this is not true.​—Read James 1:13.\n",
      "God has granted man the dignity of free will. Do we not appreciate our freedom to choose to serve God? (Joshua 24:15) But many choose to do bad things to others, so suffering abounds. It saddens Jehovah to see such injustice.​—Read Genesis 6:5, 6.\n",
      "Jehovah is a God who cares about us. He wants us to enjoy life. Soon he will eliminate suffering and those who cause it. Meanwhile, he has good reason to allow suffering for a limited time. In Lesson 8, we will learn what that reason is.​—Read 2 Peter 2:9; 3:7, 13.\n",
      "Jehovah invites us to draw close to him by speaking to him in prayer. He is interested in us individually. (Psalm 65:2; 145:18) He is willing to forgive. He recognizes our efforts to please him, even if we sometimes fail. So despite our imperfection, we really can enjoy a close relationship with God.​—Read Psalm 103:12-14; James 4:8.\n",
      "Since Jehovah has given us life, we should love him more than we love anyone else. (Mark 12:30) As you express your love for God by learning more about him and doing as he asks, you will draw ever closer to him.​—Read 1 Timothy 2:4; 1 John 5:3.\n"
     ]
    }
   ],
   "source": [
    "parag=body.find_all(\"p\")\n",
    "for par in parag:\n",
    "  print(par.text)\n"
   ]
  },
  {
   "cell_type": "code",
   "execution_count": 66,
   "metadata": {},
   "outputs": [
    {
     "ename": "AttributeError",
     "evalue": "ResultSet object has no attribute 'text'. You're probably treating a list of elements like a single element. Did you call find_all() when you meant to call find()?",
     "output_type": "error",
     "traceback": [
      "\u001b[1;31m---------------------------------------------------------------------------\u001b[0m",
      "\u001b[1;31mAttributeError\u001b[0m                            Traceback (most recent call last)",
      "\u001b[1;32m<ipython-input-66-1bf0af4ed0de>\u001b[0m in \u001b[0;36m<module>\u001b[1;34m\u001b[0m\n\u001b[1;32m----> 1\u001b[1;33m \u001b[0mparag\u001b[0m\u001b[1;33m.\u001b[0m\u001b[0mtext\u001b[0m\u001b[1;33m(\u001b[0m\u001b[1;33m)\u001b[0m\u001b[1;33m\u001b[0m\u001b[1;33m\u001b[0m\u001b[0m\n\u001b[0m",
      "\u001b[1;32mC:\\ProgramData\\Anaconda3\\lib\\site-packages\\bs4\\element.py\u001b[0m in \u001b[0;36m__getattr__\u001b[1;34m(self, key)\u001b[0m\n\u001b[0;32m   2079\u001b[0m         \u001b[1;34m\"\"\"Raise a helpful exception to explain a common code fix.\"\"\"\u001b[0m\u001b[1;33m\u001b[0m\u001b[1;33m\u001b[0m\u001b[0m\n\u001b[0;32m   2080\u001b[0m         raise AttributeError(\n\u001b[1;32m-> 2081\u001b[1;33m             \u001b[1;34m\"ResultSet object has no attribute '%s'. You're probably treating a list of elements like a single element. Did you call find_all() when you meant to call find()?\"\u001b[0m \u001b[1;33m%\u001b[0m \u001b[0mkey\u001b[0m\u001b[1;33m\u001b[0m\u001b[1;33m\u001b[0m\u001b[0m\n\u001b[0m\u001b[0;32m   2082\u001b[0m         )\n",
      "\u001b[1;31mAttributeError\u001b[0m: ResultSet object has no attribute 'text'. You're probably treating a list of elements like a single element. Did you call find_all() when you meant to call find()?"
     ]
    }
   ],
   "source": [
    "parag.text()"
   ]
  },
  {
   "cell_type": "code",
   "execution_count": 24,
   "metadata": {},
   "outputs": [],
   "source": [
    "adh=[]\n",
    "eng=[]"
   ]
  },
  {
   "cell_type": "code",
   "execution_count": 25,
   "metadata": {},
   "outputs": [],
   "source": [
    "adh.extend(headings)\n",
    "adh.extend(parag)"
   ]
  },
  {
   "cell_type": "code",
   "execution_count": 33,
   "metadata": {},
   "outputs": [],
   "source": [
    "eng.extend(headings)\n",
    "eng.extend(parag)"
   ]
  },
  {
   "cell_type": "code",
   "execution_count": 34,
   "metadata": {},
   "outputs": [
    {
     "name": "stdout",
     "output_type": "stream",
     "text": [
      "19\n",
      "19\n"
     ]
    }
   ],
   "source": [
    "print(len(adh))\n",
    "print(len(adh))"
   ]
  },
  {
   "cell_type": "code",
   "execution_count": 35,
   "metadata": {},
   "outputs": [],
   "source": [
    "from time import sleep\n",
    "from random import randint\n",
    "from time import time\n",
    "from warnings import warn\n",
    "from IPython.core.display import clear_output\n"
   ]
  },
  {
   "cell_type": "code",
   "execution_count": 36,
   "metadata": {},
   "outputs": [
    {
     "name": "stdout",
     "output_type": "stream",
     "text": [
      "<class 'pandas.core.frame.DataFrame'>\n",
      "RangeIndex: 19 entries, 0 to 18\n",
      "Data columns (total 2 columns):\n",
      " #   Column   Non-Null Count  Dtype \n",
      "---  ------   --------------  ----- \n",
      " 0   Adhola   19 non-null     object\n",
      " 1   English  19 non-null     object\n",
      "dtypes: object(2)\n",
      "memory usage: 432.0+ bytes\n",
      "None\n"
     ]
    },
    {
     "data": {
      "text/html": [
       "<div>\n",
       "<style scoped>\n",
       "    .dataframe tbody tr th:only-of-type {\n",
       "        vertical-align: middle;\n",
       "    }\n",
       "\n",
       "    .dataframe tbody tr th {\n",
       "        vertical-align: top;\n",
       "    }\n",
       "\n",
       "    .dataframe thead th {\n",
       "        text-align: right;\n",
       "    }\n",
       "</style>\n",
       "<table border=\"1\" class=\"dataframe\">\n",
       "  <thead>\n",
       "    <tr style=\"text-align: right;\">\n",
       "      <th></th>\n",
       "      <th>Adhola</th>\n",
       "      <th>English</th>\n",
       "    </tr>\n",
       "  </thead>\n",
       "  <tbody>\n",
       "    <tr>\n",
       "      <th>0</th>\n",
       "      <td>[1.  Raŋo waripo lamo Were?]</td>\n",
       "      <td>[1. Why should we worship God?]</td>\n",
       "    </tr>\n",
       "    <tr>\n",
       "      <th>1</th>\n",
       "      <td>[2. Baibul fonjo wan aŋo kwoŋ Were?]</td>\n",
       "      <td>[2. What is God like?]</td>\n",
       "    </tr>\n",
       "    <tr>\n",
       "      <th>2</th>\n",
       "      <td>[3. Were nigi nyinge?]</td>\n",
       "      <td>[3. Does God have a name?]</td>\n",
       "    </tr>\n",
       "    <tr>\n",
       "      <th>3</th>\n",
       "      <td>[[ ], 4. Jehova dewo kwoŋ wan?]</td>\n",
       "      <td>[4. Does Jehovah care about us?]</td>\n",
       "    </tr>\n",
       "    <tr>\n",
       "      <th>4</th>\n",
       "      <td>[5. Wanyalo nedi bedo merin pa Were?]</td>\n",
       "      <td>[5. How can we draw closer to God?]</td>\n",
       "    </tr>\n",
       "    <tr>\n",
       "      <th>5</th>\n",
       "      <td>[Were mar’adieri am’ocweyo kis gimoro je. Go o...</td>\n",
       "      <td>[The true God is the Creator of all things. He...</td>\n",
       "    </tr>\n",
       "    <tr>\n",
       "      <th>6</th>\n",
       "      <td>[Ongoye dhano m’otieko nenoye Were rupiri Were...</td>\n",
       "      <td>[No human has ever seen God because he is a Sp...</td>\n",
       "    </tr>\n",
       "    <tr>\n",
       "      <th>7</th>\n",
       "      <td>[Wanyalo fonjere gikipiny makweth ma mako kwoŋ...</td>\n",
       "      <td>[We can learn even more about God’s personalit...</td>\n",
       "    </tr>\n",
       "    <tr>\n",
       "      <th>8</th>\n",
       "      <td>[Yesu owaco ni: “Bawan ma i polo; nyingin wolw...</td>\n",
       "      <td>[Jesus said: “Our Father in the heavens, let y...</td>\n",
       "    </tr>\n",
       "    <tr>\n",
       "      <th>9</th>\n",
       "      <td>[I Baibul mathoth okwanyi woko nyingi Were tik...</td>\n",
       "      <td>[God’s name has been taken out of many Bibles ...</td>\n",
       "    </tr>\n",
       "    <tr>\n",
       "      <th>10</th>\n",
       "      <td>[[Neni vidiyo ], [[Were Nigi Nyinge?]]]</td>\n",
       "      <td>[[Watch the video ], [[Does God Have a Name?]]]</td>\n",
       "    </tr>\n",
       "    <tr>\n",
       "      <th>11</th>\n",
       "      <td>[Chwaki ri wan, , [media player],  okwero.]</td>\n",
       "      <td>[Sorry, the media player failed to load.]</td>\n",
       "    </tr>\n",
       "    <tr>\n",
       "      <th>12</th>\n",
       "      <td>[[Gami Vidiyo Me]]</td>\n",
       "      <td>[[Download This Video]]</td>\n",
       "    </tr>\n",
       "    <tr>\n",
       "      <th>13</th>\n",
       "      <td>[Paka janywol me dewo kwoŋ nyathi pere, apaka ...</td>\n",
       "      <td>[Like this loving father, God is acting for ou...</td>\n",
       "    </tr>\n",
       "    <tr>\n",
       "      <th>14</th>\n",
       "      <td>[Candirok madit manitie i piny nyutho ni Jehov...</td>\n",
       "      <td>[Does widespread suffering mean that Jehovah i...</td>\n",
       "    </tr>\n",
       "    <tr>\n",
       "      <th>15</th>\n",
       "      <td>[Were omiyo wan thwolo ma yero gimarac kosa gi...</td>\n",
       "      <td>[God has granted man the dignity of free will....</td>\n",
       "    </tr>\n",
       "    <tr>\n",
       "      <th>16</th>\n",
       "      <td>[Jehova obedo Were ma dewo kwoŋ wan. Go mito n...</td>\n",
       "      <td>[Jehovah is a God who cares about us. He wants...</td>\n",
       "    </tr>\n",
       "    <tr>\n",
       "      <th>17</th>\n",
       "      <td>[Jehova mito wabedi merin pere. Go mito ni wak...</td>\n",
       "      <td>[Jehovah invites us to draw close to him by sp...</td>\n",
       "    </tr>\n",
       "    <tr>\n",
       "      <th>18</th>\n",
       "      <td>[Rupiri Jehova am’omiyo wan kwo, waripo maro g...</td>\n",
       "      <td>[Since Jehovah has given us life, we should lo...</td>\n",
       "    </tr>\n",
       "  </tbody>\n",
       "</table>\n",
       "</div>"
      ],
      "text/plain": [
       "                                               Adhola  \\\n",
       "0                        [1.  Raŋo waripo lamo Were?]   \n",
       "1                [2. Baibul fonjo wan aŋo kwoŋ Were?]   \n",
       "2                              [3. Were nigi nyinge?]   \n",
       "3                     [[ ], 4. Jehova dewo kwoŋ wan?]   \n",
       "4               [5. Wanyalo nedi bedo merin pa Were?]   \n",
       "5   [Were mar’adieri am’ocweyo kis gimoro je. Go o...   \n",
       "6   [Ongoye dhano m’otieko nenoye Were rupiri Were...   \n",
       "7   [Wanyalo fonjere gikipiny makweth ma mako kwoŋ...   \n",
       "8   [Yesu owaco ni: “Bawan ma i polo; nyingin wolw...   \n",
       "9   [I Baibul mathoth okwanyi woko nyingi Were tik...   \n",
       "10            [[Neni vidiyo ], [[Were Nigi Nyinge?]]]   \n",
       "11        [Chwaki ri wan, , [media player],  okwero.]   \n",
       "12                                 [[Gami Vidiyo Me]]   \n",
       "13  [Paka janywol me dewo kwoŋ nyathi pere, apaka ...   \n",
       "14  [Candirok madit manitie i piny nyutho ni Jehov...   \n",
       "15  [Were omiyo wan thwolo ma yero gimarac kosa gi...   \n",
       "16  [Jehova obedo Were ma dewo kwoŋ wan. Go mito n...   \n",
       "17  [Jehova mito wabedi merin pere. Go mito ni wak...   \n",
       "18  [Rupiri Jehova am’omiyo wan kwo, waripo maro g...   \n",
       "\n",
       "                                              English  \n",
       "0                     [1. Why should we worship God?]  \n",
       "1                              [2. What is God like?]  \n",
       "2                          [3. Does God have a name?]  \n",
       "3                    [4. Does Jehovah care about us?]  \n",
       "4                 [5. How can we draw closer to God?]  \n",
       "5   [The true God is the Creator of all things. He...  \n",
       "6   [No human has ever seen God because he is a Sp...  \n",
       "7   [We can learn even more about God’s personalit...  \n",
       "8   [Jesus said: “Our Father in the heavens, let y...  \n",
       "9   [God’s name has been taken out of many Bibles ...  \n",
       "10    [[Watch the video ], [[Does God Have a Name?]]]  \n",
       "11          [Sorry, the media player failed to load.]  \n",
       "12                            [[Download This Video]]  \n",
       "13  [Like this loving father, God is acting for ou...  \n",
       "14  [Does widespread suffering mean that Jehovah i...  \n",
       "15  [God has granted man the dignity of free will....  \n",
       "16  [Jehovah is a God who cares about us. He wants...  \n",
       "17  [Jehovah invites us to draw close to him by sp...  \n",
       "18  [Since Jehovah has given us life, we should lo...  "
      ]
     },
     "execution_count": 36,
     "metadata": {},
     "output_type": "execute_result"
    }
   ],
   "source": [
    "test_df = pd.DataFrame({\n",
    "'Adhola': adh,\n",
    "'English': eng,\n",
    "})\n",
    "print(test_df.info())\n",
    "test_df"
   ]
  },
  {
   "cell_type": "code",
   "execution_count": 37,
   "metadata": {},
   "outputs": [],
   "source": [
    "test_df.to_csv(\"Who_is_God_adh_en-raw.csv\", index=False)"
   ]
  },
  {
   "cell_type": "code",
   "execution_count": 55,
   "metadata": {},
   "outputs": [],
   "source": [
    "adh_big=[]\n",
    "eng_big=[]\n",
    "unequal_idx=[]"
   ]
  },
  {
   "cell_type": "code",
   "execution_count": 56,
   "metadata": {},
   "outputs": [],
   "source": [
    "for i in range(len(adh)):\n",
    "        if adh[i] and eng[i]:\n",
    "          adh_split=adh[i].text.strip().strip(\".\").split(\".\")\n",
    "          eng_split=eng[i].text.strip().strip(\".\").split(\".\")\n",
    "     \n",
    "\n",
    "        if len(adh_split)==len(eng_split) :\n",
    "            adh_big.extend(adh_split)\n",
    "            eng_big.extend(eng_split)\n",
    "            \n",
    "        else:\n",
    "            adh_big.append(adh[i].text)\n",
    "            eng_big.append(eng[i].text)\n",
    "            unequal_idx.append(i)\n"
   ]
  },
  {
   "cell_type": "code",
   "execution_count": 57,
   "metadata": {},
   "outputs": [
    {
     "name": "stdout",
     "output_type": "stream",
     "text": [
      "<class 'pandas.core.frame.DataFrame'>\n",
      "RangeIndex: 44 entries, 0 to 43\n",
      "Data columns (total 2 columns):\n",
      " #   Column   Non-Null Count  Dtype \n",
      "---  ------   --------------  ----- \n",
      " 0   Adhola   44 non-null     object\n",
      " 1   English  44 non-null     object\n",
      "dtypes: object(2)\n",
      "memory usage: 832.0+ bytes\n",
      "None\n"
     ]
    },
    {
     "data": {
      "text/html": [
       "<div>\n",
       "<style scoped>\n",
       "    .dataframe tbody tr th:only-of-type {\n",
       "        vertical-align: middle;\n",
       "    }\n",
       "\n",
       "    .dataframe tbody tr th {\n",
       "        vertical-align: top;\n",
       "    }\n",
       "\n",
       "    .dataframe thead th {\n",
       "        text-align: right;\n",
       "    }\n",
       "</style>\n",
       "<table border=\"1\" class=\"dataframe\">\n",
       "  <thead>\n",
       "    <tr style=\"text-align: right;\">\n",
       "      <th></th>\n",
       "      <th>Adhola</th>\n",
       "      <th>English</th>\n",
       "    </tr>\n",
       "  </thead>\n",
       "  <tbody>\n",
       "    <tr>\n",
       "      <th>0</th>\n",
       "      <td>1</td>\n",
       "      <td>1</td>\n",
       "    </tr>\n",
       "    <tr>\n",
       "      <th>1</th>\n",
       "      <td>Raŋo waripo lamo Were?</td>\n",
       "      <td>Why should we worship God?</td>\n",
       "    </tr>\n",
       "    <tr>\n",
       "      <th>2</th>\n",
       "      <td>2</td>\n",
       "      <td>2</td>\n",
       "    </tr>\n",
       "    <tr>\n",
       "      <th>3</th>\n",
       "      <td>Baibul fonjo wan aŋo kwoŋ Were?</td>\n",
       "      <td>What is God like?</td>\n",
       "    </tr>\n",
       "    <tr>\n",
       "      <th>4</th>\n",
       "      <td>3</td>\n",
       "      <td>3</td>\n",
       "    </tr>\n",
       "    <tr>\n",
       "      <th>5</th>\n",
       "      <td>Were nigi nyinge?</td>\n",
       "      <td>Does God have a name?</td>\n",
       "    </tr>\n",
       "    <tr>\n",
       "      <th>6</th>\n",
       "      <td>4</td>\n",
       "      <td>4</td>\n",
       "    </tr>\n",
       "    <tr>\n",
       "      <th>7</th>\n",
       "      <td>Jehova dewo kwoŋ wan?</td>\n",
       "      <td>Does Jehovah care about us?</td>\n",
       "    </tr>\n",
       "    <tr>\n",
       "      <th>8</th>\n",
       "      <td>5</td>\n",
       "      <td>5</td>\n",
       "    </tr>\n",
       "    <tr>\n",
       "      <th>9</th>\n",
       "      <td>Wanyalo nedi bedo merin pa Were?</td>\n",
       "      <td>How can we draw closer to God?</td>\n",
       "    </tr>\n",
       "    <tr>\n",
       "      <th>10</th>\n",
       "      <td>Were mar’adieri am’ocweyo kis gimoro je</td>\n",
       "      <td>The true God is the Creator of all things</td>\n",
       "    </tr>\n",
       "    <tr>\n",
       "      <th>11</th>\n",
       "      <td>Go ongoye gi cakirok, kendo ongoye gi gike</td>\n",
       "      <td>He had no beginning and will never have an end</td>\n",
       "    </tr>\n",
       "    <tr>\n",
       "      <th>12</th>\n",
       "      <td>(Zabuli 90:2) Wac maber manitie i Baibul wok ...</td>\n",
       "      <td>(Psalm 90:2) He is the Source of the good new...</td>\n",
       "    </tr>\n",
       "    <tr>\n",
       "      <th>13</th>\n",
       "      <td>(1 Timothe 1:11) Rupiri Were am’omiyo wan kwo...</td>\n",
       "      <td>(1 Timothy 1:11) Since God gave us life, we s...</td>\n",
       "    </tr>\n",
       "    <tr>\n",
       "      <th>14</th>\n",
       "      <td>​—Soma Menyirok 4:11</td>\n",
       "      <td>​—Read Revelation 4:11</td>\n",
       "    </tr>\n",
       "    <tr>\n",
       "      <th>15</th>\n",
       "      <td>Ongoye dhano m’otieko nenoye Were rupiri Were ...</td>\n",
       "      <td>No human has ever seen God because he is a Spi...</td>\n",
       "    </tr>\n",
       "    <tr>\n",
       "      <th>16</th>\n",
       "      <td>Wanyalo fonjere gikipiny makweth ma mako kwoŋ ...</td>\n",
       "      <td>We can learn even more about God’s personality...</td>\n",
       "    </tr>\n",
       "    <tr>\n",
       "      <th>17</th>\n",
       "      <td>Paka gir’anena, Baibul waco ri wan gikipiny m...</td>\n",
       "      <td>For example, it tells us what God likes and w...</td>\n",
       "    </tr>\n",
       "    <tr>\n",
       "      <th>18</th>\n",
       "      <td>​—Soma Zabuli 103:7-10</td>\n",
       "      <td>​—Read Psalm 103:7-10</td>\n",
       "    </tr>\n",
       "    <tr>\n",
       "      <th>19</th>\n",
       "      <td>Yesu owaco ni: “Bawan ma i polo; nyingin wolwo...</td>\n",
       "      <td>Jesus said: “Our Father in the heavens, let yo...</td>\n",
       "    </tr>\n",
       "    <tr>\n",
       "      <th>20</th>\n",
       "      <td>I Baibul mathoth okwanyi woko nyingi Were tike...</td>\n",
       "      <td>God’s name has been taken out of many Bibles a...</td>\n",
       "    </tr>\n",
       "    <tr>\n",
       "      <th>21</th>\n",
       "      <td>To munyo nyaka ondiki Baibul, nyingi were obe...</td>\n",
       "      <td>But when the Bible was written, it contained ...</td>\n",
       "    </tr>\n",
       "    <tr>\n",
       "      <th>22</th>\n",
       "      <td>Yesu ofonjo ji nyingi Were</td>\n",
       "      <td>Jesus made God’s name known when he taught p...</td>\n",
       "    </tr>\n",
       "    <tr>\n",
       "      <th>23</th>\n",
       "      <td>​—Soma Yohana 17:26, NW</td>\n",
       "      <td>​—Read John 17:26</td>\n",
       "    </tr>\n",
       "    <tr>\n",
       "      <th>24</th>\n",
       "      <td>Neni vidiyo Were Nigi Nyinge?</td>\n",
       "      <td>Watch the video Does God Have a Name?</td>\n",
       "    </tr>\n",
       "    <tr>\n",
       "      <th>25</th>\n",
       "      <td>Chwaki ri wan, media player okwero</td>\n",
       "      <td>Sorry, the media player failed to load</td>\n",
       "    </tr>\n",
       "    <tr>\n",
       "      <th>26</th>\n",
       "      <td>Gami Vidiyo Me</td>\n",
       "      <td>Download This Video</td>\n",
       "    </tr>\n",
       "    <tr>\n",
       "      <th>27</th>\n",
       "      <td>Paka janywol me dewo kwoŋ nyathi pere, apaka W...</td>\n",
       "      <td>Like this loving father, God is acting for our...</td>\n",
       "    </tr>\n",
       "    <tr>\n",
       "      <th>28</th>\n",
       "      <td>Candirok madit manitie i piny nyutho ni Jehova...</td>\n",
       "      <td>Does widespread suffering mean that Jehovah is...</td>\n",
       "    </tr>\n",
       "    <tr>\n",
       "      <th>29</th>\n",
       "      <td>​—Soma Yakobo 1:13</td>\n",
       "      <td>​—Read James 1:13</td>\n",
       "    </tr>\n",
       "    <tr>\n",
       "      <th>30</th>\n",
       "      <td>Were omiyo wan thwolo ma yero gimarac kosa gim...</td>\n",
       "      <td>God has granted man the dignity of free will</td>\n",
       "    </tr>\n",
       "    <tr>\n",
       "      <th>31</th>\n",
       "      <td>Wakifoyi tektek bedo ni Were weyo wan to wawe...</td>\n",
       "      <td>Do we not appreciate our freedom to choose to...</td>\n",
       "    </tr>\n",
       "    <tr>\n",
       "      <th>32</th>\n",
       "      <td>Jehova winjo malith swa ka ji jotimo wadi gin...</td>\n",
       "      <td>It saddens Jehovah to see such injustice</td>\n",
       "    </tr>\n",
       "    <tr>\n",
       "      <th>33</th>\n",
       "      <td>​—Soma Cakirok 6:5, 6</td>\n",
       "      <td>​—Read Genesis 6:5, 6</td>\n",
       "    </tr>\n",
       "    <tr>\n",
       "      <th>34</th>\n",
       "      <td>Jehova obedo Were ma dewo kwoŋ wan</td>\n",
       "      <td>Jehovah is a God who cares about us</td>\n",
       "    </tr>\n",
       "    <tr>\n",
       "      <th>35</th>\n",
       "      <td>Go mito ni walimi kisangala i kwo</td>\n",
       "      <td>He wants us to enjoy life</td>\n",
       "    </tr>\n",
       "    <tr>\n",
       "      <th>36</th>\n",
       "      <td>Go cegin kwanyo woko candirok kodi joma kelo ...</td>\n",
       "      <td>Soon he will eliminate suffering and those wh...</td>\n",
       "    </tr>\n",
       "    <tr>\n",
       "      <th>37</th>\n",
       "      <td>Were ni g’atoŋa maber m’omiyo go fodi kokwany...</td>\n",
       "      <td>Meanwhile, he has good reason to allow suffer...</td>\n",
       "    </tr>\n",
       "    <tr>\n",
       "      <th>38</th>\n",
       "      <td>I fonji mar’aboro ma kitawo me, ilaŋeyo atoŋa no</td>\n",
       "      <td>In Lesson 8, we will learn what that reason is</td>\n",
       "    </tr>\n",
       "    <tr>\n",
       "      <th>39</th>\n",
       "      <td>​—Soma 2 Petero 2:9; 3:7, 13</td>\n",
       "      <td>​—Read 2 Peter 2:9; 3:7, 13</td>\n",
       "    </tr>\n",
       "    <tr>\n",
       "      <th>40</th>\n",
       "      <td>Jehova mito wabedi merin pere. Go mito ni wakw...</td>\n",
       "      <td>Jehovah invites us to draw close to him by spe...</td>\n",
       "    </tr>\n",
       "    <tr>\n",
       "      <th>41</th>\n",
       "      <td>Rupiri Jehova am’omiyo wan kwo, waripo maro go...</td>\n",
       "      <td>Since Jehovah has given us life, we should lov...</td>\n",
       "    </tr>\n",
       "    <tr>\n",
       "      <th>42</th>\n",
       "      <td>(Mariko 12:30) K’imedere fonjirok gima mako k...</td>\n",
       "      <td>(Mark 12:30) As you express your love for God...</td>\n",
       "    </tr>\n",
       "    <tr>\n",
       "      <th>43</th>\n",
       "      <td>​—Soma 1 Timothe 2:4; 1 Yohana 5:3</td>\n",
       "      <td>​—Read 1 Timothy 2:4; 1 John 5:3</td>\n",
       "    </tr>\n",
       "  </tbody>\n",
       "</table>\n",
       "</div>"
      ],
      "text/plain": [
       "                                               Adhola  \\\n",
       "0                                                   1   \n",
       "1                              Raŋo waripo lamo Were?   \n",
       "2                                                   2   \n",
       "3                     Baibul fonjo wan aŋo kwoŋ Were?   \n",
       "4                                                   3   \n",
       "5                                   Were nigi nyinge?   \n",
       "6                                                   4   \n",
       "7                               Jehova dewo kwoŋ wan?   \n",
       "8                                                   5   \n",
       "9                    Wanyalo nedi bedo merin pa Were?   \n",
       "10            Were mar’adieri am’ocweyo kis gimoro je   \n",
       "11         Go ongoye gi cakirok, kendo ongoye gi gike   \n",
       "12   (Zabuli 90:2) Wac maber manitie i Baibul wok ...   \n",
       "13   (1 Timothe 1:11) Rupiri Were am’omiyo wan kwo...   \n",
       "14                               ​—Soma Menyirok 4:11   \n",
       "15  Ongoye dhano m’otieko nenoye Were rupiri Were ...   \n",
       "16  Wanyalo fonjere gikipiny makweth ma mako kwoŋ ...   \n",
       "17   Paka gir’anena, Baibul waco ri wan gikipiny m...   \n",
       "18                             ​—Soma Zabuli 103:7-10   \n",
       "19  Yesu owaco ni: “Bawan ma i polo; nyingin wolwo...   \n",
       "20  I Baibul mathoth okwanyi woko nyingi Were tike...   \n",
       "21   To munyo nyaka ondiki Baibul, nyingi were obe...   \n",
       "22                         Yesu ofonjo ji nyingi Were   \n",
       "23                            ​—Soma Yohana 17:26, NW   \n",
       "24                      Neni vidiyo Were Nigi Nyinge?   \n",
       "25                 Chwaki ri wan, media player okwero   \n",
       "26                                     Gami Vidiyo Me   \n",
       "27  Paka janywol me dewo kwoŋ nyathi pere, apaka W...   \n",
       "28  Candirok madit manitie i piny nyutho ni Jehova...   \n",
       "29                                 ​—Soma Yakobo 1:13   \n",
       "30  Were omiyo wan thwolo ma yero gimarac kosa gim...   \n",
       "31   Wakifoyi tektek bedo ni Were weyo wan to wawe...   \n",
       "32   Jehova winjo malith swa ka ji jotimo wadi gin...   \n",
       "33                              ​—Soma Cakirok 6:5, 6   \n",
       "34                 Jehova obedo Were ma dewo kwoŋ wan   \n",
       "35                  Go mito ni walimi kisangala i kwo   \n",
       "36   Go cegin kwanyo woko candirok kodi joma kelo ...   \n",
       "37   Were ni g’atoŋa maber m’omiyo go fodi kokwany...   \n",
       "38   I fonji mar’aboro ma kitawo me, ilaŋeyo atoŋa no   \n",
       "39                       ​—Soma 2 Petero 2:9; 3:7, 13   \n",
       "40  Jehova mito wabedi merin pere. Go mito ni wakw...   \n",
       "41  Rupiri Jehova am’omiyo wan kwo, waripo maro go...   \n",
       "42   (Mariko 12:30) K’imedere fonjirok gima mako k...   \n",
       "43                 ​—Soma 1 Timothe 2:4; 1 Yohana 5:3   \n",
       "\n",
       "                                              English  \n",
       "0                                                   1  \n",
       "1                          Why should we worship God?  \n",
       "2                                                   2  \n",
       "3                                   What is God like?  \n",
       "4                                                   3  \n",
       "5                               Does God have a name?  \n",
       "6                                                   4  \n",
       "7                         Does Jehovah care about us?  \n",
       "8                                                   5  \n",
       "9                      How can we draw closer to God?  \n",
       "10          The true God is the Creator of all things  \n",
       "11     He had no beginning and will never have an end  \n",
       "12   (Psalm 90:2) He is the Source of the good new...  \n",
       "13   (1 Timothy 1:11) Since God gave us life, we s...  \n",
       "14                             ​—Read Revelation 4:11  \n",
       "15  No human has ever seen God because he is a Spi...  \n",
       "16  We can learn even more about God’s personality...  \n",
       "17   For example, it tells us what God likes and w...  \n",
       "18                              ​—Read Psalm 103:7-10  \n",
       "19  Jesus said: “Our Father in the heavens, let yo...  \n",
       "20  God’s name has been taken out of many Bibles a...  \n",
       "21   But when the Bible was written, it contained ...  \n",
       "22    Jesus made God’s name known when he taught p...  \n",
       "23                                  ​—Read John 17:26  \n",
       "24              Watch the video Does God Have a Name?  \n",
       "25             Sorry, the media player failed to load  \n",
       "26                                Download This Video  \n",
       "27  Like this loving father, God is acting for our...  \n",
       "28  Does widespread suffering mean that Jehovah is...  \n",
       "29                                  ​—Read James 1:13  \n",
       "30       God has granted man the dignity of free will  \n",
       "31   Do we not appreciate our freedom to choose to...  \n",
       "32           It saddens Jehovah to see such injustice  \n",
       "33                              ​—Read Genesis 6:5, 6  \n",
       "34                Jehovah is a God who cares about us  \n",
       "35                          He wants us to enjoy life  \n",
       "36   Soon he will eliminate suffering and those wh...  \n",
       "37   Meanwhile, he has good reason to allow suffer...  \n",
       "38     In Lesson 8, we will learn what that reason is  \n",
       "39                        ​—Read 2 Peter 2:9; 3:7, 13  \n",
       "40  Jehovah invites us to draw close to him by spe...  \n",
       "41  Since Jehovah has given us life, we should lov...  \n",
       "42   (Mark 12:30) As you express your love for God...  \n",
       "43                   ​—Read 1 Timothy 2:4; 1 John 5:3  "
      ]
     },
     "execution_count": 57,
     "metadata": {},
     "output_type": "execute_result"
    }
   ],
   "source": [
    "big_df = pd.DataFrame({\n",
    "'Adhola': adh_big,\n",
    "'English': eng_big,\n",
    "})\n",
    "print(big_df.info())\n",
    "big_df"
   ]
  },
  {
   "cell_type": "code",
   "execution_count": 58,
   "metadata": {},
   "outputs": [
    {
     "data": {
      "text/plain": [
       "[6, 8, 17]"
      ]
     },
     "execution_count": 58,
     "metadata": {},
     "output_type": "execute_result"
    }
   ],
   "source": [
    "unequal_idx"
   ]
  },
  {
   "cell_type": "code",
   "execution_count": 59,
   "metadata": {},
   "outputs": [],
   "source": [
    "big_df.to_csv(\"Who_is_God_adh_en-split.csv\", index=False)"
   ]
  },
  {
   "cell_type": "code",
   "execution_count": 65,
   "metadata": {},
   "outputs": [],
   "source": [
    "stry_ids=[\"0302/\", \"0067/\", \"0001/\", \"0004/\",\"0201/\", \"0243/\",\"0141/\"]\n",
    "stry_names=[\"Fire\",\"Cooking\", \"A very tall man\", \"Goat, Dog, and Cow\",\"Donkey Child\",\"Holidays with grandmother\",\"Chicken and Millipede\"]\n",
    "stry_no_line=[9,9,12,9,21,21,13]"
   ]
  },
  {
   "cell_type": "code",
   "execution_count": null,
   "metadata": {},
   "outputs": [],
   "source": []
  },
  {
   "cell_type": "code",
   "execution_count": 78,
   "metadata": {},
   "outputs": [
    {
     "data": {
      "text/plain": [
       "94"
      ]
     },
     "execution_count": 78,
     "metadata": {},
     "output_type": "execute_result"
    }
   ],
   "source": [
    "\n",
    "np.sum(stry_no_line)"
   ]
  },
  {
   "cell_type": "code",
   "execution_count": null,
   "metadata": {},
   "outputs": [],
   "source": [
    "line_containers = html_soup.find_all('div', class_ = 'columns')"
   ]
  },
  {
   "cell_type": "code",
   "execution_count": 51,
   "metadata": {},
   "outputs": [],
   "source": [
    "adh=[]\n",
    "eng=[]\n",
    "swa=[]"
   ]
  },
  {
   "cell_type": "code",
   "execution_count": 74,
   "metadata": {},
   "outputs": [],
   "source": [
    "headings=line_containers[0].h1.find_all(\"span\")"
   ]
  },
  {
   "cell_type": "code",
   "execution_count": 75,
   "metadata": {},
   "outputs": [
    {
     "data": {
      "text/plain": [
       "[<span class=\"def\">Tedo</span>,\n",
       " <span class=\"l1\">Cooking</span>,\n",
       " <span class=\"l2\">Kupika</span>]"
      ]
     },
     "execution_count": 75,
     "metadata": {},
     "output_type": "execute_result"
    }
   ],
   "source": [
    "headings"
   ]
  },
  {
   "cell_type": "code",
   "execution_count": 55,
   "metadata": {},
   "outputs": [],
   "source": [
    "adh.append(headings[0].text)\n",
    "eng.append(headings[1].text)\n",
    "swa.append(headings[2].text)"
   ]
  },
  {
   "cell_type": "code",
   "execution_count": 56,
   "metadata": {},
   "outputs": [
    {
     "data": {
      "text/plain": [
       "8"
      ]
     },
     "execution_count": 56,
     "metadata": {},
     "output_type": "execute_result"
    }
   ],
   "source": [
    "line_containers=line_containers[1:9]\n",
    "len(line_containers)"
   ]
  },
  {
   "cell_type": "code",
   "execution_count": 57,
   "metadata": {},
   "outputs": [],
   "source": [
    "for line in line_containers:\n",
    "    sent=line.find_all(\"h3\")\n",
    "    if len(sent)>0: \n",
    "        adh.append(sent[0].text)\n",
    "        eng.append(sent[1].text)\n",
    "        swa.append(sent[2].text)\n",
    "\n",
    "    "
   ]
  },
  {
   "cell_type": "code",
   "execution_count": 62,
   "metadata": {},
   "outputs": [
    {
     "name": "stdout",
     "output_type": "stream",
     "text": [
      "<class 'pandas.core.frame.DataFrame'>\n",
      "RangeIndex: 9 entries, 0 to 8\n",
      "Data columns (total 3 columns):\n",
      " #   Column   Non-Null Count  Dtype \n",
      "---  ------   --------------  ----- \n",
      " 0   Adhola   9 non-null      object\n",
      " 1   English  9 non-null      object\n",
      " 2   Swahili  9 non-null      object\n",
      "dtypes: object(3)\n",
      "memory usage: 344.0+ bytes\n",
      "None\n"
     ]
    },
    {
     "data": {
      "text/html": [
       "<div>\n",
       "<style scoped>\n",
       "    .dataframe tbody tr th:only-of-type {\n",
       "        vertical-align: middle;\n",
       "    }\n",
       "\n",
       "    .dataframe tbody tr th {\n",
       "        vertical-align: top;\n",
       "    }\n",
       "\n",
       "    .dataframe thead th {\n",
       "        text-align: right;\n",
       "    }\n",
       "</style>\n",
       "<table border=\"1\" class=\"dataframe\">\n",
       "  <thead>\n",
       "    <tr style=\"text-align: right;\">\n",
       "      <th></th>\n",
       "      <th>Adhola</th>\n",
       "      <th>English</th>\n",
       "      <th>Swahili</th>\n",
       "    </tr>\n",
       "  </thead>\n",
       "  <tbody>\n",
       "    <tr>\n",
       "      <th>0</th>\n",
       "      <td>Dyel, Gwok Kodi Dhyaŋ</td>\n",
       "      <td>Goat, Dog, and Cow</td>\n",
       "      <td>Mbuzi, Mbwa na Ng'ombe</td>\n",
       "    </tr>\n",
       "    <tr>\n",
       "      <th>1</th>\n",
       "      <td>\\n\\tCango cango Dyel, Gwok gi Dhyaŋ jo bedo me...</td>\n",
       "      <td>\\n\\tGoat, Dog, and Cow\\nwere great friends. On...</td>\n",
       "      <td>\\n\\tMbuzi, Mbwa na Ng’ombe walikuwa marafiki w...</td>\n",
       "    </tr>\n",
       "    <tr>\n",
       "      <th>2</th>\n",
       "      <td>\\n\\tJo tundo kama joloro iye. Jagwey motoka op...</td>\n",
       "      <td>\\n\\tWhen they reached the\\nend of their journe...</td>\n",
       "      <td>\\n\\tWalipofika mwisho wa safari yao, dereva al...</td>\n",
       "    </tr>\n",
       "    <tr>\n",
       "      <th>3</th>\n",
       "      <td>\\n\\tGwok oculo pesa ma thoth, rupir go oyido o...</td>\n",
       "      <td>\\n\\tDog paid a bit extra,\\nbecause he did not\\...</td>\n",
       "      <td>\\n\\tMbwa alilipa zaidi kidogo kwa sababu hakuw...</td>\n",
       "    </tr>\n",
       "    <tr>\n",
       "      <th>4</th>\n",
       "      <td>\\n\\tJagwey motoka oyido chegin dwoko ri Gwok p...</td>\n",
       "      <td>\\n\\tThe driver was about to\\ngive Dog his chan...</td>\n",
       "      <td>\\n\\tDereva alipokaribia kumpa Mbwa chenji yake...</td>\n",
       "    </tr>\n",
       "    <tr>\n",
       "      <th>5</th>\n",
       "      <td>\\n\\tJagwey motoka omako nge swa. Go otugila mo...</td>\n",
       "      <td>\\n\\tThe driver was very\\nannoyed. He drove\\naw...</td>\n",
       "      <td>\\n\\tDereva alikasirika sana. Aliondoka bila ku...</td>\n",
       "    </tr>\n",
       "    <tr>\n",
       "      <th>6</th>\n",
       "      <td>\\n\\tMeno, ama omiyo kiri konon, fodi Gwok ŋwec...</td>\n",
       "      <td>\\n\\tThat is why, even\\ntoday, Dog runs\\ntoward...</td>\n",
       "      <td>\\n\\tHiyo ndiyo sababu hadi leo Mbwa hukimbiza ...</td>\n",
       "    </tr>\n",
       "    <tr>\n",
       "      <th>7</th>\n",
       "      <td>\\n\\tDyel ŋweco aŋweca ka owinjo mor ma motoka....</td>\n",
       "      <td>\\n\\tGoat runs away from\\nthe sound of a car. S...</td>\n",
       "      <td>\\n\\tMbuzi hukimbia anaposikia mlio wa gari. An...</td>\n",
       "    </tr>\n",
       "    <tr>\n",
       "      <th>8</th>\n",
       "      <td>\\n\\tDhyaŋ ki dew ri go kwoŋ motokin. Dhyaŋ gal...</td>\n",
       "      <td>\\n\\tAnd Cow is not\\nbothered when a car is\\nco...</td>\n",
       "      <td>\\n\\tNa Ng’ombe hababaiki gari likiwa linakuja....</td>\n",
       "    </tr>\n",
       "  </tbody>\n",
       "</table>\n",
       "</div>"
      ],
      "text/plain": [
       "                                              Adhola  \\\n",
       "0                              Dyel, Gwok Kodi Dhyaŋ   \n",
       "1  \\n\\tCango cango Dyel, Gwok gi Dhyaŋ jo bedo me...   \n",
       "2  \\n\\tJo tundo kama joloro iye. Jagwey motoka op...   \n",
       "3  \\n\\tGwok oculo pesa ma thoth, rupir go oyido o...   \n",
       "4  \\n\\tJagwey motoka oyido chegin dwoko ri Gwok p...   \n",
       "5  \\n\\tJagwey motoka omako nge swa. Go otugila mo...   \n",
       "6  \\n\\tMeno, ama omiyo kiri konon, fodi Gwok ŋwec...   \n",
       "7  \\n\\tDyel ŋweco aŋweca ka owinjo mor ma motoka....   \n",
       "8  \\n\\tDhyaŋ ki dew ri go kwoŋ motokin. Dhyaŋ gal...   \n",
       "\n",
       "                                             English  \\\n",
       "0                                 Goat, Dog, and Cow   \n",
       "1  \\n\\tGoat, Dog, and Cow\\nwere great friends. On...   \n",
       "2  \\n\\tWhen they reached the\\nend of their journe...   \n",
       "3  \\n\\tDog paid a bit extra,\\nbecause he did not\\...   \n",
       "4  \\n\\tThe driver was about to\\ngive Dog his chan...   \n",
       "5  \\n\\tThe driver was very\\nannoyed. He drove\\naw...   \n",
       "6  \\n\\tThat is why, even\\ntoday, Dog runs\\ntoward...   \n",
       "7  \\n\\tGoat runs away from\\nthe sound of a car. S...   \n",
       "8  \\n\\tAnd Cow is not\\nbothered when a car is\\nco...   \n",
       "\n",
       "                                             Swahili  \n",
       "0                             Mbuzi, Mbwa na Ng'ombe  \n",
       "1  \\n\\tMbuzi, Mbwa na Ng’ombe walikuwa marafiki w...  \n",
       "2  \\n\\tWalipofika mwisho wa safari yao, dereva al...  \n",
       "3  \\n\\tMbwa alilipa zaidi kidogo kwa sababu hakuw...  \n",
       "4  \\n\\tDereva alipokaribia kumpa Mbwa chenji yake...  \n",
       "5  \\n\\tDereva alikasirika sana. Aliondoka bila ku...  \n",
       "6  \\n\\tHiyo ndiyo sababu hadi leo Mbwa hukimbiza ...  \n",
       "7  \\n\\tMbuzi hukimbia anaposikia mlio wa gari. An...  \n",
       "8  \\n\\tNa Ng’ombe hababaiki gari likiwa linakuja....  "
      ]
     },
     "execution_count": 62,
     "metadata": {},
     "output_type": "execute_result"
    }
   ],
   "source": [
    "test_df = pd.DataFrame({\n",
    "'Adhola': adh,\n",
    "'English': eng,\n",
    "'Swahili': swa,\n",
    "})\n",
    "print(test_df.info())\n",
    "test_df"
   ]
  },
  {
   "cell_type": "code",
   "execution_count": 60,
   "metadata": {},
   "outputs": [
    {
     "data": {
      "text/plain": [
       "9"
      ]
     },
     "execution_count": 60,
     "metadata": {},
     "output_type": "execute_result"
    }
   ],
   "source": [
    "len(adh)"
   ]
  },
  {
   "cell_type": "code",
   "execution_count": 76,
   "metadata": {},
   "outputs": [
    {
     "name": "stdout",
     "output_type": "stream",
     "text": [
      "Request:7; Frequency: 0.07809122244363015 requests/s\n"
     ]
    }
   ],
   "source": [
    "adh=[]\n",
    "eng=[]\n",
    "swa=[]\n",
    "\n",
    "# Preparing the monitoring of the loop\n",
    "start_time = time()\n",
    "requests = 0\n",
    "\n",
    "# For every year in the interval 2000-2017\n",
    "for i in range(len(stry_ids)):\n",
    "\n",
    "        response = get(url+stry_ids[i])\n",
    "        # Pause the loop\n",
    "        sleep(randint(8,15))\n",
    "\n",
    "        # Monitor the requests\n",
    "        requests += 1\n",
    "        elapsed_time = time() - start_time\n",
    "        print('Request:{}; Frequency: {} requests/s'.format(requests, requests/elapsed_time))\n",
    "        clear_output(wait = True)\n",
    "\n",
    "        # Throw a warning for non-200 status codes\n",
    "        if response.status_code != 200:\n",
    "            warn('Request: {}; Status code: {}'.format(requests, response.status_code))\n",
    "\n",
    "        # Break the loop if the number of requests is greater than expected\n",
    "        if requests > 72:\n",
    "            warn('Number of requests was greater than expected.')\n",
    "            break\n",
    "\n",
    "        # Parse the content of the request with BeautifulSoup\n",
    "        page_html = BeautifulSoup(response.text, 'html.parser')\n",
    "\n",
    "        # Select all the sentences in that page\n",
    "        line_containers = page_html.find_all('div', class_ = 'columns')\n",
    "                \n",
    "\n",
    "        # For every sentence of the book\n",
    "        for i in range(len(line_containers)-1):\n",
    "            if i==0:\n",
    "                sent=line_containers[0].h1.find_all(\"span\")\n",
    "            else:\n",
    "                sent=line_containers[i].find_all(\"h3\")\n",
    "            if len(sent)>0: \n",
    "                adh.append(sent[0].text)\n",
    "                eng.append(sent[1].text)\n",
    "                swa.append(sent[2].text)"
   ]
  },
  {
   "cell_type": "code",
   "execution_count": 77,
   "metadata": {},
   "outputs": [
    {
     "name": "stdout",
     "output_type": "stream",
     "text": [
      "<class 'pandas.core.frame.DataFrame'>\n",
      "RangeIndex: 94 entries, 0 to 93\n",
      "Data columns (total 3 columns):\n",
      " #   Column   Non-Null Count  Dtype \n",
      "---  ------   --------------  ----- \n",
      " 0   Adhola   94 non-null     object\n",
      " 1   English  94 non-null     object\n",
      " 2   Swahili  94 non-null     object\n",
      "dtypes: object(3)\n",
      "memory usage: 2.3+ KB\n",
      "None\n"
     ]
    },
    {
     "data": {
      "text/html": [
       "<div>\n",
       "<style scoped>\n",
       "    .dataframe tbody tr th:only-of-type {\n",
       "        vertical-align: middle;\n",
       "    }\n",
       "\n",
       "    .dataframe tbody tr th {\n",
       "        vertical-align: top;\n",
       "    }\n",
       "\n",
       "    .dataframe thead th {\n",
       "        text-align: right;\n",
       "    }\n",
       "</style>\n",
       "<table border=\"1\" class=\"dataframe\">\n",
       "  <thead>\n",
       "    <tr style=\"text-align: right;\">\n",
       "      <th></th>\n",
       "      <th>Adhola</th>\n",
       "      <th>English</th>\n",
       "      <th>Swahili</th>\n",
       "    </tr>\n",
       "  </thead>\n",
       "  <tbody>\n",
       "    <tr>\n",
       "      <th>0</th>\n",
       "      <td>Mac</td>\n",
       "      <td>Fire</td>\n",
       "      <td>Moto</td>\n",
       "    </tr>\n",
       "    <tr>\n",
       "      <th>1</th>\n",
       "      <td>\\n\\tA nen mac!\\n\\t</td>\n",
       "      <td>\\n\\tLook, fire!\\n\\t</td>\n",
       "      <td>\\n\\tAngalia, moto!\\n\\t</td>\n",
       "    </tr>\n",
       "    <tr>\n",
       "      <th>2</th>\n",
       "      <td>\\n\\tMac waŋo gi kipiny.\\n\\t</td>\n",
       "      <td>\\n\\tFire burns.\\n\\t</td>\n",
       "      <td>\\n\\tMoto unachoma.\\n\\t</td>\n",
       "    </tr>\n",
       "    <tr>\n",
       "      <th>3</th>\n",
       "      <td>\\n\\tWatedo gi mac.\\n\\t</td>\n",
       "      <td>\\n\\tFire cooks.\\n\\t</td>\n",
       "      <td>\\n\\tMoto unatumika kupika.\\n\\t</td>\n",
       "    </tr>\n",
       "    <tr>\n",
       "      <th>4</th>\n",
       "      <td>\\n\\tMac kelo ri wan lyetho.\\n\\t</td>\n",
       "      <td>\\n\\tFire gives warmth.\\n\\t</td>\n",
       "      <td>\\n\\tMoto unaleta joto.\\n\\t</td>\n",
       "    </tr>\n",
       "    <tr>\n",
       "      <th>...</th>\n",
       "      <td>...</td>\n",
       "      <td>...</td>\n",
       "      <td>...</td>\n",
       "    </tr>\n",
       "    <tr>\n",
       "      <th>89</th>\n",
       "      <td>\\n\\tNyaka to yoki Ongongolo winjo dwondo jo ma...</td>\n",
       "      <td>\\n\\tThen Mother Millipede heard a tiny voice. ...</td>\n",
       "      <td>\\n\\tMama Jongoo akasikia sauti kwa mbali. “Nis...</td>\n",
       "    </tr>\n",
       "    <tr>\n",
       "      <th>90</th>\n",
       "      <td>\\n\\tYoki Ongongolo okoko, ori meni perini ma w...</td>\n",
       "      <td>\\n\\tMother Millipede shouted, “Use your specia...</td>\n",
       "      <td>\\n\\tMama Jongoo alipiga kelele, “Tumia nguvu y...</td>\n",
       "    </tr>\n",
       "    <tr>\n",
       "      <th>91</th>\n",
       "      <td>\\n\\tGweno ochukere. Nyaka to mwonyo gi ngulo. ...</td>\n",
       "      <td>\\n\\tChicken burped. Then she swallowed and spa...</td>\n",
       "      <td>\\n\\tKuku akabeuwa. Akameza mate na kutema. Hal...</td>\n",
       "    </tr>\n",
       "    <tr>\n",
       "      <th>92</th>\n",
       "      <td>\\n\\tGweno owolo nyuka owolo woko Ongongolo iyi...</td>\n",
       "      <td>\\n\\tChicken coughed until she coughed out the ...</td>\n",
       "      <td>\\n\\tKuku alikohoa, hadi akamtema jongoo aliyek...</td>\n",
       "    </tr>\n",
       "    <tr>\n",
       "      <th>93</th>\n",
       "      <td>\\n\\tWoki isawa no, Gwendi kodi Ongongolini jub...</td>\n",
       "      <td>\\n\\tFrom that time, chickens and millipedes we...</td>\n",
       "      <td>\\n\\tTangu hapo, Kuku na Jongoo ni maadui.\\n\\t</td>\n",
       "    </tr>\n",
       "  </tbody>\n",
       "</table>\n",
       "<p>94 rows × 3 columns</p>\n",
       "</div>"
      ],
      "text/plain": [
       "                                               Adhola  \\\n",
       "0                                                 Mac   \n",
       "1                                  \\n\\tA nen mac!\\n\\t   \n",
       "2                         \\n\\tMac waŋo gi kipiny.\\n\\t   \n",
       "3                              \\n\\tWatedo gi mac.\\n\\t   \n",
       "4                     \\n\\tMac kelo ri wan lyetho.\\n\\t   \n",
       "..                                                ...   \n",
       "89  \\n\\tNyaka to yoki Ongongolo winjo dwondo jo ma...   \n",
       "90  \\n\\tYoki Ongongolo okoko, ori meni perini ma w...   \n",
       "91  \\n\\tGweno ochukere. Nyaka to mwonyo gi ngulo. ...   \n",
       "92  \\n\\tGweno owolo nyuka owolo woko Ongongolo iyi...   \n",
       "93  \\n\\tWoki isawa no, Gwendi kodi Ongongolini jub...   \n",
       "\n",
       "                                              English  \\\n",
       "0                                                Fire   \n",
       "1                                 \\n\\tLook, fire!\\n\\t   \n",
       "2                                 \\n\\tFire burns.\\n\\t   \n",
       "3                                 \\n\\tFire cooks.\\n\\t   \n",
       "4                          \\n\\tFire gives warmth.\\n\\t   \n",
       "..                                                ...   \n",
       "89  \\n\\tThen Mother Millipede heard a tiny voice. ...   \n",
       "90  \\n\\tMother Millipede shouted, “Use your specia...   \n",
       "91  \\n\\tChicken burped. Then she swallowed and spa...   \n",
       "92  \\n\\tChicken coughed until she coughed out the ...   \n",
       "93  \\n\\tFrom that time, chickens and millipedes we...   \n",
       "\n",
       "                                              Swahili  \n",
       "0                                                Moto  \n",
       "1                              \\n\\tAngalia, moto!\\n\\t  \n",
       "2                              \\n\\tMoto unachoma.\\n\\t  \n",
       "3                      \\n\\tMoto unatumika kupika.\\n\\t  \n",
       "4                          \\n\\tMoto unaleta joto.\\n\\t  \n",
       "..                                                ...  \n",
       "89  \\n\\tMama Jongoo akasikia sauti kwa mbali. “Nis...  \n",
       "90  \\n\\tMama Jongoo alipiga kelele, “Tumia nguvu y...  \n",
       "91  \\n\\tKuku akabeuwa. Akameza mate na kutema. Hal...  \n",
       "92  \\n\\tKuku alikohoa, hadi akamtema jongoo aliyek...  \n",
       "93      \\n\\tTangu hapo, Kuku na Jongoo ni maadui.\\n\\t  \n",
       "\n",
       "[94 rows x 3 columns]"
      ]
     },
     "execution_count": 77,
     "metadata": {},
     "output_type": "execute_result"
    }
   ],
   "source": [
    "import pandas as pd\n",
    "test_df = pd.DataFrame({\n",
    "'Adhola': adh,\n",
    "'English': eng,\n",
    "'Swahili': swa,\n",
    "})\n",
    "print(test_df.info())\n",
    "test_df"
   ]
  },
  {
   "cell_type": "code",
   "execution_count": 83,
   "metadata": {},
   "outputs": [],
   "source": [
    "test_df.to_csv(\"global_strybks_adh_en_sw-raw.csv\", index=False)"
   ]
  },
  {
   "cell_type": "code",
   "execution_count": 97,
   "metadata": {},
   "outputs": [],
   "source": [
    "stripped=test_df.apply(lambda x : x.str.strip(), axis=1)"
   ]
  },
  {
   "cell_type": "code",
   "execution_count": 98,
   "metadata": {},
   "outputs": [],
   "source": [
    "stripped.to_csv(\"global_strybks_adh_en_sw-raw-stripped.csv\", index=False)"
   ]
  },
  {
   "cell_type": "code",
   "execution_count": 131,
   "metadata": {},
   "outputs": [
    {
     "data": {
      "text/plain": [
       "['Mac waŋo gi kipiny']"
      ]
     },
     "execution_count": 131,
     "metadata": {},
     "output_type": "execute_result"
    }
   ],
   "source": [
    "adh[2].strip().strip(\".\").split(\".\")"
   ]
  },
  {
   "cell_type": "code",
   "execution_count": 130,
   "metadata": {},
   "outputs": [
    {
     "data": {
      "text/plain": [
       "'Mac'"
      ]
     },
     "execution_count": 130,
     "metadata": {},
     "output_type": "execute_result"
    }
   ],
   "source": [
    "adh[0]"
   ]
  },
  {
   "cell_type": "code",
   "execution_count": 102,
   "metadata": {},
   "outputs": [
    {
     "data": {
      "text/plain": [
       "['Then Mother Millipede heard a tiny voice',\n",
       " ' “Help me mom!” cried the voice',\n",
       " ' Mother Millipede looked around and listened carefully',\n",
       " ' The voice came from inside the chicken',\n",
       " '']"
      ]
     },
     "execution_count": 102,
     "metadata": {},
     "output_type": "execute_result"
    }
   ],
   "source": [
    "eng[89].strip().strisplit(\".\")"
   ]
  },
  {
   "cell_type": "code",
   "execution_count": 103,
   "metadata": {},
   "outputs": [
    {
     "data": {
      "text/plain": [
       "['Mama Jongoo akasikia sauti kwa mbali',\n",
       " ' “Nisaidie mama!” ile sauti ililia',\n",
       " ' Mama Jongoo akaangalia huku na kule na kusikiliza kwa makini',\n",
       " ' Sauti ilitokea tumboni mwa kuku',\n",
       " '']"
      ]
     },
     "execution_count": 103,
     "metadata": {},
     "output_type": "execute_result"
    }
   ],
   "source": [
    "swa[89].strip().split(\".\")"
   ]
  },
  {
   "cell_type": "code",
   "execution_count": 134,
   "metadata": {},
   "outputs": [],
   "source": [
    "adh_big=[]\n",
    "eng_big=[]\n",
    "swa_big=[]"
   ]
  },
  {
   "cell_type": "code",
   "execution_count": 135,
   "metadata": {},
   "outputs": [],
   "source": [
    "unequal_idx=[]"
   ]
  },
  {
   "cell_type": "code",
   "execution_count": 136,
   "metadata": {},
   "outputs": [],
   "source": [
    "for i in range(len(adh)):\n",
    "        adh_split=adh[i].strip().strip(\".\").split(\".\")\n",
    "        eng_split=eng[i].strip().strip(\".\").split(\".\")\n",
    "        swa_split=swa[i].strip().strip(\".\").split(\".\")\n",
    "#         len_adh_split=len(adh_split)\n",
    "#         len_eng_split=len(eng_split) \n",
    "#         len_swa_split=len(swa_split)\n",
    "\n",
    "        if len(adh_split)==len(eng_split) and len(adh_split)==len(swa_split):\n",
    "            adh_big.extend(adh_split)\n",
    "            eng_big.extend(eng_split)\n",
    "            swa_big.extend(swa_split)\n",
    "        else:\n",
    "            adh_big.append(adh[i])\n",
    "            eng_big.append(eng[i])\n",
    "            swa_big.append(swa[i])\n",
    "            unequal_idx.append(i)\n"
   ]
  },
  {
   "cell_type": "code",
   "execution_count": 137,
   "metadata": {},
   "outputs": [
    {
     "name": "stdout",
     "output_type": "stream",
     "text": [
      "<class 'pandas.core.frame.DataFrame'>\n",
      "RangeIndex: 153 entries, 0 to 152\n",
      "Data columns (total 3 columns):\n",
      " #   Column   Non-Null Count  Dtype \n",
      "---  ------   --------------  ----- \n",
      " 0   Adhola   153 non-null    object\n",
      " 1   English  153 non-null    object\n",
      " 2   Swahili  153 non-null    object\n",
      "dtypes: object(3)\n",
      "memory usage: 3.7+ KB\n",
      "None\n"
     ]
    },
    {
     "data": {
      "text/html": [
       "<div>\n",
       "<style scoped>\n",
       "    .dataframe tbody tr th:only-of-type {\n",
       "        vertical-align: middle;\n",
       "    }\n",
       "\n",
       "    .dataframe tbody tr th {\n",
       "        vertical-align: top;\n",
       "    }\n",
       "\n",
       "    .dataframe thead th {\n",
       "        text-align: right;\n",
       "    }\n",
       "</style>\n",
       "<table border=\"1\" class=\"dataframe\">\n",
       "  <thead>\n",
       "    <tr style=\"text-align: right;\">\n",
       "      <th></th>\n",
       "      <th>Adhola</th>\n",
       "      <th>English</th>\n",
       "      <th>Swahili</th>\n",
       "    </tr>\n",
       "  </thead>\n",
       "  <tbody>\n",
       "    <tr>\n",
       "      <th>0</th>\n",
       "      <td>Mac</td>\n",
       "      <td>Fire</td>\n",
       "      <td>Moto</td>\n",
       "    </tr>\n",
       "    <tr>\n",
       "      <th>1</th>\n",
       "      <td>A nen mac!</td>\n",
       "      <td>Look, fire!</td>\n",
       "      <td>Angalia, moto!</td>\n",
       "    </tr>\n",
       "    <tr>\n",
       "      <th>2</th>\n",
       "      <td>Mac waŋo gi kipiny</td>\n",
       "      <td>Fire burns</td>\n",
       "      <td>Moto unachoma</td>\n",
       "    </tr>\n",
       "    <tr>\n",
       "      <th>3</th>\n",
       "      <td>Watedo gi mac</td>\n",
       "      <td>Fire cooks</td>\n",
       "      <td>Moto unatumika kupika</td>\n",
       "    </tr>\n",
       "    <tr>\n",
       "      <th>4</th>\n",
       "      <td>Mac kelo ri wan lyetho</td>\n",
       "      <td>Fire gives warmth</td>\n",
       "      <td>Moto unaleta joto</td>\n",
       "    </tr>\n",
       "    <tr>\n",
       "      <th>...</th>\n",
       "      <td>...</td>\n",
       "      <td>...</td>\n",
       "      <td>...</td>\n",
       "    </tr>\n",
       "    <tr>\n",
       "      <th>148</th>\n",
       "      <td>Gweno ochako kichiroki pa two</td>\n",
       "      <td>Chicken began to feel ill</td>\n",
       "      <td>Kuku akaanza kujisikia mgonjwa</td>\n",
       "    </tr>\n",
       "    <tr>\n",
       "      <th>149</th>\n",
       "      <td>\\n\\tGweno ochukere. Nyaka to mwonyo gi ngulo. ...</td>\n",
       "      <td>\\n\\tChicken burped. Then she swallowed and spa...</td>\n",
       "      <td>\\n\\tKuku akabeuwa. Akameza mate na kutema. Hal...</td>\n",
       "    </tr>\n",
       "    <tr>\n",
       "      <th>150</th>\n",
       "      <td>Gweno owolo nyuka owolo woko Ongongolo iyii go</td>\n",
       "      <td>Chicken coughed until she coughed out the mill...</td>\n",
       "      <td>Kuku alikohoa, hadi akamtema jongoo aliyekuwa ...</td>\n",
       "    </tr>\n",
       "    <tr>\n",
       "      <th>151</th>\n",
       "      <td>Yoki Ongongolo gi nyathi pere jurweta malo iw...</td>\n",
       "      <td>Mother Millipede and her child crawled up a t...</td>\n",
       "      <td>Mama Jongoo na mwanaye wakakwea mti kujificha</td>\n",
       "    </tr>\n",
       "    <tr>\n",
       "      <th>152</th>\n",
       "      <td>Woki isawa no, Gwendi kodi Ongongolini jubedo ...</td>\n",
       "      <td>From that time, chickens and millipedes were e...</td>\n",
       "      <td>Tangu hapo, Kuku na Jongoo ni maadui</td>\n",
       "    </tr>\n",
       "  </tbody>\n",
       "</table>\n",
       "<p>153 rows × 3 columns</p>\n",
       "</div>"
      ],
      "text/plain": [
       "                                                Adhola  \\\n",
       "0                                                  Mac   \n",
       "1                                           A nen mac!   \n",
       "2                                   Mac waŋo gi kipiny   \n",
       "3                                        Watedo gi mac   \n",
       "4                               Mac kelo ri wan lyetho   \n",
       "..                                                 ...   \n",
       "148                      Gweno ochako kichiroki pa two   \n",
       "149  \\n\\tGweno ochukere. Nyaka to mwonyo gi ngulo. ...   \n",
       "150     Gweno owolo nyuka owolo woko Ongongolo iyii go   \n",
       "151   Yoki Ongongolo gi nyathi pere jurweta malo iw...   \n",
       "152  Woki isawa no, Gwendi kodi Ongongolini jubedo ...   \n",
       "\n",
       "                                               English  \\\n",
       "0                                                 Fire   \n",
       "1                                          Look, fire!   \n",
       "2                                           Fire burns   \n",
       "3                                           Fire cooks   \n",
       "4                                    Fire gives warmth   \n",
       "..                                                 ...   \n",
       "148                          Chicken began to feel ill   \n",
       "149  \\n\\tChicken burped. Then she swallowed and spa...   \n",
       "150  Chicken coughed until she coughed out the mill...   \n",
       "151   Mother Millipede and her child crawled up a t...   \n",
       "152  From that time, chickens and millipedes were e...   \n",
       "\n",
       "                                               Swahili  \n",
       "0                                                 Moto  \n",
       "1                                       Angalia, moto!  \n",
       "2                                        Moto unachoma  \n",
       "3                                Moto unatumika kupika  \n",
       "4                                    Moto unaleta joto  \n",
       "..                                                 ...  \n",
       "148                     Kuku akaanza kujisikia mgonjwa  \n",
       "149  \\n\\tKuku akabeuwa. Akameza mate na kutema. Hal...  \n",
       "150  Kuku alikohoa, hadi akamtema jongoo aliyekuwa ...  \n",
       "151      Mama Jongoo na mwanaye wakakwea mti kujificha  \n",
       "152               Tangu hapo, Kuku na Jongoo ni maadui  \n",
       "\n",
       "[153 rows x 3 columns]"
      ]
     },
     "execution_count": 137,
     "metadata": {},
     "output_type": "execute_result"
    }
   ],
   "source": [
    "big_df = pd.DataFrame({\n",
    "'Adhola': adh_big,\n",
    "'English': eng_big,\n",
    "'Swahili': swa_big,\n",
    "})\n",
    "print(big_df.info())\n",
    "big_df"
   ]
  },
  {
   "cell_type": "code",
   "execution_count": 143,
   "metadata": {},
   "outputs": [],
   "source": [
    "big_df=pd.read_csv(\"global_strybks_adh_en_sw-partially-sequenced.csv\")"
   ]
  },
  {
   "cell_type": "code",
   "execution_count": 156,
   "metadata": {},
   "outputs": [],
   "source": [
    "big_df.replace('  ', np.nan, inplace=True)\n",
    "big_df.replace('', np.nan, inplace=True)\n",
    "big_df.replace('\\r\\n', np.nan, inplace=True)\n",
    "big_df.dropna(inplace=True)"
   ]
  },
  {
   "cell_type": "code",
   "execution_count": 138,
   "metadata": {},
   "outputs": [
    {
     "data": {
      "text/plain": [
       "[32, 34, 36, 38, 42, 44, 45, 46, 48, 49, 50, 51, 52, 53, 55, 57, 58, 65, 91]"
      ]
     },
     "execution_count": 138,
     "metadata": {},
     "output_type": "execute_result"
    }
   ],
   "source": [
    "unequal_idx"
   ]
  },
  {
   "cell_type": "code",
   "execution_count": 140,
   "metadata": {},
   "outputs": [],
   "source": [
    "big_df.to_csv(\"global_strybks_adh_en_sw-partially-sequenced.csv\", index=False)"
   ]
  },
  {
   "cell_type": "code",
   "execution_count": null,
   "metadata": {},
   "outputs": [],
   "source": []
  }
 ],
 "metadata": {
  "kernelspec": {
   "display_name": "Python 3",
   "language": "python",
   "name": "python3"
  },
  "language_info": {
   "codemirror_mode": {
    "name": "ipython",
    "version": 3
   },
   "file_extension": ".py",
   "mimetype": "text/x-python",
   "name": "python",
   "nbconvert_exporter": "python",
   "pygments_lexer": "ipython3",
   "version": "3.7.6"
  }
 },
 "nbformat": 4,
 "nbformat_minor": 4
}
